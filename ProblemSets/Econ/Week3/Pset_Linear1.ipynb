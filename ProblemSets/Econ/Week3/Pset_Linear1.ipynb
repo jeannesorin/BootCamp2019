{
 "cells": [
  {
   "cell_type": "markdown",
   "metadata": {},
   "source": [
    "# Exercise 5"
   ]
  },
  {
   "cell_type": "code",
   "execution_count": 6,
   "metadata": {},
   "outputs": [],
   "source": [
    "import numpy as np\n",
    "import scipy as sp\n",
    "from matplotlib import pyplot as plt\n",
    "import math\n",
    "     \n",
    "from scipy.stats import norm"
   ]
  },
  {
   "cell_type": "code",
   "execution_count": 27,
   "metadata": {},
   "outputs": [
    {
     "data": {
      "text/plain": [
       "array([4.42215853e-06, 4.32874660e-14, 1.67894737e+00, 2.16437330e-12,\n",
       "       1.73035950e-13])"
      ]
     },
     "execution_count": 27,
     "metadata": {},
     "output_type": "execute_result"
    }
   ],
   "source": [
    "γ = 2.5 \n",
    "β = .98\n",
    "α = .40\n",
    "δ = .10\n",
    "τ = .05\n",
    "    \n",
    "\n",
    "def solve_dsge5(γ, α, β, δ, τ):\n",
    "    \n",
    "    parameters = (γ, α, β, δ, τ)\n",
    "\n",
    "# System of equations  \n",
    "    def system(x,*parameters):\n",
    "        c, w, r, k, T = x\n",
    "        γ, α, β, δ, τ = parameters\n",
    "        \n",
    "        return[c - (1-τ)*(w + (r - δ)*k) - T,\\\n",
    "               1 - β((r-δ)(1-τ)+1),\\\n",
    "               1 - (c**(-γ))*w*(1-τ),\\\n",
    "               r - α*k**(α-1)* \n",
    "              ]\n",
    "        \n",
    "        return [c - ((1-τ)*(1-α)*((1-β)/(β*(1-τ)*α)+δ)**(1/(α-1)))**(1/γ),\\\n",
    "                r - (1-β) / (β * (1-τ)) - δ,\\\n",
    "                w - (1 - α)*((1-β) / (β*(1-τ)*α) + δ)**(1/(α-1)),\\\n",
    "                k - ((1-β) / (β*(1-τ)*α) + δ)**(1/(α-1)),\\\n",
    "                T - τ * (w + (r - δ)*k)]\n",
    "      \n",
    "    guess = np.array([1.0, 1.0, 1.0, 1.0, 1.0])\n",
    "    parameters = (γ, α, β, δ, τ)\n",
    "    sol = sp.optimize.root(system, guess, method = 'hybr', args=(parameters))\n",
    "    \n",
    "    return(sol.x)\n",
    "\n",
    "solve_dsge5(γ, β, α, δ, τ)\n",
    "\n",
    "\n"
   ]
  },
  {
   "cell_type": "code",
   "execution_count": null,
   "metadata": {},
   "outputs": [],
   "source": []
  },
  {
   "cell_type": "code",
   "execution_count": null,
   "metadata": {},
   "outputs": [],
   "source": []
  }
 ],
 "metadata": {
  "kernelspec": {
   "display_name": "Python 3",
   "language": "python",
   "name": "python3"
  },
  "language_info": {
   "codemirror_mode": {
    "name": "ipython",
    "version": 3
   },
   "file_extension": ".py",
   "mimetype": "text/x-python",
   "name": "python",
   "nbconvert_exporter": "python",
   "pygments_lexer": "ipython3",
   "version": "3.7.3"
  }
 },
 "nbformat": 4,
 "nbformat_minor": 2
}
