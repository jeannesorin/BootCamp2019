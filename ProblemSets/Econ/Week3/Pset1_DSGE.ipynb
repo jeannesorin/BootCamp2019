{
 "cells": [
  {
   "cell_type": "markdown",
   "metadata": {},
   "source": [
    "# Exercise 5"
   ]
  },
  {
   "cell_type": "code",
   "execution_count": 1,
   "metadata": {},
   "outputs": [
    {
     "name": "stdout",
     "output_type": "stream",
     "text": [
      "2.213254613917651 0.7287497950689088 1.4845048188487422 [7.28749795 0.12148228 1.48450482 1.32795277 0.07422524]\n"
     ]
    }
   ],
   "source": [
    "import numpy as np\n",
    "from scipy.optimize import root\n",
    "\n",
    "γ = 2.5\n",
    "β = 0.98\n",
    "α = 0.40\n",
    "δ = 0.1\n",
    "τ = 0.05\n",
    "z = 0\n",
    "\n",
    "def func_p5(x):\n",
    "    k = x[0]\n",
    "    r = x[1]\n",
    "    c = x[2]\n",
    "    w = x[3]\n",
    "    T = x[4]\n",
    "\n",
    "    \n",
    "    E1 = (1-τ)*(w + (r-δ)*k) +T - c\n",
    "    E2 = β*((r-δ)*(1-τ)+1) -1\n",
    "    E4 = r - α*(k**(α-1))*(np.exp(z)**(1-α))\n",
    "    E5 = w - k**(α)*(1-α)*(np.exp(z)**(-α))*np.exp(z)\n",
    "    E6 = T -τ*(w+(r-δ)*k)\n",
    "    \n",
    "    return [E1, E2, E4, E5, E6] \n",
    "\n",
    "\n",
    "sols = root(func_p5, np.ones(5)*.5)\n",
    "\n",
    "k_ss, r_ss, c_ss, w_ss, T_ss = sols.x\n",
    "\n",
    "# Optimal output value\n",
    "y_ss = k_ss**α * (np.exp(z))**(1-α)\n",
    "\n",
    "# Optimal investment value\n",
    "invest_ss = y_ss - c_ss\n",
    "\n",
    "print(y_ss, invest_ss, c_ss, sols.x)"
   ]
  },
  {
   "cell_type": "markdown",
   "metadata": {},
   "source": [
    "# Exercise 6"
   ]
  },
  {
   "cell_type": "code",
   "execution_count": 37,
   "metadata": {},
   "outputs": [
    {
     "name": "stdout",
     "output_type": "stream",
     "text": [
      "[4.22522903 0.12148228 0.86070321 1.32795277 0.04303516 0.57979145]\n",
      "1.2832261087747827 0.4225229026042062 0.8607032061705765\n",
      "[4.22522903 0.12148228 0.86070321 1.32795277 0.04303516 0.57979145]\n"
     ]
    }
   ],
   "source": [
    "import numpy as np\n",
    "from scipy.optimize import root\n",
    "\n",
    "ξ = 1.5\n",
    "β = .98\n",
    "α = .40\n",
    "a = .5\n",
    "δ = .10\n",
    "z = 0.0\n",
    "τ = .05\n",
    "\n",
    "\n",
    "def func_p6(x):\n",
    "    k = x[0]\n",
    "    r = x[1]\n",
    "    c = x[2]\n",
    "    w = x[3]\n",
    "    T = x[4]\n",
    "    l = x[5]\n",
    "\n",
    "    \n",
    "    E1 = (1-τ)*((w*l)+(r-δ)*k)+T - c\n",
    "    E2 = β*(c**(-γ)*((r-δ)*(1-τ)+1)) - c**(-γ)\n",
    "    E3 = c**(-γ)*w*(1-τ) - a*(1-l)**(-ξ)\n",
    "    E4 = r - α*(k**(α-1))*(l*np.exp(z))**(1-α)\n",
    "    E5 = w - k**(α)*(1-α)*(l*np.exp(z))**(-α)*np.exp(z)\n",
    "    E6 = T -τ*(l*w+(r-δ)*k)\n",
    "    \n",
    "    return [E1, E2, E3, E4, E5, E6] \n",
    "\n",
    "\n",
    "sols = root(func_p6, np.ones(6)*.5)\n",
    "print(sols.x)\n",
    "\n",
    "k_ss, r_ss, c_ss, w_ss, T_ss, l_ss = sols.x\n",
    "\n",
    "# Optimal output value\n",
    "y_ss = k_ss**α * (l_ss*np.exp(z))**(1-α)\n",
    "\n",
    "# Optimal investment value\n",
    "invest_ss = y_ss - c_ss\n",
    "\n",
    "print(y_ss, invest_ss, c_ss)\n",
    "print(sols.x)\n"
   ]
  },
  {
   "cell_type": "markdown",
   "metadata": {},
   "source": [
    "# Exercise 7"
   ]
  },
  {
   "cell_type": "code",
   "execution_count": 108,
   "metadata": {},
   "outputs": [
    {
     "name": "stdout",
     "output_type": "stream",
     "text": [
      "Variable \t k \t r \t c \t\t w \t T \t\t L\n",
      " ξ \t [ 0.7993029 -0.         0.1628225  0.         0.0081411  0.1096814] \n",
      " β \t [-74.5135093   1.0849635  -1.6971653  -8.5460157  -0.0848583  -0.3779522] \n",
      " α \t [-26.9406359  -0.         -2.1585797  -4.5948552  -0.107929    0.7891573] \n",
      " a \t [ 1.8312974 -0.         0.3730458  0.         0.0186523  0.2512931] \n",
      " δ \t [44.1556021 -1.         3.319238   6.8216113  0.1659619 -1.2577524] \n",
      " z \t [-2.8453737 -0.        -0.5796188 -1.3346147 -0.0289809  0.1903412] \n",
      " τ \t [ 2.3360036 -0.0228535  0.2357889  0.1662841 -0.8465559  0.1396554]\n"
     ]
    }
   ],
   "source": [
    "import autograd\n",
    "from autograd import numpy as anp\n",
    "from autograd import grad\n",
    "from autograd import elementwise_grad\n",
    "\n",
    "from matplotlib import pyplot as plt\n",
    "from copy import deepcopy\n",
    "import scipy as sp\n",
    "\n",
    "\n",
    "ξ = 1.5\n",
    "β = .98\n",
    "α = .40\n",
    "a = .5\n",
    "δ = .10\n",
    "z = 0.0\n",
    "τ = .05\n",
    "\n",
    "\n",
    "def system(x, ξ, β, α, a, δ, z, τ):\n",
    "    '''\n",
    "    This function puts together the system of equation for the DSGE model\n",
    "    At the SS\n",
    "    Input: the parameters\n",
    "    Output: the 6 equations\n",
    "    '''\n",
    "    k = x[0]\n",
    "    r = x[1]\n",
    "    c = x[2]\n",
    "    w = x[3]\n",
    "    T = x[4]\n",
    "    l = x[5]\n",
    "\n",
    "    \n",
    "    E1 = (1-τ)*((w*l)+(r-δ)*k)+T - c\n",
    "    E2 = β*(c**(-γ)*((r-δ)*(1-τ)+1)) - c**(-γ)\n",
    "    E3 = c**(-γ)*w*(1-τ) - a*(1-l)**(-ξ)\n",
    "    E4 = r - α*(k**(α-1))*(l*np.exp(z))**(1-α)\n",
    "    E5 = w - k**(α)*(1-α)*(l*np.exp(z))**(-α)*np.exp(z)\n",
    "    E6 = T -τ*(l*w+(r-δ)*k)\n",
    "    \n",
    "    return [E1, E2, E3, E4, E5, E6] \n",
    "\n",
    "\n",
    "def solve_syst(guess, ξ, β, α, a, δ, z, τ):\n",
    "    sol = root(system, guess, args=(ξ, β, α, a, δ, z, τ))\n",
    "    return(sol.x)\n",
    "\n",
    "h = 0.01\n",
    "ξh = ξ + h\n",
    "βh = β + h\n",
    "αh = α + h\n",
    "ah = a + h\n",
    "δh = δ + h\n",
    "zh = z + h\n",
    "τh = τ + h\n",
    "\n",
    "guess = np.ones(6)*.5\n",
    "\n",
    "param = ξ, β, α, a, δ, z, τ\n",
    "P1, P2, P3, P4, P5, P6, P7= np.copy(param)\n",
    "\n",
    "\n",
    "\n",
    "original = [[P1, P2, P3, P4, P5, P6, P7]]\n",
    "original = np.tile(original, (7, 1))\n",
    "originalh = deepcopy(original)\n",
    "\n",
    "h = 0.01\n",
    "for i in range(7):\n",
    "    originalh[i][i] = originalh[i][i] + h\n",
    "\n",
    "solutions = np.zeros((7, 6))    \n",
    "    \n",
    "for i in range(7):\n",
    "    p1, p2, p3, p4, p5, p6, p7= original[i,:]\n",
    "    sol1 = solve_syst(guess, p1, p2, p3, p4, p5, p6, p7)\n",
    "    p1h, p2h, p3h, p4h, p5h, p6h, p7h= originalh[i,:]\n",
    "    sol1h = solve_syst(guess, p1h, p2h, p3h, p4h, p5h, p6h, p7h)\n",
    "    deriv = (sol1 - sol1h) / h\n",
    "    solutions[i,:] = np.round(deriv, 7)\n",
    "\n",
    "print(\"Variable \\t k \\t r \\t c \\t\\t w \\t T \\t\\t L\\n\", \n",
    "      \"ξ \\t\", solutions[0,:], \"\\n\",\n",
    "      \"β \\t\", solutions[1,:], \"\\n\",\n",
    "      \"α \\t\", solutions[2,:], \"\\n\",\n",
    "      \"a \\t\", solutions[3,:], \"\\n\",\n",
    "      \"δ \\t\", solutions[4,:], \"\\n\",\n",
    "      \"z \\t\", solutions[5,:], \"\\n\",\n",
    "      \"τ \\t\", solutions[6,:])\n"
   ]
  },
  {
   "cell_type": "markdown",
   "metadata": {},
   "source": [
    "# Exercise 9"
   ]
  }
 ],
 "metadata": {
  "kernelspec": {
   "display_name": "Python 3",
   "language": "python",
   "name": "python3"
  },
  "language_info": {
   "codemirror_mode": {
    "name": "ipython",
    "version": 3
   },
   "file_extension": ".py",
   "mimetype": "text/x-python",
   "name": "python",
   "nbconvert_exporter": "python",
   "pygments_lexer": "ipython3",
   "version": "3.7.3"
  }
 },
 "nbformat": 4,
 "nbformat_minor": 2
}
