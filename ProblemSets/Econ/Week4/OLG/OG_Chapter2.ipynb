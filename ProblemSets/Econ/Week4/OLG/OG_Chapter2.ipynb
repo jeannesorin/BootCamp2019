{
 "cells": [
  {
   "cell_type": "markdown",
   "metadata": {},
   "source": [
    "# Problem Set 4: Overlapping Generation Models\n",
    "## Chapter 2: 3-period-lived agents with exogenous labor supply"
   ]
  },
  {
   "cell_type": "markdown",
   "metadata": {},
   "source": [
    "### Exercise 2.1"
   ]
  },
  {
   "cell_type": "code",
   "execution_count": 33,
   "metadata": {},
   "outputs": [],
   "source": [
    "import numpy as np\n",
    "from scipy.optimize import root\n",
    "\n",
    "# Initialize parameters\n",
    "β = 0.442\n",
    "δ = 0.6415\n",
    "σ = 3\n",
    "A = 1\n",
    "α = 0.35\n",
    "nvec = np.array([1., 1., 0.2])\n",
    "\n",
    "\n",
    "# Define functions\n",
    "r_f = lambda b2, b3 : (α * A * (np.sum(nvec) / (b2 + b3))**(1-α) - δ)\n",
    "w_f = lambda b2, b3 : ((1-α) * A * ((b2 + b3)/np.sum(nvec))**(α))\n",
    "up = lambda c : c**(-σ)\n",
    "\n",
    "# Def system of equations to solve for the optimization pb\n",
    "def system(bvec_guess):    \n",
    "    b2 = bvec_guess[0]\n",
    "    b3 = bvec_guess[1]\n",
    "    r = r_f(b2,b3)\n",
    "    w = w_f(b2, b3)\n",
    "    \n",
    "    vp1 = up(w*nvec[0] - b2) - β*(1+r)*up(w*nvec[1] + (1+ r)*b2-b3)\n",
    "    vp2 = up(w*nvec[1] + (1 + r)*b2 - b3) - β*(1+ r)*up((1+r)*b3 + nvec[2]*w)\n",
    "    \n",
    "    return[vp1, vp2]\n",
    "\n",
    "def solve(bvec_guess):\n",
    "    \n",
    "    b2, b3 = root(system, bvec_guess).x\n",
    "    \n",
    "    c1 = w_f(b2, b3)*nvec[0] - b2\n",
    "    c2 = w_f(b2, b3)*nvec[1] - b3 + b2*(1+r_f(b2, b3))\n",
    "    c3 = w_f(b2, b3)*nvec[2] + b3*(1+r_f(b2, b3))\n",
    "\n",
    "    return[b2, b3, c1, c2, c3]\n",
    "\n",
    "\n",
    "def feasible(f_params, bvec_guess):\n",
    "    \n",
    "    nvec, A, α, δ, β = f_params\n",
    "    \n",
    "    # Set up pb\n",
    "    b_cnstr = np.empty([2,], dtype='bool_')\n",
    "    c_cnstr = np.empty([3,], dtype='bool_')\n",
    "    K_cnstr = np.empty([1,], dtype='bool_')    \n",
    "    \n",
    "    # Compute Cs & bs (optimize)\n",
    "    X = solve(bvec_guess)\n",
    "    Bs = X[0:2]\n",
    "    Cs = X[2:5]\n",
    "    K = np.sum(Bs)\n",
    "    \n",
    "    # Print results\n",
    "    print(\"Expected return is\", r_f(Bs[0], Bs[1]))\n",
    "\n",
    "    print(\"Savings in periods 1 and 2 are \", Bs)\n",
    "    print(\"Consumption in periods 1, 2 and 3 are \", Cs)\n",
    "\n",
    "    ### Check constrains       \n",
    "    # K_cnstr\n",
    "    if K <= 0:\n",
    "        K_cnstr[0] = True \n",
    "    else:\n",
    "        K_cnstr[0] = False\n",
    "    \n",
    "    # C_cnstr\n",
    "    for i in range(3):\n",
    "        if Cs[i] <= 0:\n",
    "            c_cnstr[i] = True\n",
    "        else:\n",
    "            c_cnstr[i] = False\n",
    "            \n",
    "    # b_cnstr\n",
    "    b_cnstr[:] = False\n",
    "        \n",
    "    if c_cnstr[0] == True:\n",
    "        b_cnstr[0] = True\n",
    "    if c_cnstr[1] == True:\n",
    "        b_cnstr[0] = True\n",
    "        b_cnstr[1] = True\n",
    "    if c_cnstr[2] == True:\n",
    "        b_cnstr[1] = True\n",
    "\n",
    "    \n",
    "    return print(\"\\n Borrowing constraints in periods 1 and 2 are violated \\t \\t: \", b_cnstr, \\\n",
    "                 \"\\n Consumption constrains in periods 1, 2 and 3 are violated \\t: \", c_cnstr, \\\n",
    "                 \"\\n The captial market clearing condition is violated \\t \\t: \", K_cnstr)"
   ]
  },
  {
   "cell_type": "markdown",
   "metadata": {},
   "source": [
    "#### 2.2.A"
   ]
  },
  {
   "cell_type": "code",
   "execution_count": null,
   "metadata": {},
   "outputs": [],
   "source": [
    "f_params = (nvec, A, α, δ, β)\n",
    "bvec_guess = np.array([1.0, 1.2])\n",
    "feasible(f_params, bvec_guess)"
   ]
  },
  {
   "cell_type": "markdown",
   "metadata": {},
   "source": [
    "#### 2.2.B"
   ]
  },
  {
   "cell_type": "code",
   "execution_count": null,
   "metadata": {},
   "outputs": [],
   "source": [
    "f_params = (nvec, A, α, δ, β)\n",
    "bvec_guess = np.array([0.06, -0.001])\n",
    "feasible(f_params, bvec_guess)"
   ]
  },
  {
   "cell_type": "markdown",
   "metadata": {},
   "source": [
    "#### 2.2.C"
   ]
  },
  {
   "cell_type": "code",
   "execution_count": 34,
   "metadata": {},
   "outputs": [
    {
     "name": "stdout",
     "output_type": "stream",
     "text": [
      "Expected return is 2.433062339127069\n",
      "Savings in periods 1 and 2 are  [0.019312529832027088, 0.05841109592113676]\n",
      "Consumption in periods 1, 2 and 3 are  [0.18241212755849867, 0.20961468030898922, 0.24087386507209851]\n",
      "\n",
      " Borrowing constraints in periods 1 and 2 are violated \t \t:  [False False] \n",
      " Consumption constrains in periods 1, 2 and 3 are violated \t:  [False False False] \n",
      " The captial market clearing condition is violated \t \t:  [False]\n"
     ]
    }
   ],
   "source": [
    "f_params = (nvec, A, α, δ, β)\n",
    "bvec_guess = np.array([0.1, 0.1])\n",
    "feasible(f_params, bvec_guess)"
   ]
  },
  {
   "cell_type": "markdown",
   "metadata": {},
   "source": [
    "## Exercise 2.2"
   ]
  },
  {
   "cell_type": "code",
   "execution_count": 53,
   "metadata": {},
   "outputs": [],
   "source": [
    "import time\n",
    "from matplotlib import pyplot as plt\n",
    "\n",
    "\n",
    "def get_SS(params, bvec_guess, SS_graphs):\n",
    "    \n",
    "    \n",
    "    start_time = time.clock()\n",
    "\n",
    "    # Initialize parameters\n",
    "    nvec, A, α, δ, β = params\n",
    "    \n",
    "    # Solve the optimal c and s\n",
    "    X = solve(bvec_guess)\n",
    "    b_ss = X[0:2]\n",
    "    c_ss = X[2:6]\n",
    "    K_ss = np.sum(b_ss)\n",
    "    L_ss = np.sum(nvec)\n",
    "    \n",
    "\n",
    "    # Compute Euler error\n",
    "    r_ss = r_f(b_ss[0], b_ss[1])\n",
    "    w_ss = w_f(b_ss[0], b_ss[1])\n",
    "    EulErr_ss = np.array([0., 0.])\n",
    "    EulErr_ss[0] = up(w_ss*nvec[0] - b_ss[0]) - β*(1+r_ss)*up(w_ss*nvec[1] + (1+ r_ss)*b_ss[0]-b_ss[1])\n",
    "    EulErr_ss[1] = up(w_ss*nvec[1] + (1 + r_ss)* b_ss[0] -  b_ss[1]) - β*(1+ r_ss)*up((1+r_ss)* b_ss[1] + nvec[2]*w_ss)\n",
    "    \n",
    "    # Compute resource constraint errors\n",
    "    Y_ss = A*K_ss**α*L_ss**(1-α)\n",
    "    RCerr_ss = 0\n",
    "    RCerr_ss = Y_ss - np.sum(c_ss) - δ*K_ss\n",
    "    \n",
    "    ss_time = time.clock() - start_time\n",
    "    ss_output = {\n",
    "        \"b_ss\": b_ss,\n",
    "        \"c_ss\": c_ss,\n",
    "        \"w_ss\": w_ss,\n",
    "        \"r_ss\": r_ss,\n",
    "        \"K_ss\": K_ss,\n",
    "        \"Y_ss\": Y_ss,\n",
    "        \"C_ss\": c_ss,\n",
    "        \"EulErr_ss\": EulErr_ss,\n",
    "        \"RCerr_ss\": RCerr_ss,\n",
    "        \"ss_time\": ss_time}\n",
    "    \n",
    "    if SS_graphs == True:\n",
    "        plt.plot([20, 40, 60], c_ss, '-r')\n",
    "        plt.title(\"Consumption Distribution over lifetime\")\n",
    "        plt.show()\n",
    "        plt.plot([20, 40, 60], [b_ss[0], b_ss[1], 0], '-g')\n",
    "        plt.title(\"Savings Distribution over lifetime\")\n",
    "        plt.show()\n",
    "        \n",
    "    return ss_output"
   ]
  },
  {
   "cell_type": "code",
   "execution_count": 54,
   "metadata": {},
   "outputs": [
    {
     "name": "stderr",
     "output_type": "stream",
     "text": [
      "/anaconda3/lib/python3.7/site-packages/ipykernel_launcher.py:8: DeprecationWarning: time.clock has been deprecated in Python 3.3 and will be removed from Python 3.8: use time.perf_counter or time.process_time instead\n",
      "  \n",
      "/anaconda3/lib/python3.7/site-packages/ipykernel_launcher.py:33: DeprecationWarning: time.clock has been deprecated in Python 3.3 and will be removed from Python 3.8: use time.perf_counter or time.process_time instead\n"
     ]
    },
    {
     "data": {
      "image/png": "[encoded data removed]",
      "text/plain": [
       "<Figure size 432x288 with 1 Axes>"
      ]
     },
     "metadata": {
      "needs_background": "light"
     },
     "output_type": "display_data"
    },
    {
     "data": {
      "image/png": "[encoded data removed]",
      "text/plain": [
       "<Figure size 432x288 with 1 Axes>"
      ]
     },
     "metadata": {
      "needs_background": "light"
     },
     "output_type": "display_data"
    },
    {
     "data": {
      "text/plain": [
       "{'b_ss': [0.019312529832027088, 0.05841109592113676],\n",
       " 'c_ss': [0.18241212755849867, 0.20961468030898922, 0.24087386507209851],\n",
       " 'w_ss': 0.20172465739052575,\n",
       " 'r_ss': 2.433062339127069,\n",
       " 'K_ss': 0.07772362575316386,\n",
       " 'Y_ss': 0.6827603788602411,\n",
       " 'C_ss': [0.18241212755849867, 0.20961468030898922, 0.24087386507209851],\n",
       " 'EulErr_ss': array([-1.39266376e-12,  2.62900812e-12]),\n",
       " 'RCerr_ss': 8.326672684688674e-17,\n",
       " 'ss_time': 0.0008109999999996731}"
      ]
     },
     "execution_count": 54,
     "metadata": {},
     "output_type": "execute_result"
    }
   ],
   "source": [
    "params = (nvec, A, α, δ, β)\n",
    "bvec_guess = np.array([0.1, 0.1])\n",
    "SS_graphs = True\n",
    "\n",
    "\n",
    "\n",
    "get_SS(params, bvec_guess, True)\n"
   ]
  },
  {
   "cell_type": "code",
   "execution_count": 55,
   "metadata": {},
   "outputs": [
    {
     "name": "stderr",
     "output_type": "stream",
     "text": [
      "/anaconda3/lib/python3.7/site-packages/ipykernel_launcher.py:8: DeprecationWarning: time.clock has been deprecated in Python 3.3 and will be removed from Python 3.8: use time.perf_counter or time.process_time instead\n",
      "  \n",
      "/anaconda3/lib/python3.7/site-packages/ipykernel_launcher.py:33: DeprecationWarning: time.clock has been deprecated in Python 3.3 and will be removed from Python 3.8: use time.perf_counter or time.process_time instead\n"
     ]
    },
    {
     "data": {
      "image/png": "[encoded data removed]",
      "text/plain": [
       "<Figure size 432x288 with 1 Axes>"
      ]
     },
     "metadata": {
      "needs_background": "light"
     },
     "output_type": "display_data"
    },
    {
     "data": {
      "image/png": "[encoded data removed]",
      "text/plain": [
       "<Figure size 432x288 with 1 Axes>"
      ]
     },
     "metadata": {
      "needs_background": "light"
     },
     "output_type": "display_data"
    },
    {
     "data": {
      "text/plain": [
       "{'b_ss': [0.028176918915182085, 0.07686545131079861],\n",
       " 'c_ss': [0.19597527701928497, 0.2286159413839988, 0.26669307195186887],\n",
       " 'w_ss': 0.22415219593446706,\n",
       " 'r_ss': 1.8863765057189819,\n",
       " 'K_ss': 0.1050423702259807,\n",
       " 'Y_ss': 0.7586689708551193,\n",
       " 'C_ss': [0.19597527701928497, 0.2286159413839988, 0.26669307195186887],\n",
       " 'EulErr_ss': array([6.87805368e-12, 2.52953214e-12]),\n",
       " 'RCerr_ss': 9.71445146547012e-17,\n",
       " 'ss_time': 0.0006130000000004188}"
      ]
     },
     "execution_count": 55,
     "metadata": {},
     "output_type": "execute_result"
    }
   ],
   "source": [
    "β = 0.55\n",
    "params = (nvec, A, α, δ, β)\n",
    "bvec_guess = np.array([0.1, 0.1])\n",
    "SS_graphs = True\n",
    "\n",
    "get_SS(params, bvec_guess, True)\n"
   ]
  },
  {
   "cell_type": "markdown",
   "metadata": {},
   "source": [
    "If $\\beta$ increases, ie households become more patient: people save more in each period of their life ($b$ increases). This increases the capital in the production function and therefore the total production $Y$. \n",
    "This allows households to consume more in each period of their life."
   ]
  },
  {
   "cell_type": "markdown",
   "metadata": {},
   "source": [
    "## Exercise 2.3"
   ]
  },
  {
   "cell_type": "code",
   "execution_count": null,
   "metadata": {},
   "outputs": [],
   "source": []
  }
 ],
 "metadata": {
  "@webio": {
   "lastCommId": null,
   "lastKernelId": null
  },
  "kernelspec": {
   "display_name": "Python 3",
   "language": "python",
   "name": "python3"
  },
  "language_info": {
   "codemirror_mode": {
    "name": "ipython",
    "version": 3
   },
   "file_extension": ".py",
   "mimetype": "text/x-python",
   "name": "python",
   "nbconvert_exporter": "python",
   "pygments_lexer": "ipython3",
   "version": "3.7.3"
  }
 },
 "nbformat": 4,
 "nbformat_minor": 2
}
