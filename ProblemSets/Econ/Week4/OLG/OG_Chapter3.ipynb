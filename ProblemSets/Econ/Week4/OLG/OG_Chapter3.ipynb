{
 "cells": [
  {
   "cell_type": "markdown",
   "metadata": {},
   "source": [
    "## Exercise 3.2"
   ]
  },
  {
   "cell_type": "code",
   "execution_count": 76,
   "metadata": {},
   "outputs": [],
   "source": [
    "import time\n",
    "from matplotlib import pyplot as plt\n",
    "import numpy as np\n",
    "from scipy.optimize import root\n",
    "\n",
    "# Set traditional parameters\n",
    "S = 80\n",
    "β = 0.96**(80/S)\n",
    "α = 0.35\n",
    "A = 1\n",
    "σ = 3\n",
    "δ = 1 - (1-0.05)*(80/S)\n",
    "\n",
    "\n",
    "# Return on labor\n",
    "def wf(bvec, nvec):\n",
    "    b = np.sum(bvec)\n",
    "    n = np.sum(nvec)\n",
    "    w = (1-α)*A*(b/n)**α\n",
    "    return(w)\n",
    "\n",
    "# Return on capital\n",
    "def rf(bvec, nvec):\n",
    "    b = np.sum(bvec)\n",
    "    n = np.sum(nvec)\n",
    "    r = α*A*(n/b)**(1-α)-δ\n",
    "    return(r)\n",
    "\n",
    "\n",
    "# Uprime\n",
    "def uprime(c):\n",
    "    if c > 0: \n",
    "        return c**(-σ)\n",
    "    else:\n",
    "        return 5000\n",
    "\n",
    "def system(bvec):\n",
    "    wc = wf(bvec, nvec)\n",
    "    rc = rf(bvec, nvec)\n",
    "    Sol = []\n",
    "    \n",
    "    #For the 1st guy\n",
    "    # Need a guess : b0 = 0\n",
    "    #vp1 = up(w*nvec[0] - b2) - β*(1+r)*up(w*nvec[1] + (1+ r)*b2-b3)\n",
    "\n",
    "    \n",
    "    # Starting at s=2, until s-2\n",
    "    for i in range(1,S-2):\n",
    "        j = i-1\n",
    "        #print(\"Range \", i, 'out of ', np.shape(bvec))\n",
    "        bi = bvec[j]\n",
    "        bii = bvec[j+1]\n",
    "        biii = bvec[j+2]\n",
    "        ni = nvec[i]\n",
    "        nii = nvec[i+1]\n",
    "        Soli = uprime(wc*ni + (1+rc)*bi - bii) - β*(1+rc)*uprime(wc*nii + (1+rc)*bii - biii)\n",
    "        Sol.append(Soli)\n",
    "\n",
    "    #print(Sol)\n",
    "    ## One before last guy\n",
    "    bi = bvec[77]\n",
    "    bii = bvec[78]\n",
    "    ni = nvec[78]\n",
    "    nii = nvec[79]\n",
    "    Soli = uprime(wc*ni + (1+rc)*bi - bii) - β*(1+rc)*uprime(wc*nii + (1+rc)*bii)\n",
    "    Sol.append(Soli)\n",
    "    \n",
    "    ## Last guy\n",
    "    bi = bvec[78]\n",
    "    ni = nvec[79]\n",
    "    Soli = uprime(wc*ni + (1+rc)*bi)\n",
    "    Sol.append(Soli)\n",
    "    \n",
    "    #print(\"Sol is \", Sol)\n",
    "    return(Sol)\n",
    "\n",
    "\n",
    "\n",
    "def solve(bvec_guess):\n",
    "    \n",
    "    print(\"running solve\")\n",
    "    b_ss = root(system, bvec_guess).x\n",
    "    \n",
    "    c_ss = np.empty(S)\n",
    "    c_ss[0] = wf(b_ss, nvec) - b_ss[0]\n",
    "    for i in range(1,S-1):\n",
    "        c_ss[i] = wf(b_ss, nvec) - b_ss[i] + b_ss[i-1]*(1+rf(bvec, nvec))\n",
    "    \n",
    "    print(\"b_ss is \", b_ss)\n",
    "    print(\"c_ss is \", c_ss)\n",
    "\n",
    "    #K_ss = np.sum(b_ss)\n",
    "    \n",
    "    #c_ss = np.empty_like(b_ss)\n",
    "    #wc = w(b_ss, nvec)\n",
    "    #rc = r(b_ss, nvec)\n",
    "    \n",
    "    #L = np.sum(nvec)\n",
    "    \n",
    "    #for i in range(S-1):\n",
    "    #    c_ss[i] = nvec[i]*wc + (1+rc)*b_ss[i-1] - b_ss[i]\n",
    "    return b_ss, c_ss #, wc, rc, K_ss, L\n",
    "    \n",
    "\n",
    "\n",
    "def get_SS(params, bvec_guess, SS_graphs):\n",
    "    nvec, A, α, δ, β, S = params\n",
    "\n",
    "    \n",
    "    start_time = time.clock()\n",
    "    \n",
    "    # Solve for the optimal c, b\n",
    "    b_ss, c_ss = solve(bvec_guess)\n",
    "    \n",
    "    K_ss = np.sum(b_ss)\n",
    "    L_ss = np.sum(nvec)\n",
    "    \n",
    "    # Compute Euler Error\n",
    "    r_ss = rf(b_ss, nvec)\n",
    "    w_ss = wf(b_ss, nvec)\n",
    "    \n",
    "    EulErr_ss = np.zeros(S-1)\n",
    "    for i in range(0, S-2):\n",
    "        EulErr_ss[i] = uprime(w_ss*nvec[i] - b_ss[i] - b_ss[i+1]) - β*(1+r_ss)*uprime(w_ss*nvec[i] + (1 + r_ss)*b_ss[i] - b_ss[i+1])\n",
    "    \n",
    "    EulErr_ss[S-2] = uprime(w_ss*nvec[S-2] + (1 + r_ss)* b_ss[S-3])\n",
    " \n",
    "    ss_time = time.clock() - start_time # Place at end of get_SS()\n",
    "    print('It took %1.3s seconds to solve the OLG model' % ss_time)\n",
    "    ss_output = {\n",
    "    'b_ss': b_ss, 'c_ss': c_ss, 'w_ss': w_ss, 'r_ss': r_ss,\n",
    "    'K_ss': K_ss, \n",
    "    'EulErr_ss': EulErr_ss, \n",
    "    'ss_time': ss_time}\n",
    "    \n",
    "\n",
    "    return ss_output"
   ]
  },
  {
   "cell_type": "code",
   "execution_count": 77,
   "metadata": {},
   "outputs": [
    {
     "name": "stdout",
     "output_type": "stream",
     "text": [
      "(79,)\n"
     ]
    },
    {
     "data": {
      "text/plain": [
       "11.399999999999997"
      ]
     },
     "execution_count": 77,
     "metadata": {},
     "output_type": "execute_result"
    }
   ],
   "source": [
    "bvec = \\\n",
    "    np.array([-0.01, 0.1, 0.2, 0.23, 0.25, 0.23, 0.2, 0.1,\n",
    "    -0.01, 0.1, 0.2, 0.23, 0.25, 0.23, 0.2, 0.1,\n",
    "    -0.01, 0.1, 0.2, 0.23, 0.25, 0.23, 0.2, 0.1,\n",
    "    -0.01, 0.1, 0.2, 0.23, 0.25, 0.23, 0.2, 0.1,\n",
    "    -0.01, 0.1, 0.2, 0.23, 0.25, 0.23, 0.2, 0.1,\n",
    "    -0.01, 0.1, 0.2, 0.23, 0.25, 0.23, 0.2, 0.1,\n",
    "    -0.01, 0.1, 0.2, 0.23, 0.25, 0.23, 0.2, 0.1,\n",
    "    0.1, 0.1, 0.1, 0.1, 0.1, 0.1, 0.1, 0.1,\n",
    "    0.1, 0.1, 0.1, 0.1, 0.1, 0.1, 0.1, 0.1,\n",
    "    0.1, 0.1, 0.1, 0.1, 0.1, 0.1, 0.1])\n",
    "\n",
    "print(bvec.shape)\n",
    "np.sum(bvec)"
   ]
  },
  {
   "cell_type": "code",
   "execution_count": 80,
   "metadata": {},
   "outputs": [
    {
     "name": "stdout",
     "output_type": "stream",
     "text": [
      "[1.  1.  1.  1.  1.  1.  1.  1.  1.  1.  1.  1.  1.  1.  1.  1.  1.  1.\n",
      " 1.  1.  1.  1.  1.  1.  1.  1.  1.  1.  1.  1.  1.  1.  1.  1.  1.  1.\n",
      " 1.  1.  1.  1.  1.  1.  1.  1.  1.  1.  1.  1.  1.  1.  1.  1.  1.  1.\n",
      " 0.2 0.2 0.2 0.2 0.2 0.2 0.2 0.2 0.2 0.2 0.2 0.2 0.2 0.2 0.2 0.2 0.2 0.2\n",
      " 0.2 0.2 0.2 0.2 0.2 0.2 0.2 0.2]\n",
      "running solve\n",
      "b_ss is  [-0.01  0.1   0.2   0.23  0.25  0.23  0.2   0.1  -0.01  0.1   0.2   0.23\n",
      "  0.25  0.23  0.2   0.1  -0.01  0.1   0.2   0.23  0.25  0.23  0.2   0.1\n",
      " -0.01  0.1   0.2   0.23  0.25  0.23  0.2   0.1  -0.01  0.1   0.2   0.23\n",
      "  0.25  0.23  0.2   0.1  -0.01  0.1   0.2   0.23  0.25  0.23  0.2   0.1\n",
      " -0.01  0.1   0.2   0.23  0.25  0.23  0.2   0.1   0.1   0.1   0.1   0.1\n",
      "  0.1   0.1   0.1   0.1   0.1   0.1   0.1   0.1   0.1   0.1   0.1   0.1\n",
      "  0.1   0.1   0.1   0.1   0.1   0.1   0.1 ]\n",
      "c_ss is  [0.37518881 0.24547732 0.36230368 0.52941855 0.56855301 0.62797599\n",
      " 0.61855301 0.65941855 0.57230368 0.24547732 0.36230368 0.52941855\n",
      " 0.56855301 0.62797599 0.61855301 0.65941855 0.57230368 0.24547732\n",
      " 0.36230368 0.52941855 0.56855301 0.62797599 0.61855301 0.65941855\n",
      " 0.57230368 0.24547732 0.36230368 0.52941855 0.56855301 0.62797599\n",
      " 0.61855301 0.65941855 0.57230368 0.24547732 0.36230368 0.52941855\n",
      " 0.56855301 0.62797599 0.61855301 0.65941855 0.57230368 0.24547732\n",
      " 0.36230368 0.52941855 0.56855301 0.62797599 0.61855301 0.65941855\n",
      " 0.57230368 0.24547732 0.36230368 0.52941855 0.56855301 0.62797599\n",
      " 0.61855301 0.65941855 0.46230368 0.46230368 0.46230368 0.46230368\n",
      " 0.46230368 0.46230368 0.46230368 0.46230368 0.46230368 0.46230368\n",
      " 0.46230368 0.46230368 0.46230368 0.46230368 0.46230368 0.46230368\n",
      " 0.46230368 0.46230368 0.46230368 0.46230368 0.46230368 0.46230368\n",
      " 0.46230368 0.2       ]\n",
      "It took 0.0 seconds to solve the OLG model\n"
     ]
    },
    {
     "name": "stderr",
     "output_type": "stream",
     "text": [
      "/anaconda3/lib/python3.7/site-packages/ipykernel_launcher.py:110: DeprecationWarning: time.clock has been deprecated in Python 3.3 and will be removed from Python 3.8: use time.perf_counter or time.process_time instead\n",
      "/anaconda3/lib/python3.7/site-packages/ipykernel_launcher.py:128: DeprecationWarning: time.clock has been deprecated in Python 3.3 and will be removed from Python 3.8: use time.perf_counter or time.process_time instead\n"
     ]
    }
   ],
   "source": [
    "S= 80\n",
    "nvec = np.ones(S)\n",
    "index = round(2*S/3)+1\n",
    "nvec[index:] = 0.2\n",
    "params = nvec, A, α, δ, β, S\n",
    "result = get_SS(params, bvec, False)"
   ]
  },
  {
   "cell_type": "code",
   "execution_count": 79,
   "metadata": {},
   "outputs": [
    {
     "data": {
      "text/plain": [
       "<function matplotlib.pyplot.show(*args, **kw)>"
      ]
     },
     "execution_count": 79,
     "metadata": {},
     "output_type": "execute_result"
    },
    {
     "data": {
      "image/png": "[encoded data removed]",
      "text/plain": [
       "<Figure size 432x288 with 1 Axes>"
      ]
     },
     "metadata": {
      "needs_background": "light"
     },
     "output_type": "display_data"
    }
   ],
   "source": [
    "plt.plot(result['b_ss'])\n",
    "plt.title('Distribution of savings by age')\n",
    "plt.show"
   ]
  },
  {
   "cell_type": "code",
   "execution_count": null,
   "metadata": {},
   "outputs": [],
   "source": []
  },
  {
   "cell_type": "code",
   "execution_count": null,
   "metadata": {},
   "outputs": [],
   "source": []
  }
 ],
 "metadata": {
  "kernelspec": {
   "display_name": "Python 3",
   "language": "python",
   "name": "python3"
  },
  "language_info": {
   "codemirror_mode": {
    "name": "ipython",
    "version": 3
   },
   "file_extension": ".py",
   "mimetype": "text/x-python",
   "name": "python",
   "nbconvert_exporter": "python",
   "pygments_lexer": "ipython3",
   "version": "3.7.3"
  }
 },
 "nbformat": 4,
 "nbformat_minor": 2
}
