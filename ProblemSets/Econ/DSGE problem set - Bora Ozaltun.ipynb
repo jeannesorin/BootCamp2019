{
 "cells": [
  {
   "cell_type": "code",
   "execution_count": 4,
   "metadata": {},
   "outputs": [],
   "source": [
    "import numpy as np\n",
    "import matplotlib.pyplot as plt"
   ]
  },
  {
   "cell_type": "markdown",
   "metadata": {},
   "source": [
    "### Exercise 1\n",
    "\n",
    "For the Brock and Mirman model, find the value of A in the policy function. Show that your value is correct.\n",
    "\n",
    "For this case find an algebraic solution for the policy function $k_{t+1} = \\Phi(k_t, z_t)$. Sources for hints are Stokey et al. (1989, exercise 2.2, p. 12) and Sargent (1987, exercise 1.1, p. 47)."
   ]
  },
  {
   "cell_type": "markdown",
   "metadata": {},
   "source": [
    "#### Brock and Mirman's Model\n",
    "\n",
    "Households solve the following dynamic program:\n",
    "\n",
    "$$ V(K_t, z_t) =  max_{K_{t+1}}ln(e^{z_t}K_t^{\\alpha} - K_{t+1}) + \\beta E_t\\{V(K_{t+1}, z_{t+1})\\}$$\n",
    "\n",
    "The associated Euler equaation is:\n",
    "\n",
    "$$ \\frac{1}{e^{z_t}K_t^{\\alpha} - K_{t+1}} =  \\beta E_t\\{\\frac{\\alpha e^{z_{t+1}}K_{t+1}^{\\alpha-1}}{e^{z_{t+1}}K_{t+1}^{\\alpha} - K_{t+2}}\\}$$\n",
    "\n",
    "The law of motion for z is:\n",
    "\n",
    "$$z_{t+1} = \\rho z_t + \\epsilon_t \\text{;   }\\epsilon_t \\approx i.i.d(0,\\sigma^2)$$\n",
    "\n",
    "Verify that the policy function is of the following form:\n",
    "\n",
    "$$K_{t+1} = Ae^{z_t}K_t^{\\alpha}$$"
   ]
  },
  {
   "cell_type": "markdown",
   "metadata": {},
   "source": [
    "In order to determine the policy function, we need to find the value of A as a function of the model's parameters. "
   ]
  },
  {
   "cell_type": "markdown",
   "metadata": {},
   "source": [
    "## Exercise 2\n",
    "\n",
    "For the model in section 3 of the notes consider the following functional forms:\n",
    "\n",
    "$$u(c_t, l_t) = ln c_t + a \\text{ }ln(1-l_t)$$\n",
    "\n",
    "$$F(K_t, L_t, z_t) = e^{z_t}K_t^{\\alpha}K_t^{1-\\alpha}$$\n",
    "\n",
    "Write out all the caracterizing equations for the model using these functional forms. Can you use the same tricks as in Exercise 1 to solve for the policy function in this case? Why or why not?\n"
   ]
  },
  {
   "cell_type": "markdown",
   "metadata": {},
   "source": [
    "### Exercise 5"
   ]
  },
  {
   "cell_type": "code",
   "execution_count": 2,
   "metadata": {},
   "outputs": [],
   "source": [
    "## Lets estimate the steady state values"
   ]
  },
  {
   "cell_type": "code",
   "execution_count": 1,
   "metadata": {},
   "outputs": [],
   "source": [
    "from sympy import var, exp, solve\n",
    "\n",
    "k, l = var('k l')\n",
    "c, w, r, T = var('c w r T')\n",
    "z = var('z')\n",
    "gamma, beta, alpha, sigma, tau = var('gamma beta alpha sigma tau')"
   ]
  },
  {
   "cell_type": "code",
   "execution_count": 5,
   "metadata": {},
   "outputs": [],
   "source": [
    "E1 = (1-tau)*(w + (r-sigma)*k) +T - c\n",
    "E2 = beta*((r-sigma)*(1-tau)+1) -1\n",
    "E3 = (c**(-gamma) - 1/(1-gamma))*w*(1-tau)\n",
    "E4 = r - alpha*k**(alpha-1)*exp(-alpha*z)*exp(z)\n",
    "E5 = w - k**(alpha)*(1-alpha)*exp(-alpha*z)*exp(z)\n",
    "E6 = T -tau*(w+(r-sigma)*k)"
   ]
  },
  {
   "cell_type": "code",
   "execution_count": 6,
   "metadata": {},
   "outputs": [
    {
     "name": "stdout",
     "output_type": "stream",
     "text": [
      "T - c + (-tau + 1)*(k*(r - sigma) + w)\n",
      "beta*((r - sigma)*(-tau + 1) + 1) - 1\n",
      "w*(-tau + 1)*(-1/(-gamma + 1) + c**(-gamma))\n",
      "-alpha*k**(alpha - 1)*exp(z)*exp(-alpha*z) + r\n",
      "-k**alpha*(-alpha + 1)*exp(z)*exp(-alpha*z) + w\n",
      "T - tau*(k*(r - sigma) + w)\n"
     ]
    }
   ],
   "source": [
    "for i in [E1, E2, E3, E4, E5, E6]:\n",
    "    print(i)"
   ]
  },
  {
   "cell_type": "code",
   "execution_count": 7,
   "metadata": {},
   "outputs": [],
   "source": [
    "import numpy as np\n",
    "from scipy.optimize import root\n",
    "gamma = 2.5\n",
    "beta = 0.98\n",
    "alpha = 0.40\n",
    "sigma = 0.1\n",
    "tau = 0.05\n",
    "z = 0\n",
    "def func_p5(x):\n",
    "    k = x[0]\n",
    "    r = x[1]\n",
    "    c = x[2]\n",
    "    w = x[3]\n",
    "    T = x[4]\n",
    "\n",
    "    \n",
    "    E1 = (1-tau)*(w + (r-sigma)*k) +T - c\n",
    "    E2 = beta*((r-sigma)*(1-tau)+1) -1\n",
    "    E4 = r - alpha*(k**(alpha-1))*(np.exp(z)**(1-alpha))\n",
    "    E5 = w - k**(alpha)*(1-alpha)*(np.exp(z)**(-alpha))*np.exp(z)\n",
    "    E6 = T -tau*(w+(r-sigma)*k)\n",
    "    \n",
    "    return [E1, E2, E4, E5, E6] \n",
    "\n",
    "k_true = (((1-beta)/beta*(1/(1-tau)) + sigma)/((np.exp(z*(1-alpha))*alpha)))**(1/(alpha-1))"
   ]
  },
  {
   "cell_type": "code",
   "execution_count": 8,
   "metadata": {},
   "outputs": [],
   "source": [
    "sols = root(func_p5, np.ones(5)*.5)"
   ]
  },
  {
   "cell_type": "code",
   "execution_count": 9,
   "metadata": {},
   "outputs": [
    {
     "data": {
      "text/plain": [
       "array([7.28749795, 0.12148228, 1.48450482, 1.32795277, 0.07422524])"
      ]
     },
     "execution_count": 9,
     "metadata": {},
     "output_type": "execute_result"
    }
   ],
   "source": [
    "sols.x"
   ]
  },
  {
   "cell_type": "code",
   "execution_count": 55,
   "metadata": {},
   "outputs": [
    {
     "data": {
      "text/plain": [
       "7.287497950692989"
      ]
     },
     "execution_count": 55,
     "metadata": {},
     "output_type": "execute_result"
    }
   ],
   "source": [
    "k_true"
   ]
  },
  {
   "cell_type": "markdown",
   "metadata": {},
   "source": [
    "### Exercise 6"
   ]
  },
  {
   "cell_type": "code",
   "execution_count": 3,
   "metadata": {},
   "outputs": [],
   "source": [
    "from sympy import var, exp, solve, diff, lambdify\n",
    "\n",
    "cVar, lVar, gammaVar, xiVar, aVar = var('cVar lVar gammaVar xiVar aVar')\n",
    "u = (cVar**(1-gammaVar) -1)/(1-gammaVar) + aVar*((1-lVar)**(1-xiVar) -1)/(1-xiVar)\n",
    "\n",
    "\n",
    "KVar, LVar, zVar, alphaVar = var('KVar LVar zVar alphaVar')\n",
    "F = (KVar**alphaVar)*(LVar*exp(zVar))**(1-alphaVar)\n",
    "\n",
    "du_dc = diff(u, cVar)\n",
    "du_dl = diff(u, lVar)\n",
    "du_dc_l = lambdify([cVar, lVar, gammaVar, xiVar, aVar], du_dc, 'numpy')\n",
    "du_dl_l = lambdify([cVar, lVar, gammaVar, xiVar, aVar], du_dl, 'numpy')\n",
    "\n",
    "dF_dK = diff(F, KVar)\n",
    "dF_dL = diff(F, LVar)\n",
    "dF_dK_l = lambdify([KVar, LVar, zVar, alphaVar], dF_dK, 'numpy')\n",
    "dF_dL_l = lambdify([KVar, LVar, zVar, alphaVar], dF_dL, 'numpy')"
   ]
  },
  {
   "cell_type": "code",
   "execution_count": 15,
   "metadata": {},
   "outputs": [
    {
     "data": {
      "text/latex": [
       "$\\displaystyle \\frac{KVar^{alphaVar} alphaVar \\left(LVar e^{zVar}\\right)^{1 - alphaVar}}{KVar}$"
      ],
      "text/plain": [
       "KVar**alphaVar*alphaVar*(LVar*exp(zVar))**(1 - alphaVar)/KVar"
      ]
     },
     "execution_count": 15,
     "metadata": {},
     "output_type": "execute_result"
    }
   ],
   "source": [
    "dF_dK"
   ]
  },
  {
   "cell_type": "code",
   "execution_count": 9,
   "metadata": {},
   "outputs": [],
   "source": [
    "import numpy as np\n",
    "from scipy.optimize import root\n",
    "\n",
    "gamma = 2.5\n",
    "beta = 0.98\n",
    "alpha = 0.40\n",
    "sigma = 0.1\n",
    "tau = 0.05\n",
    "a = 0.5\n",
    "z = 0\n",
    "xi = 2.5\n",
    "\n",
    "def general_steady_state(x):\n",
    "    k = x[0]\n",
    "    l = x[1]\n",
    "    r = x[2]\n",
    "    c = x[3]\n",
    "    w = x[4]\n",
    "    T = x[5]\n",
    "    \n",
    "    E1 = (1-tau)*(w*l + (r-sigma)*k) +T - c\n",
    "    E2 = du_dc_l(c, l, gamma, xi, a)*(1-beta*((r-sigma)*(1-tau)+1))\n",
    "    E3 = du_dl_l(c, l, gamma, xi, a)+du_dc_l(c, l, gamma, xi, a)*w*(1-tau)\n",
    "    E4 = r - dF_dK_l(k, l, z, alpha)\n",
    "    E5 = w - dF_dL_l(k, l, z, alpha)\n",
    "    E6 = T -tau*(w*l+(r-sigma)*k)\n",
    "    \n",
    "    return [E1, E2, E3, E4, E5, E6] \n",
    "\n",
    "sols = root(general_steady_state, np.ones(6)*.5)"
   ]
  },
  {
   "cell_type": "code",
   "execution_count": 10,
   "metadata": {},
   "outputs": [],
   "source": []
  },
  {
   "cell_type": "code",
   "execution_count": 16,
   "metadata": {},
   "outputs": [
    {
     "data": {
      "text/plain": [
       "    fjac: array([[-5.88480630e-02,  6.36384917e-03,  7.57603368e-02,\n",
       "        -1.92519556e-01,  9.76567154e-01,  3.09726561e-03],\n",
       "       [-8.64845371e-02, -2.70421991e-03,  9.92952759e-01,\n",
       "         1.05241751e-02, -8.01651602e-02,  4.55181770e-03],\n",
       "       [ 5.98116818e-01, -7.54615788e-01,  5.44765097e-02,\n",
       "         2.47999946e-01,  8.57242220e-02, -3.14798317e-02],\n",
       "       [ 7.91151844e-01,  5.95567644e-01,  7.30004291e-02,\n",
       "        -1.17526721e-01,  1.49725770e-02, -3.48867764e-03],\n",
       "       [ 7.29357938e-02, -2.73619932e-01,  2.78674952e-04,\n",
       "        -9.23518574e-01, -1.76504905e-01,  1.89134572e-01],\n",
       "       [-8.52835616e-03, -3.06352077e-02,  2.89121546e-03,\n",
       "        -1.86070958e-01, -3.41077658e-02, -9.81424807e-01]])\n",
       "     fun: array([ 1.73359105e-10,  2.78902932e-10, -3.31712435e-10,  2.48078974e-10,\n",
       "       -5.71493519e-10, -9.12415976e-12])\n",
       " message: 'The solution converged.'\n",
       "    nfev: 32\n",
       "     qtf: array([-8.93540917e-09, -4.67206628e-08, -3.95056867e-09, -2.86224593e-09,\n",
       "       -7.89930312e-10, -2.66462695e-10])\n",
       "       r: array([ -0.17705506,  -0.28192106,  -0.34463064,  -0.33886868,\n",
       "         1.1790151 ,  -0.05554008, -13.73759787,  -0.15619362,\n",
       "        -9.09083994,   1.96045679,  -0.08063414,   3.77130748,\n",
       "        -1.04498049,   0.48252547,   0.56670569,  -1.37956352,\n",
       "         0.53453834,   0.78784099,  -0.10567843,   0.26208594,\n",
       "        -0.98994319])\n",
       "  status: 1\n",
       " success: True\n",
       "       x: array([3.59841524, 0.49377924, 0.12148228, 0.73301767, 1.32795277,\n",
       "       0.03665088])"
      ]
     },
     "execution_count": 16,
     "metadata": {},
     "output_type": "execute_result"
    }
   ],
   "source": [
    "sols"
   ]
  },
  {
   "cell_type": "code",
   "execution_count": null,
   "metadata": {},
   "outputs": [],
   "source": []
  }
 ],
 "metadata": {
  "kernelspec": {
   "display_name": "Python 3",
   "language": "python",
   "name": "python3"
  },
  "language_info": {
   "codemirror_mode": {
    "name": "ipython",
    "version": 3
   },
   "file_extension": ".py",
   "mimetype": "text/x-python",
   "name": "python",
   "nbconvert_exporter": "python",
   "pygments_lexer": "ipython3",
   "version": "3.7.3"
  }
 },
 "nbformat": 4,
 "nbformat_minor": 2
}
