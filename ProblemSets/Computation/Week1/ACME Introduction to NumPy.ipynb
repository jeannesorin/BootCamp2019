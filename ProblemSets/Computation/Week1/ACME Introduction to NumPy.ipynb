{
 "cells": [
  {
   "cell_type": "code",
   "execution_count": 1,
   "metadata": {},
   "outputs": [],
   "source": [
    "# Import package and set environment\n",
    "import numpy as np"
   ]
  },
  {
   "cell_type": "code",
   "execution_count": 22,
   "metadata": {},
   "outputs": [
    {
     "data": {
      "text/plain": [
       "array([[ 37,  14, -32, -10],\n",
       "       [-54,  -7,  58,  65]])"
      ]
     },
     "execution_count": 22,
     "metadata": {},
     "output_type": "execute_result"
    }
   ],
   "source": [
    "### PROBLEM 1\n",
    "\n",
    "A = np.array([[3, -1, 4], [1, 5, -9]])\n",
    "B = np.array([[2, 6, -5, 3], [5, -8, 9, 7], [9, -3, -2, -3]])\n",
    "\n",
    "np.dot(A, B)\n",
    "#A @ B"
   ]
  },
  {
   "cell_type": "code",
   "execution_count": 36,
   "metadata": {},
   "outputs": [
    {
     "data": {
      "text/plain": [
       "array([[0, 0, 0],\n",
       "       [0, 0, 0],\n",
       "       [0, 0, 0]])"
      ]
     },
     "execution_count": 36,
     "metadata": {},
     "output_type": "execute_result"
    }
   ],
   "source": [
    "### PROBLEM 2\n",
    "\n",
    "A = np.array([[3,1,4], [1,5,9], [-5,3,1]])\n",
    "\n",
    "- np.dot(A,np.dot(A,A))+ 9 * np.dot(A,A) - 15*A"
   ]
  },
  {
   "cell_type": "code",
   "execution_count": 72,
   "metadata": {},
   "outputs": [
    {
     "name": "stdout",
     "output_type": "stream",
     "text": [
      "[[-28 -22 -10   8  32  62  98]\n",
      " [-21 -21 -15  -3  15  39  69]\n",
      " [-15 -15 -15  -9   3  21  45]\n",
      " [-10 -10 -10 -10  -4   8  26]\n",
      " [ -6  -6  -6  -6  -6   0  12]\n",
      " [ -3  -3  -3  -3  -3  -3   3]\n",
      " [ -1  -1  -1  -1  -1  -1  -1]]\n"
     ]
    }
   ],
   "source": [
    "### PROBLEM 3\n",
    "\n",
    "A = np.triu(np.ones((7)))\n",
    "B = (5 * np.ones((7,7)) - 6 * np.tril(np.ones((7))))\n",
    "\n",
    "x = np.dot(A, np.dot(A,B))\n",
    "x = x.astype(np.int64)\n",
    "print(x)"
   ]
  },
  {
   "cell_type": "code",
   "execution_count": 90,
   "metadata": {},
   "outputs": [],
   "source": [
    "### PROBLEM 4\n",
    "\n",
    "array = np.array([1,2,3, -1, -2])\n",
    "\n",
    "def function_pb4(array):\n",
    "    c = np.copy(array)\n",
    "    c[c < 0] = 0\n",
    "    print(c)"
   ]
  },
  {
   "cell_type": "code",
   "execution_count": 169,
   "metadata": {},
   "outputs": [],
   "source": [
    "### PROBLEM 5\n",
    "\n",
    "def function_pb5():\n",
    "    # Create the 3 matrices\n",
    "    A = np.arange(6).reshape((3,2)).T\n",
    "    B = 3*np.tril(np.ones(3))\n",
    "    C = -2 * np.diag(np.ones(3))\n",
    "    \n",
    "    print(np.vstack((np.hstack((np.zeros((3,2)), A.T, np.diag((np.ones(3))))),\n",
    "           np.hstack((A, np.zeros((2,2)), np.zeros((2,2)))),\n",
    "           np.hstack((B, np.zeros((3,1)), C)))))\n"
   ]
  },
  {
   "cell_type": "code",
   "execution_count": 253,
   "metadata": {},
   "outputs": [],
   "source": [
    "### PROBLEM 6\n",
    "\n",
    "def function_pb6(matrix):\n",
    "    matrix_new = matrix / matrix.sum(axis=1).reshape(-1,1)\n",
    "    print(matrix_new)\n"
   ]
  },
  {
   "cell_type": "code",
   "execution_count": 388,
   "metadata": {},
   "outputs": [
    {
     "name": "stdout",
     "output_type": "stream",
     "text": [
      "70600674\n"
     ]
    }
   ],
   "source": [
    "### PROBLEM 7\n",
    "\n",
    "grid = np.load(\"grid.npy\")\n",
    "\n",
    "horiz = np.max(grid[:,:-3] * grid[:,1:-2] * grid[:,2:-1] * grid[:,3:])\n",
    "vert = np.max(grid[:-3,:] * grid[1:-2,:] * grid[2:-1,:] * grid[3:,:])\n",
    "diag_r = np.max(grid[:-3,:-3] * grid[1:-2,1:-2] * grid[2:-1,2:-1] * grid[3:,3:])\n",
    "diag_l = np.max(grid[3:,:-3] * grid[2:-1,1:-2] * grid[1:-2,2:-1] * grid[:-3,3:])\n",
    "winner = max(horiz, vert, diag_r, diag_l)\n",
    "\n",
    "print(winner)"
   ]
  }
 ],
 "metadata": {
  "kernelspec": {
   "display_name": "Python 3",
   "language": "python",
   "name": "python3"
  },
  "language_info": {
   "codemirror_mode": {
    "name": "ipython",
    "version": 3
   },
   "file_extension": ".py",
   "mimetype": "text/x-python",
   "name": "python",
   "nbconvert_exporter": "python",
   "pygments_lexer": "ipython3",
   "version": "3.7.3"
  }
 },
 "nbformat": 4,
 "nbformat_minor": 2
}
