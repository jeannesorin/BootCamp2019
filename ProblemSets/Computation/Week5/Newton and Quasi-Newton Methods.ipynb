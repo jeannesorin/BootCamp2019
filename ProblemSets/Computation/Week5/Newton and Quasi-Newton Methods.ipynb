{
 "cells": [
  {
   "cell_type": "markdown",
   "metadata": {},
   "source": [
    "## Newton's Method"
   ]
  },
  {
   "cell_type": "code",
   "execution_count": 53,
   "metadata": {},
   "outputs": [],
   "source": [
    "import numpy as np\n",
    "from scipy import linalg as la\n",
    "import sympy as sy\n",
    "from matplotlib import pyplot as plt\n",
    "import scipy.integrate as integrate\n",
    "import scipy.special as special\n",
    "from sympy.utilities.lambdify import lambdify\n",
    "from scipy.sparse import csr_matrix\n",
    "from scipy import optimize as opt\n",
    "import time"
   ]
  },
  {
   "cell_type": "markdown",
   "metadata": {},
   "source": [
    "### Problem 1"
   ]
  },
  {
   "cell_type": "code",
   "execution_count": 77,
   "metadata": {},
   "outputs": [
    {
     "data": {
      "text/plain": [
       "(array([1., 1.]), 5)"
      ]
     },
     "execution_count": 77,
     "metadata": {},
     "output_type": "execute_result"
    }
   ],
   "source": [
    "def func_newton(Df, DDf, x0, maxiters, tol):\n",
    "    \n",
    "    iter = 0\n",
    "    err = 1\n",
    "    x = x0\n",
    "    \n",
    "    while (err > tol) & (iter < maxiters):\n",
    "        iter += 1\n",
    "        \n",
    "        zk = la.solve(DDf(x), Df(x).T)\n",
    "        #print(\"zk is \", zk)\n",
    "        x1 = x - zk\n",
    "        \n",
    "        Dfk1 = Df(x1)\n",
    "        e = la.norm(Dfk1, np.inf)\n",
    "        \n",
    "        #print(\"e is \", e)\n",
    "        err = e\n",
    "        x = x1\n",
    "        \n",
    "    return(x1, iter)\n",
    "\n",
    "\n",
    "f = opt.rosen\n",
    "df = opt.rosen_der\n",
    "d2f = opt.rosen_hess\n",
    "    \n",
    "func_newton(df, d2f, (-2, 2), 200, 1e-8)"
   ]
  },
  {
   "cell_type": "markdown",
   "metadata": {},
   "source": [
    "## BFGS"
   ]
  },
  {
   "cell_type": "markdown",
   "metadata": {},
   "source": [
    "### Problem 2"
   ]
  },
  {
   "cell_type": "code",
   "execution_count": 78,
   "metadata": {},
   "outputs": [
    {
     "ename": "ValueError",
     "evalue": "The truth value of an array with more than one element is ambiguous. Use a.any() or a.all()",
     "output_type": "error",
     "traceback": [
      "\u001b[0;31m---------------------------------------------------------------------------\u001b[0m",
      "\u001b[0;31mValueError\u001b[0m                                Traceback (most recent call last)",
      "\u001b[0;32m<ipython-input-78-16614851432b>\u001b[0m in \u001b[0;36m<module>\u001b[0;34m\u001b[0m\n\u001b[1;32m     52\u001b[0m \u001b[0md2f\u001b[0m \u001b[0;34m=\u001b[0m \u001b[0mopt\u001b[0m\u001b[0;34m.\u001b[0m\u001b[0mrosen_hess\u001b[0m\u001b[0;34m\u001b[0m\u001b[0;34m\u001b[0m\u001b[0m\n\u001b[1;32m     53\u001b[0m \u001b[0;34m\u001b[0m\u001b[0m\n\u001b[0;32m---> 54\u001b[0;31m \u001b[0mfunction_BFGS\u001b[0m\u001b[0;34m(\u001b[0m\u001b[0mdf\u001b[0m\u001b[0;34m,\u001b[0m \u001b[0;34m(\u001b[0m\u001b[0;34m-\u001b[0m\u001b[0;36m2\u001b[0m\u001b[0;34m,\u001b[0m \u001b[0;36m2\u001b[0m\u001b[0;34m)\u001b[0m\u001b[0;34m,\u001b[0m \u001b[0;36m200\u001b[0m\u001b[0;34m,\u001b[0m \u001b[0;36m1e-8\u001b[0m\u001b[0;34m)\u001b[0m\u001b[0;34m\u001b[0m\u001b[0;34m\u001b[0m\u001b[0m\n\u001b[0m\u001b[1;32m     55\u001b[0m \u001b[0;34m\u001b[0m\u001b[0m\n\u001b[1;32m     56\u001b[0m \u001b[0;34m\u001b[0m\u001b[0m\n",
      "\u001b[0;32m<ipython-input-78-16614851432b>\u001b[0m in \u001b[0;36mfunction_BFGS\u001b[0;34m(Df, x0, maxiter, tol)\u001b[0m\n\u001b[1;32m     28\u001b[0m \u001b[0;34m\u001b[0m\u001b[0m\n\u001b[1;32m     29\u001b[0m         \u001b[0mcheck\u001b[0m \u001b[0;34m=\u001b[0m \u001b[0;34m(\u001b[0m\u001b[0mskT\u001b[0m\u001b[0;34m*\u001b[0m\u001b[0myk\u001b[0m\u001b[0;34m)\u001b[0m\u001b[0;34m\u001b[0m\u001b[0;34m\u001b[0m\u001b[0m\n\u001b[0;32m---> 30\u001b[0;31m         \u001b[0;32mif\u001b[0m \u001b[0;34m(\u001b[0m\u001b[0mcheck\u001b[0m\u001b[0;34m==\u001b[0m \u001b[0;36m0\u001b[0m\u001b[0;34m)\u001b[0m\u001b[0;34m:\u001b[0m\u001b[0;34m\u001b[0m\u001b[0;34m\u001b[0m\u001b[0m\n\u001b[0m\u001b[1;32m     31\u001b[0m             \u001b[0;32mbreak\u001b[0m\u001b[0;34m\u001b[0m\u001b[0;34m\u001b[0m\u001b[0m\n\u001b[1;32m     32\u001b[0m \u001b[0;34m\u001b[0m\u001b[0m\n",
      "\u001b[0;31mValueError\u001b[0m: The truth value of an array with more than one element is ambiguous. Use a.any() or a.all()"
     ]
    }
   ],
   "source": [
    "\n",
    "def function_BFGS(Df, x0, maxiter, tol):\n",
    "    \n",
    "    n = np.shape(x0)[0]\n",
    "    A0m1 = np.identity(n)\n",
    "    x = x0\n",
    "    Akm1 = A0m1\n",
    "    err = 1\n",
    "    iter = 0\n",
    "    \n",
    "    while (err > tol) & (iter < maxiter):\n",
    "        \n",
    "        Dfx = Df(x)\n",
    "        Dfxt = Df(x).T\n",
    "        x1 = x - Akm1@Dfxt # 12.6\n",
    "        Dfx1 = Df(x1)\n",
    "        Dfx1t = Df(x1).T\n",
    "        \n",
    "        sk = x1 - x\n",
    "        skT = sk.T\n",
    "        yk = Dfx1t - Dfxt\n",
    "        ykT = yk.T\n",
    "        #print(\"sk\", sk)\n",
    "        #print(\"Akm1\", Akm1)\n",
    "        #print(\"yk\", yk)\n",
    "        #print(\"ykT\", ykT)\n",
    "        #print(\"Dfx1\", Dfx1)\n",
    "        #print(\"Dfx1t\", Dfx1t)\n",
    "\n",
    "        check = (skT*yk)\n",
    "        if (check== 0):\n",
    "            break\n",
    "        \n",
    "        p1 = ((skT*yk + ykT*Akm1*yk)*np.outer(sk,skT)) / (skT*yk)**2\n",
    "        p2 = (Akm1@np.outer(yk,skT) + np.outer(sk,ykT)@Akm1) / skT*yk\n",
    "        \n",
    "        Akm1p = Akm1 + p1 - p2\n",
    "        \n",
    "        # Compute error\n",
    "        Dfk1 = Df(x1)\n",
    "        e = la.norm(Dfk1, np.inf)\n",
    "        \n",
    "        print(\"e is \", e)\n",
    "        err = e\n",
    "        x = x1\n",
    "        Akm1 = Akm1p\n",
    "        # Update\n",
    "        \n",
    "    return(x1, iter)\n",
    "        \n",
    "f = opt.rosen\n",
    "df = opt.rosen_der\n",
    "d2f = opt.rosen_hess\n",
    "    \n",
    "function_BFGS(df, (-2, 2), 200, 1e-8)      \n",
    "        \n",
    "        \n"
   ]
  },
  {
   "cell_type": "markdown",
   "metadata": {},
   "source": [
    "### Problem 3"
   ]
  },
  {
   "cell_type": "code",
   "execution_count": 93,
   "metadata": {},
   "outputs": [],
   "source": [
    "\n",
    "def function_time(n):\n",
    "    \n",
    "    x0 = np.array((np.random.uniform(-3, 3), np.random.uniform(-3, 3)))\n",
    "    \n",
    "    Newton_time = np.empty(1)\n",
    "    BFGS = np.empty(1)\n",
    "    scipy = np.empty(1)\n",
    "    Newton_iter = np.empty(1)\n",
    "    BFGS_iter = np.empty(1)\n",
    "    scipy_iter = np.empty(1)\n",
    "    \n",
    "    F = opt.rosen\n",
    "    Df = opt.rosen_der\n",
    "    DDf = opt.rosen_hess\n",
    "        \n",
    "    for i in range(n):\n",
    "        time_s = time.time()\n",
    "        n, ni = func_newton(Df, DDf, x0, maxiters = 100, tol=1e-6)\n",
    "        time_f = time.time() - time_s\n",
    "        Newton_time = np.append(Newton_time, time_f)\n",
    "        Newton_iter = np.append(Newton_iter, ni) \n",
    "        #B, Bi = function_BFGS(Df, x0, maxiters = 100, tol=1e-6)\n",
    "        #BFGS = np.append(BFGS, B)\n",
    "        #BFGS_iter = np.append(BFGS_iter, B)\n",
    "        #s = opt.fmin_bfgs(f=F, x0=x0, fprime=Df, maxiter=100, disp = False, retall = True)\n",
    "        #scipy = np.append(sci)\n",
    "    return(Newton_time, Newton_iter, BFGS, BFGS_iter)\n",
    "\n",
    "\n",
    "NT, NI, BT, BI = function_time(10000)"
   ]
  },
  {
   "cell_type": "code",
   "execution_count": 94,
   "metadata": {
    "scrolled": true
   },
   "outputs": [
    {
     "data": {
      "text/plain": [
       "<matplotlib.collections.PathCollection at 0x151e07a1d0>"
      ]
     },
     "execution_count": 94,
     "metadata": {},
     "output_type": "execute_result"
    },
    {
     "data": {
      "image/png": "[encoded data removed]",
      "text/plain": [
       "<Figure size 432x288 with 1 Axes>"
      ]
     },
     "metadata": {
      "needs_background": "light"
     },
     "output_type": "display_data"
    }
   ],
   "source": [
    "plt.scatter(NT[1:], NI[1:])"
   ]
  },
  {
   "cell_type": "code",
   "execution_count": 67,
   "metadata": {},
   "outputs": [],
   "source": [
    "F = opt.rosen\n",
    "Df = opt.rosen_der\n",
    "DDf = opt.rosen_hess\n",
    "x0 = np.array((np.random.uniform(-3, 3), np.random.uniform(-3, 3)))\n",
    "\n",
    "x = opt.fmin_bfgs(f=F, x0=x0, fprime=Df, maxiter=100, disp = False, retall = True)\n",
    "\n",
    "\n"
   ]
  },
  {
   "cell_type": "code",
   "execution_count": 74,
   "metadata": {},
   "outputs": [
    {
     "data": {
      "text/plain": [
       "2"
      ]
     },
     "execution_count": 74,
     "metadata": {},
     "output_type": "execute_result"
    }
   ],
   "source": [
    "np.size(x)"
   ]
  },
  {
   "cell_type": "code",
   "execution_count": null,
   "metadata": {},
   "outputs": [],
   "source": []
  }
 ],
 "metadata": {
  "kernelspec": {
   "display_name": "Python 3",
   "language": "python",
   "name": "python3"
  },
  "language_info": {
   "codemirror_mode": {
    "name": "ipython",
    "version": 3
   },
   "file_extension": ".py",
   "mimetype": "text/x-python",
   "name": "python",
   "nbconvert_exporter": "python",
   "pygments_lexer": "ipython3",
   "version": "3.7.3"
  }
 },
 "nbformat": 4,
 "nbformat_minor": 2
}
