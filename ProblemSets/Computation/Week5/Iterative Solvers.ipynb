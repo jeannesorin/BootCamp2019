{
 "cells": [
  {
   "cell_type": "markdown",
   "metadata": {},
   "source": [
    "How to solve large systems iteratively "
   ]
  },
  {
   "cell_type": "code",
   "execution_count": 243,
   "metadata": {},
   "outputs": [],
   "source": [
    "import numpy as np\n",
    "from scipy import linalg as la\n",
    "import sympy as sy\n",
    "from matplotlib import pyplot as plt\n",
    "import scipy.integrate as integrate\n",
    "import scipy.special as special\n",
    "from sympy.utilities.lambdify import lambdify\n",
    "from scipy import sparse\n",
    "from scipy.linalg import block_diag\n",
    "from scipy.sparse import csr_matrix\n"
   ]
  },
  {
   "cell_type": "markdown",
   "metadata": {},
   "source": [
    "# The Jacobi Method"
   ]
  },
  {
   "cell_type": "markdown",
   "metadata": {},
   "source": [
    "Solve for each variable in terms of the others, then use the previous values to update each approximation"
   ]
  },
  {
   "cell_type": "markdown",
   "metadata": {},
   "source": [
    "### Problem 1"
   ]
  },
  {
   "cell_type": "code",
   "execution_count": 68,
   "metadata": {},
   "outputs": [],
   "source": [
    "def function_jacobi(A, b, tol, maxiters):\n",
    "    \n",
    "    D = np.diag(A)\n",
    "    x = np.ones(len(D))\n",
    "    e = 1\n",
    "    maxiters = 50\n",
    "    iter = 0\n",
    "    print(x)\n",
    "    \n",
    "    \n",
    "    while (e > tol) & (iter <= maxiters):\n",
    "        iter += 1\n",
    "        print(\"iter is\",  iter)\n",
    "        xp = x + (b-A@x.T)*1/D\n",
    "        e = la.norm(x - xp, np.inf)\n",
    "        print(\"error is \", e)\n",
    "        x = xp*1.\n",
    "        \n",
    "    print(\"A@x and b are close\", np.allclose(A@x, b))\n",
    "\n",
    "        \n",
    "    return x\n",
    "\n",
    "\n",
    " \n",
    "def diag_dom(n, num_entries=None):\n",
    "    \"\"\"Generate a strictly diagonally dominant (n, n) matrix.\n",
    "    Parameters:\n",
    "        n (int): The dimension of the system.\n",
    "        num_entries (int): The number of nonzero values.\n",
    "            Defaults to n^(3/2)-n.\n",
    "    Returns:\n",
    "        A ((n,n) ndarray): A (n, n) strictly diagonally dominant matrix.\n",
    "    \"\"\"\n",
    "    if num_entries is None:\n",
    "        num_entries = int(n**1.5) - n\n",
    "    A = np.zeros((n,n))\n",
    "    rows = np.random.choice(np.arange(0,n), size=num_entries)\n",
    "    cols = np.random.choice(np.arange(0,n), size=num_entries)\n",
    "    data = np.random.randint(-4, 4, size=num_entries)\n",
    "    for i in range(num_entries):\n",
    "        A[rows[i], cols[i]] = data[i]\n",
    "    for i in range(n):\n",
    "        A[i,i] = np.sum(np.abs(A[i])) + 1\n",
    "        \n",
    "    return A"
   ]
  },
  {
   "cell_type": "code",
   "execution_count": 74,
   "metadata": {},
   "outputs": [
    {
     "name": "stdout",
     "output_type": "stream",
     "text": [
      "[1. 1. 1. 1. 1.]\n",
      "iter is 1\n",
      "error is  1.551944210538132\n",
      "iter is 2\n",
      "error is  0.9076985246468413\n",
      "iter is 3\n",
      "error is  0.14145645377011706\n",
      "iter is 4\n",
      "error is  0.09430430251341138\n",
      "iter is 5\n",
      "error is  0.0\n",
      "A@x and b are close True\n"
     ]
    },
    {
     "data": {
      "text/plain": [
       "array([-0.31323644,  0.68172298, -0.09342697,  0.59781877,  0.09850603])"
      ]
     },
     "execution_count": 74,
     "metadata": {},
     "output_type": "execute_result"
    }
   ],
   "source": [
    "A = diag_dom(5)\n",
    "b = np.random.random(5)\n",
    "function_jacobi(A, b, 1e-4, 200)"
   ]
  },
  {
   "cell_type": "markdown",
   "metadata": {},
   "source": [
    "### Convergence"
   ]
  },
  {
   "cell_type": "markdown",
   "metadata": {},
   "source": [
    "### Problem 2"
   ]
  },
  {
   "cell_type": "code",
   "execution_count": 83,
   "metadata": {},
   "outputs": [],
   "source": [
    "def function_jacobi(A, b, tol, maxiters, plot=False):\n",
    "    \n",
    "    D = np.diag(A)\n",
    "    x = np.ones(len(D))\n",
    "    e = 1\n",
    "    maxiters = 50\n",
    "    iter = 0\n",
    "    print(x)\n",
    "    err = np.empty(1)\n",
    "    iter_all = np.empty(1)\n",
    "    \n",
    "    while (e > tol) & (iter <= maxiters):\n",
    "        iter += 1\n",
    "        print(\"iter is\",  iter)\n",
    "        xp = x + (b-A@x.T)*1/D\n",
    "        e = la.norm(x - xp, np.inf)\n",
    "        print(e)\n",
    "        err = np.append(err, e)\n",
    "        iter_all = np.append(iter_all, iter)\n",
    "        print(\"error is \", e)\n",
    "        x = xp*1.\n",
    "        \n",
    "    print(\"A@x and b are close\", np.allclose(A@x, b))\n",
    "    \n",
    "    if (plot==True):\n",
    "        plt.semilogy(iter_all, err)\n",
    "\n",
    "        \n",
    "    return x"
   ]
  },
  {
   "cell_type": "code",
   "execution_count": 84,
   "metadata": {},
   "outputs": [
    {
     "name": "stdout",
     "output_type": "stream",
     "text": [
      "[1. 1. 1. 1. 1.]\n",
      "iter is 1\n",
      "1.551944210538132\n",
      "error is  1.551944210538132\n",
      "iter is 2\n",
      "0.9076985246468413\n",
      "error is  0.9076985246468413\n",
      "iter is 3\n",
      "0.14145645377011706\n",
      "error is  0.14145645377011706\n",
      "iter is 4\n",
      "0.09430430251341138\n",
      "error is  0.09430430251341138\n",
      "iter is 5\n",
      "0.0\n",
      "error is  0.0\n",
      "A@x and b are close True\n"
     ]
    },
    {
     "data": {
      "text/plain": [
       "array([-0.31323644,  0.68172298, -0.09342697,  0.59781877,  0.09850603])"
      ]
     },
     "execution_count": 84,
     "metadata": {},
     "output_type": "execute_result"
    },
    {
     "data": {
      "image/png": "[encoded data removed]",
      "text/plain": [
       "<Figure size 432x288 with 1 Axes>"
      ]
     },
     "metadata": {
      "needs_background": "light"
     },
     "output_type": "display_data"
    }
   ],
   "source": [
    "function_jacobi(A, b, 1e-6, 200, plot=True)"
   ]
  },
  {
   "cell_type": "markdown",
   "metadata": {},
   "source": [
    "# The Gauss-Seidel Method"
   ]
  },
  {
   "cell_type": "markdown",
   "metadata": {},
   "source": [
    "### Exercise 3"
   ]
  },
  {
   "cell_type": "code",
   "execution_count": 123,
   "metadata": {},
   "outputs": [],
   "source": [
    "def function_gauss_seidel(A, b, tol, maxiters, plot=False):\n",
    "    \n",
    "    D = np.diag(A)\n",
    "    x1 = np.ones(len(D))\n",
    "    e = 1\n",
    "    maxiters = 50\n",
    "    iter = 0\n",
    "    print(x1)\n",
    "    err = np.empty(1)\n",
    "    iter_all = np.empty(1)\n",
    "    \n",
    "    while (e > tol) & (iter <= maxiters):\n",
    "        iter += 1\n",
    "        print(\"iter is\",  iter)\n",
    "        \n",
    "        x0 = np.copy(x1)\n",
    "        \n",
    "        # For each row\n",
    "        for i in range(np.shape(A)[0]):\n",
    "            x1[i] = x0[i] + (1/D[i]) * (b[i] - x1@A[i,:].T)\n",
    "        \n",
    "        e = la.norm(x0 - x1, np.inf)\n",
    "        print(e)\n",
    "        err = np.append(err, e)\n",
    "        iter_all = np.append(iter_all, iter)\n",
    "        print(\"error is \", e)\n",
    "        \n",
    "        \n",
    "    print(\"A@x and b are close\", np.allclose(A@x1, b))\n",
    "    \n",
    "    if (plot==True):\n",
    "        plt.semilogy(iter_all, err)\n",
    "\n",
    "        \n",
    "    return x"
   ]
  },
  {
   "cell_type": "code",
   "execution_count": 124,
   "metadata": {},
   "outputs": [
    {
     "name": "stdout",
     "output_type": "stream",
     "text": [
      "[1. 1. 1. 1. 1.]\n",
      "iter is 1\n",
      "1.4051284376879751\n",
      "error is  1.4051284376879751\n",
      "iter is 2\n",
      "0.9367522917919834\n",
      "error is  0.9367522917919834\n",
      "iter is 3\n",
      "0.4683761458959915\n",
      "error is  0.4683761458959915\n",
      "iter is 4\n",
      "0.23418807294799565\n",
      "error is  0.23418807294799565\n",
      "iter is 5\n",
      "0.11709403647399783\n",
      "error is  0.11709403647399783\n",
      "iter is 6\n",
      "0.0585470182369989\n",
      "error is  0.0585470182369989\n",
      "iter is 7\n",
      "0.029273509118499436\n",
      "error is  0.029273509118499436\n",
      "iter is 8\n",
      "0.014636754559249718\n",
      "error is  0.014636754559249718\n",
      "iter is 9\n",
      "0.007318377279624866\n",
      "error is  0.007318377279624866\n",
      "iter is 10\n",
      "0.003659188639812447\n",
      "error is  0.003659188639812447\n",
      "iter is 11\n",
      "0.0018295943199062303\n",
      "error is  0.0018295943199062303\n",
      "iter is 12\n",
      "0.000914797159953129\n",
      "error is  0.000914797159953129\n",
      "iter is 13\n",
      "0.0004573985799765645\n",
      "error is  0.0004573985799765645\n",
      "iter is 14\n",
      "0.00022869928998829614\n",
      "error is  0.00022869928998829614\n",
      "iter is 15\n",
      "0.00011434964499415501\n",
      "error is  0.00011434964499415501\n",
      "iter is 16\n",
      "5.717482249709138e-05\n",
      "error is  5.717482249709138e-05\n",
      "iter is 17\n",
      "2.858741124854569e-05\n",
      "error is  2.858741124854569e-05\n",
      "iter is 18\n",
      "1.4293705624265907e-05\n",
      "error is  1.4293705624265907e-05\n",
      "iter is 19\n",
      "7.146852812139892e-06\n",
      "error is  7.146852812139892e-06\n",
      "iter is 20\n",
      "3.573426406083824e-06\n",
      "error is  3.573426406083824e-06\n",
      "iter is 21\n",
      "1.786713203041912e-06\n",
      "error is  1.786713203041912e-06\n",
      "iter is 22\n",
      "8.933566015140171e-07\n",
      "error is  8.933566015140171e-07\n",
      "A@x and b are close True\n"
     ]
    },
    {
     "data": {
      "text/plain": [
       "array([0., 0., 0.])"
      ]
     },
     "execution_count": 124,
     "metadata": {},
     "output_type": "execute_result"
    },
    {
     "data": {
      "image/png": "[encoded data removed]",
      "text/plain": [
       "<Figure size 432x288 with 1 Axes>"
      ]
     },
     "metadata": {
      "needs_background": "light"
     },
     "output_type": "display_data"
    }
   ],
   "source": [
    "A = diag_dom(5)\n",
    "b = np.random.random(5)\n",
    "\n",
    "\n",
    "function_gauss_seidel(A, b, 1e-6, 200, plot=True)"
   ]
  },
  {
   "cell_type": "markdown",
   "metadata": {},
   "source": [
    "### Solving Sparse Systems Iteratively"
   ]
  },
  {
   "cell_type": "markdown",
   "metadata": {},
   "source": [
    "### Problem 4"
   ]
  },
  {
   "cell_type": "code",
   "execution_count": 149,
   "metadata": {},
   "outputs": [],
   "source": [
    "def function_gauss_seidel_sparse(A, b, tol, maxiters):\n",
    " \n",
    "    \n",
    "    D = A.diagonal()\n",
    "    x1 = np.ones(len(D))\n",
    "    e = 1\n",
    "    maxiters = 50\n",
    "    iter = 0\n",
    "    #print(x1)\n",
    "    err = np.empty(1)\n",
    "    iter_all = np.empty(1)\n",
    "    \n",
    "    while (e > tol) & (iter <= maxiters):\n",
    "        iter += 1\n",
    "        print(\"iter is\",  iter)\n",
    "        \n",
    "        x0 = np.copy(x1)\n",
    "        \n",
    "        # For each row\n",
    "        for i in range(np.shape(A)[0]):\n",
    "               \n",
    "            rowstart = A.indptr[i]\n",
    "            rowend = A.indptr[i+1]\n",
    "            x1[i] = x0[i] + (1/D[i]) * (b[i] - A.data[rowstart:rowend] @ x1[A.indices[rowstart:rowend]].T)\n",
    "        \n",
    "        e = la.norm(x0 - x1, np.inf)\n",
    "        print(e)\n",
    "        err = np.append(err, e)\n",
    "        iter_all = np.append(iter_all, iter)\n",
    "        print(\"error is \", e)\n",
    "        \n",
    "        \n",
    "    print(\"A@x and b are close\", np.allclose(A@x1, b))\n",
    "    print(\"A@x \", A@x1)\n",
    "    print(\"b\", b)\n",
    "\n",
    "    return x"
   ]
  },
  {
   "cell_type": "code",
   "execution_count": 150,
   "metadata": {},
   "outputs": [
    {
     "name": "stdout",
     "output_type": "stream",
     "text": [
      "iter is 1\n",
      "1.625871745421557\n",
      "error is  1.625871745421557\n",
      "iter is 2\n",
      "0.7689802125410604\n",
      "error is  0.7689802125410604\n",
      "iter is 3\n",
      "0.20940245191889317\n",
      "error is  0.20940245191889317\n",
      "iter is 4\n",
      "0.09106348866004024\n",
      "error is  0.09106348866004024\n",
      "iter is 5\n",
      "0.0148940834093946\n",
      "error is  0.0148940834093946\n",
      "iter is 6\n",
      "0.0018411008250282523\n",
      "error is  0.0018411008250282523\n",
      "iter is 7\n",
      "0.0007316216825147305\n",
      "error is  0.0007316216825147305\n",
      "iter is 8\n",
      "0.00011618208008989939\n",
      "error is  0.00011618208008989939\n",
      "iter is 9\n",
      "2.8073855345589482e-05\n",
      "error is  2.8073855345589482e-05\n",
      "iter is 10\n",
      "4.008409322006634e-06\n",
      "error is  4.008409322006634e-06\n",
      "iter is 11\n",
      "8.567547134016168e-07\n",
      "error is  8.567547134016168e-07\n",
      "A@x and b are close False\n",
      "A@x  [0.0234228  0.91622726 0.17066241 0.91087427 0.4872379  0.07791757\n",
      " 0.20623608 0.47378889 0.89384716 0.94794517 0.67480419 0.19654762\n",
      " 0.25570869 0.10329806 0.73320619 0.30855084 0.06719046 0.70438443\n",
      " 0.84101528 0.67367044 0.71955532 0.30153505 0.74549013 0.10209534\n",
      " 0.12084452 0.54002189 0.66878316 0.05407263 0.37314818 0.54177761\n",
      " 0.64735782 0.78596441 0.92054399 0.32061376 0.33261109 0.13688861\n",
      " 0.73964752 0.0786668  0.59210617 0.11334631 0.85539931 0.10680613\n",
      " 0.48397244 0.99080004 0.24015866 0.65161241 0.93593166 0.35053744\n",
      " 0.4440178  0.61128162 0.63976676 0.02525069 0.11789601 0.63709778\n",
      " 0.98455448 0.18026549 0.19796845 0.06226497 0.79157053 0.17747925\n",
      " 0.16413697 0.85004145 0.40420047 0.84539053 0.1472595  0.73695882\n",
      " 0.89729823 0.00730852 0.78910508 0.5716892  0.38511461 0.79648137\n",
      " 0.23911328 0.3355293  0.58424188 0.44136481 0.70857364 0.2582101\n",
      " 0.28448826 0.92528278 0.20630033 0.45843822 0.12127217 0.07246052\n",
      " 0.03377247 0.52661177 0.63139209 0.97569428 0.71129023 0.0750453\n",
      " 0.64509738 0.29721189 0.40452403 0.26712299 0.42003868 0.46584986\n",
      " 0.40164643 0.22712232 0.75255604 0.90737496]\n",
      "b [0.02342383 0.91622666 0.17066216 0.91087209 0.4872372  0.07791759\n",
      " 0.20623485 0.4737887  0.89384647 0.94794514 0.67480543 0.19654795\n",
      " 0.25571162 0.10329722 0.73320719 0.30855167 0.06719077 0.70438451\n",
      " 0.84101566 0.67367135 0.71955674 0.30153547 0.74549182 0.10209602\n",
      " 0.12084404 0.54002263 0.66878239 0.0540732  0.373147   0.54177734\n",
      " 0.64735789 0.78596491 0.92054347 0.32061395 0.33261113 0.13688864\n",
      " 0.73964843 0.07866675 0.59210637 0.11334645 0.85540008 0.10680637\n",
      " 0.48397232 0.99079998 0.24015938 0.65161296 0.93593147 0.3505372\n",
      " 0.44401775 0.61128208 0.63976647 0.02525217 0.1178961  0.63709805\n",
      " 0.98455493 0.18026552 0.19796799 0.06226502 0.79156987 0.17747929\n",
      " 0.1641371  0.85004152 0.40420016 0.84539075 0.14725965 0.73695866\n",
      " 0.89729823 0.00730873 0.78910528 0.57168924 0.38511513 0.79648163\n",
      " 0.23911334 0.3355293  0.58424172 0.44136474 0.70857394 0.2582101\n",
      " 0.28448829 0.92528277 0.2063004  0.45843814 0.12127225 0.07246063\n",
      " 0.03377267 0.52661177 0.63139208 0.97569414 0.71129031 0.0750453\n",
      " 0.64509738 0.29721181 0.40452403 0.26712301 0.42003867 0.46584986\n",
      " 0.40164643 0.22712232 0.75255604 0.90737496]\n"
     ]
    },
    {
     "data": {
      "text/plain": [
       "array([0., 0., 0.])"
      ]
     },
     "execution_count": 150,
     "metadata": {},
     "output_type": "execute_result"
    }
   ],
   "source": [
    "A = sparse.csr_matrix(diag_dom(100))\n",
    "b = np.random.random(100)\n",
    "function_gauss_seidel_sparse(A, b, 1e-6, 200)"
   ]
  },
  {
   "cell_type": "markdown",
   "metadata": {},
   "source": [
    "# The Successive Over-Relaxation Method"
   ]
  },
  {
   "cell_type": "code",
   "execution_count": 152,
   "metadata": {},
   "outputs": [],
   "source": [
    "def function_SOR_sparse(A, b, w, tol, maxiters):\n",
    " \n",
    "    \n",
    "    D = A.diagonal()\n",
    "    x1 = np.ones(len(D))\n",
    "    e = 1\n",
    "    maxiters = 50\n",
    "    iter = 0\n",
    "    #print(x1)\n",
    "    err = np.empty(1)\n",
    "    iter_all = np.empty(1)\n",
    "    \n",
    "    while (e > tol) & (iter <= maxiters):\n",
    "        iter += 1\n",
    "        print(\"iter is\",  iter)\n",
    "        \n",
    "        x0 = np.copy(x1)\n",
    "        \n",
    "        # For each row\n",
    "        for i in range(np.shape(A)[0]):\n",
    "               \n",
    "            rowstart = A.indptr[i]\n",
    "            rowend = A.indptr[i+1]\n",
    "            x1[i] = x0[i] + (w/D[i]) * (b[i] - A.data[rowstart:rowend] @ x1[A.indices[rowstart:rowend]].T)\n",
    "        \n",
    "        e = la.norm(x0 - x1, np.inf)\n",
    "        print(e)\n",
    "        err = np.append(err, e)\n",
    "        iter_all = np.append(iter_all, iter)\n",
    "        print(\"error is \", e)\n",
    "        \n",
    "        \n",
    "    print(\"A@x and b are close\", np.allclose(A@x1, b))\n",
    "    print(\"A@x \", A@x1)\n",
    "    print(\"b\", b)\n",
    "\n",
    "    return x"
   ]
  },
  {
   "cell_type": "code",
   "execution_count": 153,
   "metadata": {},
   "outputs": [
    {
     "name": "stdout",
     "output_type": "stream",
     "text": [
      "iter is 1\n",
      "1.4592746841719924\n",
      "error is  1.4592746841719924\n",
      "iter is 2\n",
      "0.6853569361933813\n",
      "error is  0.6853569361933813\n",
      "iter is 3\n",
      "0.23428764145012718\n",
      "error is  0.23428764145012718\n",
      "iter is 4\n",
      "0.06151926393926149\n",
      "error is  0.06151926393926149\n",
      "iter is 5\n",
      "0.009898027139954774\n",
      "error is  0.009898027139954774\n",
      "iter is 6\n",
      "0.003822513372713471\n",
      "error is  0.003822513372713471\n",
      "iter is 7\n",
      "0.00048551535422658443\n",
      "error is  0.00048551535422658443\n",
      "iter is 8\n",
      "0.0001203991284906003\n",
      "error is  0.0001203991284906003\n",
      "iter is 9\n",
      "2.134757484859029e-05\n",
      "error is  2.134757484859029e-05\n",
      "iter is 10\n",
      "3.439168037040058e-06\n",
      "error is  3.439168037040058e-06\n",
      "iter is 11\n",
      "7.618167725681468e-07\n",
      "error is  7.618167725681468e-07\n",
      "A@x and b are close False\n",
      "A@x  [0.15431459 0.6931286  0.83932065 0.37091333 0.86996656 0.9895679\n",
      " 0.08392553 0.82006017 0.16736945 0.5707184  0.89595697 0.3391068\n",
      " 0.26667743 0.44162106 0.88747456 0.37864214 0.60412348 0.74262017\n",
      " 0.11959906 0.87987821 0.33305158 0.38793916 0.20035818 0.87348188\n",
      " 0.87648364 0.74659333 0.33460542 0.17820197 0.60788707 0.9642759\n",
      " 0.6892426  0.80791079 0.11234139 0.46339675 0.76791498 0.32842875\n",
      " 0.32027775 0.68054886 0.59740197 0.18638868 0.53509784 0.14091353\n",
      " 0.9237983  0.16111998 0.84375402 0.35700363 0.41543438 0.99626714\n",
      " 0.33883339 0.31695896 0.21500652 0.77497868 0.4708647  0.57294317\n",
      " 0.35795044 0.80535368 0.6249565  0.03265491 0.30008296 0.45153925\n",
      " 0.18057427 0.22538554 0.7703133  0.63562316 0.0011427  0.85121215\n",
      " 0.27974556 0.50845434 0.21646197 0.25498677 0.95591975 0.53201398\n",
      " 0.15103626 0.43813478 0.1014203  0.35033745 0.58271396 0.93741725\n",
      " 0.31334576 0.05339387 0.65506246 0.51162865 0.79189551 0.79616582\n",
      " 0.86855589 0.37640163 0.59871774 0.84817398 0.72676551 0.13190613\n",
      " 0.59784218 0.06139209 0.50045214 0.5992282  0.78748829 0.87069232\n",
      " 0.58457708 0.60191995 0.0993366  0.53411446]\n",
      "b [0.15431325 0.69312863 0.8393214  0.37091237 0.86996736 0.9895679\n",
      " 0.08392507 0.82006188 0.16736566 0.57071686 0.89595695 0.33910789\n",
      " 0.26667869 0.44162124 0.88747465 0.37864206 0.60412411 0.74261902\n",
      " 0.11959801 0.8798802  0.33305216 0.38794017 0.20035769 0.87348205\n",
      " 0.87648149 0.74659026 0.3346047  0.17820075 0.60788641 0.96427627\n",
      " 0.68924361 0.80791105 0.11234034 0.46339681 0.76791517 0.32843015\n",
      " 0.32027907 0.68054863 0.59740187 0.18638842 0.53509668 0.14091309\n",
      " 0.92379839 0.16111969 0.84375387 0.35700402 0.41543368 0.99626644\n",
      " 0.33883313 0.31695964 0.21500605 0.77497816 0.47086449 0.57294397\n",
      " 0.35795052 0.8053535  0.62495628 0.03265509 0.30008242 0.45153957\n",
      " 0.18057397 0.22538581 0.77031348 0.63562546 0.00114278 0.85121199\n",
      " 0.27974536 0.50845478 0.21646187 0.25498662 0.95591996 0.53201398\n",
      " 0.15103617 0.43813511 0.10141886 0.35033761 0.58271354 0.93741767\n",
      " 0.31334615 0.053394   0.65506226 0.51162865 0.79189565 0.79616582\n",
      " 0.86855644 0.37640163 0.59871788 0.84817398 0.72676551 0.13190613\n",
      " 0.59784218 0.061392   0.50045214 0.59922833 0.78748829 0.87069232\n",
      " 0.58457708 0.6019199  0.0993366  0.53411446]\n"
     ]
    },
    {
     "data": {
      "text/plain": [
       "array([0., 0., 0.])"
      ]
     },
     "execution_count": 153,
     "metadata": {},
     "output_type": "execute_result"
    }
   ],
   "source": [
    "A = sparse.csr_matrix(diag_dom(100))\n",
    "b = np.random.random(100)\n",
    "function_gauss_seidel_sparse(A, b, 1e-6, 200)"
   ]
  },
  {
   "cell_type": "markdown",
   "metadata": {},
   "source": [
    "# A Finite Difference Method (TO FINISH)"
   ]
  },
  {
   "cell_type": "code",
   "execution_count": 305,
   "metadata": {},
   "outputs": [
    {
     "data": {
      "image/png": "[encoded data removed]",
      "text/plain": [
       "<Figure size 432x288 with 1 Axes>"
      ]
     },
     "metadata": {
      "needs_background": "light"
     },
     "output_type": "display_data"
    }
   ],
   "source": [
    "def Finite_diff_method(A, b, w, tol, maxiters, plot=False):\n",
    " \n",
    "    \n",
    "    D = A.diagonal()\n",
    "    x1 = np.ones(len(D))\n",
    "    e = 1\n",
    "    maxiters = 50\n",
    "    iter = 0\n",
    "    #print(x1)\n",
    "    err = np.empty(1)\n",
    "    iter_all = np.empty(1)\n",
    "    \n",
    "    while (e > tol) & (iter <= maxiters):\n",
    "        iter += 1\n",
    "        #print(\"iter is\",  iter)\n",
    "        \n",
    "        x0 = np.copy(x1)\n",
    "        \n",
    "        # For each row\n",
    "        for i in range(np.shape(A)[0]):\n",
    "               \n",
    "            rowstart = A.indptr[i]\n",
    "            rowend = A.indptr[i+1]\n",
    "            x1[i] = x0[i] + (w/D[i]) * (b[i] - A.data[rowstart:rowend] @ x1[A.indices[rowstart:rowend]].T)\n",
    "        \n",
    "        e = la.norm(x0 - x1, np.inf)\n",
    "        #print(e)\n",
    "        err = np.append(err, e)\n",
    "        iter_all = np.append(iter_all, iter)\n",
    "        #print(\"error is \", e)\n",
    "        \n",
    "        \n",
    "    #print(\"A@x and b are close\", np.allclose(A@x1, b))\n",
    "    #print(\"A@x \", A@x1)\n",
    "    #print(\"b\", b)\n",
    "    #print(\"x1 is \", x1)\n",
    "\n",
    "    \n",
    "    if (plot==True):\n",
    "        u = x1.reshape(n,n)\n",
    "        plt.pcolormesh(u, cmap=plt.get_cmap(\"coolwarm\"))\n",
    "    \n",
    "    \n",
    "    return x, iter\n",
    "\n",
    "\n",
    "n = 5\n",
    "#Construct b\n",
    "b = np.zeros(n)\n",
    "b[0] = -100\n",
    "b[len(b)-1] = -100\n",
    "b = np.tile(b, n)\n",
    "#Construct B\n",
    "offsets = [-1,0,1]\n",
    "B = sparse.diags([1,-n,1], offsets, shape=(n,n))\n",
    "#Construct the Is\n",
    "offsets = [-n,n]\n",
    "I = sparse.diags([1,1], offsets, shape=(n**2,n**2))\n",
    "#Construct A\n",
    "A = sparse.block_diag([B]*n) + I\n",
    "ω = 1.5\n",
    "result = Finite_diff_method(A, b, ω, 1e-6, 200, plot=True)\n",
    "\n",
    "\n",
    "\n",
    "\n"
   ]
  },
  {
   "cell_type": "markdown",
   "metadata": {},
   "source": [
    "### Problem 7"
   ]
  },
  {
   "cell_type": "code",
   "execution_count": 306,
   "metadata": {},
   "outputs": [],
   "source": [
    "n = 20\n",
    "#Construct b\n",
    "b = np.zeros(n)\n",
    "b[0] = -100\n",
    "b[len(b)-1] = -100\n",
    "b = np.tile(b, n)\n",
    "#Construct B\n",
    "offsets = [-1,0,1]\n",
    "B = sparse.diags([1,-n,1], offsets, shape=(n,n))\n",
    "#Construct the Is\n",
    "offsets = [-n,n]\n",
    "I = sparse.diags([1,1], offsets, shape=(n**2,n**2))\n",
    "#Construct A\n",
    "A = sparse.block_diag([B]*n) + I"
   ]
  },
  {
   "cell_type": "code",
   "execution_count": 309,
   "metadata": {},
   "outputs": [
    {
     "data": {
      "text/plain": [
       "[<matplotlib.lines.Line2D at 0x1514c7ed68>]"
      ]
     },
     "execution_count": 309,
     "metadata": {},
     "output_type": "execute_result"
    },
    {
     "data": {
      "image/png": "[encoded data removed]",
      "text/plain": [
       "<Figure size 432x288 with 1 Axes>"
      ]
     },
     "metadata": {
      "needs_background": "light"
     },
     "output_type": "display_data"
    }
   ],
   "source": [
    "ω = 1\n",
    "\n",
    "result = np.empty(1)\n",
    "iter = np.empty(1)\n",
    "\n",
    "w_vec = np.linspace(1, 1.95, 20)\n",
    "for i in range(20):\n",
    "    w = w_vec[i]\n",
    "    ri, iteri = Finite_diff_method(A, b, w, 1e-6, 200, plot=False)\n",
    "    result = np.append(result, ri)\n",
    "    iter = np.append(iter, iteri)\n",
    "\n",
    "plt.plot(w_vec, iter[1:])\n"
   ]
  }
 ],
 "metadata": {
  "kernelspec": {
   "display_name": "Python 3",
   "language": "python",
   "name": "python3"
  },
  "language_info": {
   "codemirror_mode": {
    "name": "ipython",
    "version": 3
   },
   "file_extension": ".py",
   "mimetype": "text/x-python",
   "name": "python",
   "nbconvert_exporter": "python",
   "pygments_lexer": "ipython3",
   "version": "3.7.3"
  }
 },
 "nbformat": 4,
 "nbformat_minor": 2
}
