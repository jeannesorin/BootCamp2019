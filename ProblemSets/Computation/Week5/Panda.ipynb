{
 "cells": [
  {
   "cell_type": "markdown",
   "metadata": {},
   "source": [
    "# Pandas 1: Introduction"
   ]
  },
  {
   "cell_type": "code",
   "execution_count": 175,
   "metadata": {},
   "outputs": [],
   "source": [
    "import numpy as np\n",
    "import pandas as pd\n",
    "import matplotlib.pyplot as plt\n",
    "from datetime import datetime"
   ]
  },
  {
   "cell_type": "markdown",
   "metadata": {},
   "source": [
    "## Series"
   ]
  },
  {
   "cell_type": "markdown",
   "metadata": {},
   "source": [
    "### Exercise 1"
   ]
  },
  {
   "cell_type": "code",
   "execution_count": 5,
   "metadata": {},
   "outputs": [
    {
     "data": {
      "text/plain": [
       "0.0       0.0\n",
       "2.0       0.0\n",
       "4.0       3.0\n",
       "6.0       0.0\n",
       "8.0      15.0\n",
       "10.0     24.0\n",
       "12.0      0.0\n",
       "14.0     48.0\n",
       "16.0     63.0\n",
       "18.0      0.0\n",
       "20.0     99.0\n",
       "22.0    120.0\n",
       "24.0      0.0\n",
       "26.0    168.0\n",
       "28.0    195.0\n",
       "30.0      0.0\n",
       "32.0    255.0\n",
       "34.0    288.0\n",
       "36.0      0.0\n",
       "38.0    360.0\n",
       "40.0    399.0\n",
       "42.0      0.0\n",
       "44.0    483.0\n",
       "46.0    528.0\n",
       "48.0      0.0\n",
       "50.0    624.0\n",
       "dtype: float64"
      ]
     },
     "execution_count": 5,
     "metadata": {},
     "output_type": "execute_result"
    }
   ],
   "source": [
    "V1 = np.zeros(26)\n",
    "for i in range(len(V1)):\n",
    "        V1[i] = i**2-1\n",
    "        if np.remainder(V1[i], 3) != 0.0:\n",
    "            V1[i] = 0.0\n",
    "\n",
    "pd.Series(V1, index = np.linspace(0,50, 26))"
   ]
  },
  {
   "cell_type": "markdown",
   "metadata": {},
   "source": [
    "### Exercise 2"
   ]
  },
  {
   "cell_type": "code",
   "execution_count": 28,
   "metadata": {},
   "outputs": [],
   "source": [
    "def investment(p, init = 100):\n",
    "    # Initiate index\n",
    "    index = pd.date_range(\"1/1/2000\", \"12/31/2000\", freq='D')\n",
    "    # Create list\n",
    "    list = pd.Series(init*np.ones(len(index)), index)\n",
    "    for i in range(1, len(index)):\n",
    "        list[i] = max(0, (list[i-1]+1)*p + (list[i-1]-1)*(1-p))\n",
    "    \n",
    "    list = np.cumsum(list)\n",
    "    return(list)"
   ]
  },
  {
   "cell_type": "code",
   "execution_count": 31,
   "metadata": {},
   "outputs": [
    {
     "name": "stderr",
     "output_type": "stream",
     "text": [
      "/anaconda3/lib/python3.7/site-packages/pandas/plotting/_converter.py:129: FutureWarning: Using an implicitly registered datetime converter for a matplotlib plotting method. The converter was registered by pandas on import. Future versions of pandas will require you to explicitly register matplotlib converters.\n",
      "\n",
      "To register the converters:\n",
      "\t>>> from pandas.plotting import register_matplotlib_converters\n",
      "\t>>> register_matplotlib_converters()\n",
      "  warnings.warn(msg, FutureWarning)\n"
     ]
    },
    {
     "data": {
      "image/png": "[encoded data removed]",
      "text/plain": [
       "<Figure size 432x288 with 1 Axes>"
      ]
     },
     "metadata": {
      "needs_background": "light"
     },
     "output_type": "display_data"
    }
   ],
   "source": [
    "r = investment(0.1, init=100)\n",
    "p = plt.plot(r.index, r.values)"
   ]
  },
  {
   "cell_type": "code",
   "execution_count": 32,
   "metadata": {},
   "outputs": [
    {
     "data": {
      "image/png": "[encoded data removed]",
      "text/plain": [
       "<Figure size 432x288 with 1 Axes>"
      ]
     },
     "metadata": {
      "needs_background": "light"
     },
     "output_type": "display_data"
    }
   ],
   "source": [
    "r = investment(0.8, init=200)\n",
    "p = plt.plot(r.index, r.values)"
   ]
  },
  {
   "cell_type": "markdown",
   "metadata": {},
   "source": [
    "## Viewing and Accessing Data"
   ]
  },
  {
   "cell_type": "markdown",
   "metadata": {},
   "source": [
    "### Problem 3"
   ]
  },
  {
   "cell_type": "code",
   "execution_count": 46,
   "metadata": {},
   "outputs": [
    {
     "data": {
      "text/html": [
       "<div>\n",
       "<style scoped>\n",
       "    .dataframe tbody tr th:only-of-type {\n",
       "        vertical-align: middle;\n",
       "    }\n",
       "\n",
       "    .dataframe tbody tr th {\n",
       "        vertical-align: top;\n",
       "    }\n",
       "\n",
       "    .dataframe thead th {\n",
       "        text-align: right;\n",
       "    }\n",
       "</style>\n",
       "<table border=\"1\" class=\"dataframe\">\n",
       "  <thead>\n",
       "    <tr style=\"text-align: right;\">\n",
       "      <th></th>\n",
       "      <th>ID</th>\n",
       "      <th>Name</th>\n",
       "      <th>Sex</th>\n",
       "      <th>Age</th>\n",
       "      <th>Class</th>\n",
       "    </tr>\n",
       "  </thead>\n",
       "  <tbody>\n",
       "    <tr>\n",
       "      <th>0</th>\n",
       "      <td>0</td>\n",
       "      <td>Mylan</td>\n",
       "      <td>M</td>\n",
       "      <td>20</td>\n",
       "      <td>Sp</td>\n",
       "    </tr>\n",
       "    <tr>\n",
       "      <th>1</th>\n",
       "      <td>1</td>\n",
       "      <td>Regan</td>\n",
       "      <td>F</td>\n",
       "      <td>21</td>\n",
       "      <td>Se</td>\n",
       "    </tr>\n",
       "    <tr>\n",
       "      <th>2</th>\n",
       "      <td>2</td>\n",
       "      <td>Justin</td>\n",
       "      <td>M</td>\n",
       "      <td>18</td>\n",
       "      <td>Fr</td>\n",
       "    </tr>\n",
       "    <tr>\n",
       "      <th>3</th>\n",
       "      <td>3</td>\n",
       "      <td>Jess</td>\n",
       "      <td>F</td>\n",
       "      <td>22</td>\n",
       "      <td>Se</td>\n",
       "    </tr>\n",
       "    <tr>\n",
       "      <th>4</th>\n",
       "      <td>4</td>\n",
       "      <td>Jason</td>\n",
       "      <td>M</td>\n",
       "      <td>19</td>\n",
       "      <td>Sp</td>\n",
       "    </tr>\n",
       "    <tr>\n",
       "      <th>5</th>\n",
       "      <td>5</td>\n",
       "      <td>Remi</td>\n",
       "      <td>F</td>\n",
       "      <td>20</td>\n",
       "      <td>J</td>\n",
       "    </tr>\n",
       "    <tr>\n",
       "      <th>6</th>\n",
       "      <td>6</td>\n",
       "      <td>Matt</td>\n",
       "      <td>M</td>\n",
       "      <td>20</td>\n",
       "      <td>J</td>\n",
       "    </tr>\n",
       "    <tr>\n",
       "      <th>7</th>\n",
       "      <td>7</td>\n",
       "      <td>Alexander</td>\n",
       "      <td>M</td>\n",
       "      <td>19</td>\n",
       "      <td>J</td>\n",
       "    </tr>\n",
       "    <tr>\n",
       "      <th>8</th>\n",
       "      <td>8</td>\n",
       "      <td>JeanMarie</td>\n",
       "      <td>F</td>\n",
       "      <td>20</td>\n",
       "      <td>Se</td>\n",
       "    </tr>\n",
       "  </tbody>\n",
       "</table>\n",
       "</div>"
      ],
      "text/plain": [
       "   ID       Name Sex  Age Class\n",
       "0   0      Mylan   M   20    Sp\n",
       "1   1      Regan   F   21    Se\n",
       "2   2     Justin   M   18    Fr\n",
       "3   3       Jess   F   22    Se\n",
       "4   4      Jason   M   19    Sp\n",
       "5   5       Remi   F   20     J\n",
       "6   6       Matt   M   20     J\n",
       "7   7  Alexander   M   19     J\n",
       "8   8  JeanMarie   F   20    Se"
      ]
     },
     "execution_count": 46,
     "metadata": {},
     "output_type": "execute_result"
    }
   ],
   "source": [
    "#build toy data for SQL operations\n",
    "name = ['Mylan', 'Regan', 'Justin', 'Jess', 'Jason', 'Remi', 'Matt', 'Alexander', 'JeanMarie']\n",
    "sex = ['M', 'F', 'M', 'F', 'M', 'F', 'M', 'M', 'F']\n",
    "age = [20, 21, 18, 22, 19, 20, 20, 19, 20]\n",
    "rank = ['Sp', 'Se', 'Fr', 'Se', 'Sp', 'J', 'J', 'J', 'Se']\n",
    "ID = range(9)\n",
    "aid = ['y', 'n', 'n', 'y', 'n', 'n', 'n', 'y', 'n']\n",
    "GPA = [3.8, 3.5, 3.0, 3.9, 2.8, 2.9, 3.8, 3.4, 3.7]\n",
    "mathID = [0, 1, 5, 6, 3]\n",
    "mathGd = [4.0, 3.0, 3.5, 3.0, 4.0]\n",
    "major = ['y', 'n', 'y', 'n', 'n']\n",
    "studentInfo = pd.DataFrame({'ID': ID, 'Name': name, 'Sex': sex, 'Age': age,'Class': rank})\n",
    "otherInfo = pd.DataFrame({'ID': ID, 'GPA': GPA, 'Financial_Aid': aid})\n",
    "mathInfo = pd.DataFrame({'ID': mathID, 'Grade': mathGd, 'Math_Major': major})\n"
   ]
  },
  {
   "cell_type": "code",
   "execution_count": 41,
   "metadata": {},
   "outputs": [
    {
     "data": {
      "text/html": [
       "<div>\n",
       "<style scoped>\n",
       "    .dataframe tbody tr th:only-of-type {\n",
       "        vertical-align: middle;\n",
       "    }\n",
       "\n",
       "    .dataframe tbody tr th {\n",
       "        vertical-align: top;\n",
       "    }\n",
       "\n",
       "    .dataframe thead th {\n",
       "        text-align: right;\n",
       "    }\n",
       "</style>\n",
       "<table border=\"1\" class=\"dataframe\">\n",
       "  <thead>\n",
       "    <tr style=\"text-align: right;\">\n",
       "      <th></th>\n",
       "      <th>ID</th>\n",
       "      <th>Name</th>\n",
       "    </tr>\n",
       "  </thead>\n",
       "  <tbody>\n",
       "    <tr>\n",
       "      <th>0</th>\n",
       "      <td>0</td>\n",
       "      <td>Mylan</td>\n",
       "    </tr>\n",
       "    <tr>\n",
       "      <th>4</th>\n",
       "      <td>4</td>\n",
       "      <td>Jason</td>\n",
       "    </tr>\n",
       "    <tr>\n",
       "      <th>6</th>\n",
       "      <td>6</td>\n",
       "      <td>Matt</td>\n",
       "    </tr>\n",
       "    <tr>\n",
       "      <th>7</th>\n",
       "      <td>7</td>\n",
       "      <td>Alexander</td>\n",
       "    </tr>\n",
       "  </tbody>\n",
       "</table>\n",
       "</div>"
      ],
      "text/plain": [
       "   ID       Name\n",
       "0   0      Mylan\n",
       "4   4      Jason\n",
       "6   6       Matt\n",
       "7   7  Alexander"
      ]
     },
     "execution_count": 41,
     "metadata": {},
     "output_type": "execute_result"
    }
   ],
   "source": [
    "# AND\n",
    "studentInfo[(studentInfo['Age'] >= 19) & (studentInfo['Sex'] == 'M')][['ID', 'Name']]\n"
   ]
  },
  {
   "cell_type": "code",
   "execution_count": 42,
   "metadata": {},
   "outputs": [
    {
     "data": {
      "text/html": [
       "<div>\n",
       "<style scoped>\n",
       "    .dataframe tbody tr th:only-of-type {\n",
       "        vertical-align: middle;\n",
       "    }\n",
       "\n",
       "    .dataframe tbody tr th {\n",
       "        vertical-align: top;\n",
       "    }\n",
       "\n",
       "    .dataframe thead th {\n",
       "        text-align: right;\n",
       "    }\n",
       "</style>\n",
       "<table border=\"1\" class=\"dataframe\">\n",
       "  <thead>\n",
       "    <tr style=\"text-align: right;\">\n",
       "      <th></th>\n",
       "      <th>ID</th>\n",
       "      <th>Name</th>\n",
       "    </tr>\n",
       "  </thead>\n",
       "  <tbody>\n",
       "    <tr>\n",
       "      <th>0</th>\n",
       "      <td>0</td>\n",
       "      <td>Mylan</td>\n",
       "    </tr>\n",
       "    <tr>\n",
       "      <th>1</th>\n",
       "      <td>1</td>\n",
       "      <td>Regan</td>\n",
       "    </tr>\n",
       "    <tr>\n",
       "      <th>2</th>\n",
       "      <td>2</td>\n",
       "      <td>Justin</td>\n",
       "    </tr>\n",
       "    <tr>\n",
       "      <th>3</th>\n",
       "      <td>3</td>\n",
       "      <td>Jess</td>\n",
       "    </tr>\n",
       "    <tr>\n",
       "      <th>4</th>\n",
       "      <td>4</td>\n",
       "      <td>Jason</td>\n",
       "    </tr>\n",
       "    <tr>\n",
       "      <th>5</th>\n",
       "      <td>5</td>\n",
       "      <td>Remi</td>\n",
       "    </tr>\n",
       "    <tr>\n",
       "      <th>6</th>\n",
       "      <td>6</td>\n",
       "      <td>Matt</td>\n",
       "    </tr>\n",
       "    <tr>\n",
       "      <th>7</th>\n",
       "      <td>7</td>\n",
       "      <td>Alexander</td>\n",
       "    </tr>\n",
       "    <tr>\n",
       "      <th>8</th>\n",
       "      <td>8</td>\n",
       "      <td>JeanMarie</td>\n",
       "    </tr>\n",
       "  </tbody>\n",
       "</table>\n",
       "</div>"
      ],
      "text/plain": [
       "   ID       Name\n",
       "0   0      Mylan\n",
       "1   1      Regan\n",
       "2   2     Justin\n",
       "3   3       Jess\n",
       "4   4      Jason\n",
       "5   5       Remi\n",
       "6   6       Matt\n",
       "7   7  Alexander\n",
       "8   8  JeanMarie"
      ]
     },
     "execution_count": 42,
     "metadata": {},
     "output_type": "execute_result"
    }
   ],
   "source": [
    "# OR\n",
    "studentInfo[(studentInfo['Age'] >= 19) | (studentInfo['Sex'] == 'M')][['ID', 'Name']]"
   ]
  },
  {
   "cell_type": "code",
   "execution_count": 43,
   "metadata": {},
   "outputs": [
    {
     "data": {
      "text/html": [
       "<div>\n",
       "<style scoped>\n",
       "    .dataframe tbody tr th:only-of-type {\n",
       "        vertical-align: middle;\n",
       "    }\n",
       "\n",
       "    .dataframe tbody tr th {\n",
       "        vertical-align: top;\n",
       "    }\n",
       "\n",
       "    .dataframe thead th {\n",
       "        text-align: right;\n",
       "    }\n",
       "</style>\n",
       "<table border=\"1\" class=\"dataframe\">\n",
       "  <thead>\n",
       "    <tr style=\"text-align: right;\">\n",
       "      <th></th>\n",
       "      <th>ID</th>\n",
       "      <th>Name</th>\n",
       "    </tr>\n",
       "  </thead>\n",
       "  <tbody>\n",
       "    <tr>\n",
       "      <th>0</th>\n",
       "      <td>0</td>\n",
       "      <td>Mylan</td>\n",
       "    </tr>\n",
       "    <tr>\n",
       "      <th>1</th>\n",
       "      <td>1</td>\n",
       "      <td>Regan</td>\n",
       "    </tr>\n",
       "    <tr>\n",
       "      <th>3</th>\n",
       "      <td>3</td>\n",
       "      <td>Jess</td>\n",
       "    </tr>\n",
       "    <tr>\n",
       "      <th>4</th>\n",
       "      <td>4</td>\n",
       "      <td>Jason</td>\n",
       "    </tr>\n",
       "    <tr>\n",
       "      <th>5</th>\n",
       "      <td>5</td>\n",
       "      <td>Remi</td>\n",
       "    </tr>\n",
       "    <tr>\n",
       "      <th>6</th>\n",
       "      <td>6</td>\n",
       "      <td>Matt</td>\n",
       "    </tr>\n",
       "    <tr>\n",
       "      <th>7</th>\n",
       "      <td>7</td>\n",
       "      <td>Alexander</td>\n",
       "    </tr>\n",
       "    <tr>\n",
       "      <th>8</th>\n",
       "      <td>8</td>\n",
       "      <td>JeanMarie</td>\n",
       "    </tr>\n",
       "  </tbody>\n",
       "</table>\n",
       "</div>"
      ],
      "text/plain": [
       "   ID       Name\n",
       "0   0      Mylan\n",
       "1   1      Regan\n",
       "3   3       Jess\n",
       "4   4      Jason\n",
       "5   5       Remi\n",
       "6   6       Matt\n",
       "7   7  Alexander\n",
       "8   8  JeanMarie"
      ]
     },
     "execution_count": 43,
     "metadata": {},
     "output_type": "execute_result"
    }
   ],
   "source": [
    "# NOT\n",
    "studentInfo[(studentInfo['Age'] >= 19) | (studentInfo['Sex'] != 'M')][['ID', 'Name']]"
   ]
  },
  {
   "cell_type": "markdown",
   "metadata": {},
   "source": [
    "### Exercise 4"
   ]
  },
  {
   "cell_type": "code",
   "execution_count": 50,
   "metadata": {},
   "outputs": [
    {
     "data": {
      "text/html": [
       "<div>\n",
       "<style scoped>\n",
       "    .dataframe tbody tr th:only-of-type {\n",
       "        vertical-align: middle;\n",
       "    }\n",
       "\n",
       "    .dataframe tbody tr th {\n",
       "        vertical-align: top;\n",
       "    }\n",
       "\n",
       "    .dataframe thead th {\n",
       "        text-align: right;\n",
       "    }\n",
       "</style>\n",
       "<table border=\"1\" class=\"dataframe\">\n",
       "  <thead>\n",
       "    <tr style=\"text-align: right;\">\n",
       "      <th></th>\n",
       "      <th>ID</th>\n",
       "      <th>Age</th>\n",
       "      <th>Grade</th>\n",
       "    </tr>\n",
       "  </thead>\n",
       "  <tbody>\n",
       "    <tr>\n",
       "      <th>0</th>\n",
       "      <td>0</td>\n",
       "      <td>20.0</td>\n",
       "      <td>4.0</td>\n",
       "    </tr>\n",
       "    <tr>\n",
       "      <th>1</th>\n",
       "      <td>2</td>\n",
       "      <td>18.0</td>\n",
       "      <td>NaN</td>\n",
       "    </tr>\n",
       "    <tr>\n",
       "      <th>2</th>\n",
       "      <td>4</td>\n",
       "      <td>19.0</td>\n",
       "      <td>NaN</td>\n",
       "    </tr>\n",
       "    <tr>\n",
       "      <th>3</th>\n",
       "      <td>6</td>\n",
       "      <td>20.0</td>\n",
       "      <td>3.0</td>\n",
       "    </tr>\n",
       "    <tr>\n",
       "      <th>4</th>\n",
       "      <td>7</td>\n",
       "      <td>19.0</td>\n",
       "      <td>NaN</td>\n",
       "    </tr>\n",
       "    <tr>\n",
       "      <th>5</th>\n",
       "      <td>1</td>\n",
       "      <td>NaN</td>\n",
       "      <td>3.0</td>\n",
       "    </tr>\n",
       "    <tr>\n",
       "      <th>6</th>\n",
       "      <td>5</td>\n",
       "      <td>NaN</td>\n",
       "      <td>3.5</td>\n",
       "    </tr>\n",
       "    <tr>\n",
       "      <th>7</th>\n",
       "      <td>3</td>\n",
       "      <td>NaN</td>\n",
       "      <td>4.0</td>\n",
       "    </tr>\n",
       "  </tbody>\n",
       "</table>\n",
       "</div>"
      ],
      "text/plain": [
       "   ID   Age  Grade\n",
       "0   0  20.0    4.0\n",
       "1   2  18.0    NaN\n",
       "2   4  19.0    NaN\n",
       "3   6  20.0    3.0\n",
       "4   7  19.0    NaN\n",
       "5   1   NaN    3.0\n",
       "6   5   NaN    3.5\n",
       "7   3   NaN    4.0"
      ]
     },
     "execution_count": 50,
     "metadata": {},
     "output_type": "execute_result"
    }
   ],
   "source": [
    "MaleInfo = pd.merge(studentInfo[studentInfo['Sex'] == 'M'][['ID', 'Age', ]],\n",
    "                   mathInfo[['ID', 'Grade']], on='ID', how='outer')\n",
    "MaleInfo"
   ]
  },
  {
   "cell_type": "markdown",
   "metadata": {},
   "source": [
    "# Pandas 2: Plotting"
   ]
  },
  {
   "cell_type": "code",
   "execution_count": 57,
   "metadata": {},
   "outputs": [],
   "source": [
    "from pydataset import data"
   ]
  },
  {
   "cell_type": "code",
   "execution_count": 82,
   "metadata": {},
   "outputs": [],
   "source": [
    "titanic = pd.read_csv('titanic.csv')\n",
    "#data(\"Titanic\", show_doc=True)"
   ]
  },
  {
   "cell_type": "code",
   "execution_count": 87,
   "metadata": {
    "scrolled": true
   },
   "outputs": [
    {
     "data": {
      "text/plain": [
       "<matplotlib.axes._subplots.AxesSubplot at 0x12638fd68>"
      ]
     },
     "execution_count": 87,
     "metadata": {},
     "output_type": "execute_result"
    },
    {
     "data": {
      "image/png": "[encoded data removed]",
      "text/plain": [
       "<Figure size 432x288 with 1 Axes>"
      ]
     },
     "metadata": {
      "needs_background": "light"
     },
     "output_type": "display_data"
    },
    {
     "data": {
      "image/png": "[encoded data removed]",
      "text/plain": [
       "<Figure size 432x288 with 1 Axes>"
      ]
     },
     "metadata": {
      "needs_background": "light"
     },
     "output_type": "display_data"
    }
   ],
   "source": [
    "### The bfeed\n",
    "bfeed = data(\"bfeed\")\n",
    "'''\n",
    "Most women do not breast feed their baby or less than 8 weeks.\n",
    "Those who do usually feed them between 8 and 14 weeks.\n",
    "Very few women breastfeed their baby more than 50 weeks.\n",
    "While more educated women breastfeed their baby slightly more, the difference is small.\n",
    "'''\n",
    "#data(\"bfeed\", show_doc=True)\n",
    "\n",
    "bfeed[\"duration\"].hist(grid=\"False\", bins=25)\n",
    "bfeed.plot(kind=\"scatter\",x=\"yschool\", y=\"duration\")\n",
    "#pd.plotting.scatter_matrix(bfeed[[\"poverty\", \"delta\", \"smoke\"]])"
   ]
  },
  {
   "cell_type": "code",
   "execution_count": 92,
   "metadata": {},
   "outputs": [
    {
     "data": {
      "text/plain": [
       "array([[<matplotlib.axes._subplots.AxesSubplot object at 0x122b8b828>,\n",
       "        <matplotlib.axes._subplots.AxesSubplot object at 0x1265bc278>,\n",
       "        <matplotlib.axes._subplots.AxesSubplot object at 0x126625828>],\n",
       "       [<matplotlib.axes._subplots.AxesSubplot object at 0x126658dd8>,\n",
       "        <matplotlib.axes._subplots.AxesSubplot object at 0x1266953c8>,\n",
       "        <matplotlib.axes._subplots.AxesSubplot object at 0x1266c5978>],\n",
       "       [<matplotlib.axes._subplots.AxesSubplot object at 0x1266f7f28>,\n",
       "        <matplotlib.axes._subplots.AxesSubplot object at 0x126735550>,\n",
       "        <matplotlib.axes._subplots.AxesSubplot object at 0x126735588>]],\n",
       "      dtype=object)"
      ]
     },
     "execution_count": 92,
     "metadata": {},
     "output_type": "execute_result"
    },
    {
     "data": {
      "image/png": "[encoded data removed]",
      "text/plain": [
       "<Figure size 432x288 with 1 Axes>"
      ]
     },
     "metadata": {
      "needs_background": "light"
     },
     "output_type": "display_data"
    },
    {
     "data": {
      "image/png": "[encoded data removed]",
      "text/plain": [
       "<Figure size 432x288 with 9 Axes>"
      ]
     },
     "metadata": {
      "needs_background": "light"
     },
     "output_type": "display_data"
    }
   ],
   "source": [
    "road = data(\"road\")\n",
    "#data(\"road\", show_doc=True)\n",
    "'''\n",
    "The annual number of deaths on the road per state is around 500-1000 deaths per state.\n",
    "One state is an outlier with more than 4000 deaths per year.\n",
    "There are more deaths when temperatures are higher.\n",
    "There is a positive correlation between the number of deaths and the number of drives.\n",
    "'''\n",
    "\n",
    "road[\"deaths\"].hist(grid=\"False\", bins=10)\n",
    "pd.plotting.scatter_matrix(road[[\"deaths\", \"drivers\", \"temp\"]])"
   ]
  },
  {
   "cell_type": "markdown",
   "metadata": {},
   "source": [
    "# Pandas 3: Grouping"
   ]
  },
  {
   "cell_type": "markdown",
   "metadata": {},
   "source": [
    "## Groupby"
   ]
  },
  {
   "cell_type": "markdown",
   "metadata": {},
   "source": [
    "### Exercise 1"
   ]
  },
  {
   "cell_type": "code",
   "execution_count": 143,
   "metadata": {},
   "outputs": [],
   "source": [
    "iris = data(\"iris\")\n",
    "poisons = data(\"poisons\")\n",
    "diamonds = data(\"diamonds\")"
   ]
  },
  {
   "cell_type": "code",
   "execution_count": 95,
   "metadata": {},
   "outputs": [
    {
     "data": {
      "text/plain": [
       "Text(0, 0.5, 'Species classification')"
      ]
     },
     "execution_count": 95,
     "metadata": {},
     "output_type": "execute_result"
    },
    {
     "data": {
      "image/png": "[encoded data removed]",
      "text/plain": [
       "<Figure size 432x288 with 1 Axes>"
      ]
     },
     "metadata": {
      "needs_background": "light"
     },
     "output_type": "display_data"
    }
   ],
   "source": [
    "### IRIS\n",
    "iris_g = iris.groupby(\"Species\")\n",
    "iris_g[[\"Sepal.Length\", \"Sepal.Width\", \"Petal.Length\", \"Petal.Width\"]].mean().plot(\n",
    "        kind = \"barh\", title = \"Species differences\")\n",
    "plt.xlabel(\"Dimension\")\n",
    "plt.ylabel(\"Species classification\")\n",
    "'''\n",
    "Setosa is the easiest species to distinguish because its petal is very thin and very short, \n",
    "unlike virginia and versicolor.\n",
    "It is harder to distinguish the flowers based on their sepal because they are about the same size.\n",
    "\n",
    "You could use the petal width to distinguish the different flowers.\n",
    "'''"
   ]
  },
  {
   "cell_type": "code",
   "execution_count": 101,
   "metadata": {},
   "outputs": [
    {
     "data": {
      "text/plain": [
       "{'setosa', 'versicolor', 'virginica'}"
      ]
     },
     "execution_count": 101,
     "metadata": {},
     "output_type": "execute_result"
    }
   ],
   "source": [
    "### Poisons\n",
    "iris_g = iris.groupby(\"Species\")\n",
    "iris_g[[\"Sepal.Length\", \"Sepal.Width\", \"Petal.Length\", \"Petal.Width\"]].mean().plot(\n",
    "        kind = \"barh\", title = \"Species differences\")\n",
    "plt.xlabel(\"Dimension\")\n",
    "plt.ylabel(\"Species classification\")\n",
    "'''\n",
    "Setosa is the easiest species to distinguish because its petal is very thin and very short, \n",
    "unlike virginia and versicolor.\n",
    "It is harder to distinguish the flowers based on their sepal because they are about the same size.\n",
    "\n",
    "You could use the petal width to distinguish the different flowers.\n",
    "'''"
   ]
  },
  {
   "cell_type": "code",
   "execution_count": 117,
   "metadata": {},
   "outputs": [],
   "source": [
    "#data(\"poisons\", show_doc=True)"
   ]
  },
  {
   "cell_type": "code",
   "execution_count": 104,
   "metadata": {},
   "outputs": [
    {
     "data": {
      "text/html": [
       "<div>\n",
       "<style scoped>\n",
       "    .dataframe tbody tr th:only-of-type {\n",
       "        vertical-align: middle;\n",
       "    }\n",
       "\n",
       "    .dataframe tbody tr th {\n",
       "        vertical-align: top;\n",
       "    }\n",
       "\n",
       "    .dataframe thead th {\n",
       "        text-align: right;\n",
       "    }\n",
       "</style>\n",
       "<table border=\"1\" class=\"dataframe\">\n",
       "  <thead>\n",
       "    <tr style=\"text-align: right;\">\n",
       "      <th></th>\n",
       "      <th>count</th>\n",
       "      <th>mean</th>\n",
       "      <th>std</th>\n",
       "      <th>min</th>\n",
       "      <th>25%</th>\n",
       "      <th>50%</th>\n",
       "      <th>75%</th>\n",
       "      <th>max</th>\n",
       "    </tr>\n",
       "    <tr>\n",
       "      <th>poison</th>\n",
       "      <th></th>\n",
       "      <th></th>\n",
       "      <th></th>\n",
       "      <th></th>\n",
       "      <th></th>\n",
       "      <th></th>\n",
       "      <th></th>\n",
       "      <th></th>\n",
       "    </tr>\n",
       "  </thead>\n",
       "  <tbody>\n",
       "    <tr>\n",
       "      <th>1</th>\n",
       "      <td>16.0</td>\n",
       "      <td>0.617500</td>\n",
       "      <td>0.209428</td>\n",
       "      <td>0.31</td>\n",
       "      <td>0.4500</td>\n",
       "      <td>0.625</td>\n",
       "      <td>0.730</td>\n",
       "      <td>1.10</td>\n",
       "    </tr>\n",
       "    <tr>\n",
       "      <th>2</th>\n",
       "      <td>16.0</td>\n",
       "      <td>0.544375</td>\n",
       "      <td>0.289366</td>\n",
       "      <td>0.23</td>\n",
       "      <td>0.3575</td>\n",
       "      <td>0.420</td>\n",
       "      <td>0.635</td>\n",
       "      <td>1.24</td>\n",
       "    </tr>\n",
       "    <tr>\n",
       "      <th>3</th>\n",
       "      <td>16.0</td>\n",
       "      <td>0.276250</td>\n",
       "      <td>0.062276</td>\n",
       "      <td>0.18</td>\n",
       "      <td>0.2275</td>\n",
       "      <td>0.270</td>\n",
       "      <td>0.315</td>\n",
       "      <td>0.38</td>\n",
       "    </tr>\n",
       "  </tbody>\n",
       "</table>\n",
       "</div>"
      ],
      "text/plain": [
       "        count      mean       std   min     25%    50%    75%   max\n",
       "poison                                                             \n",
       "1        16.0  0.617500  0.209428  0.31  0.4500  0.625  0.730  1.10\n",
       "2        16.0  0.544375  0.289366  0.23  0.3575  0.420  0.635  1.24\n",
       "3        16.0  0.276250  0.062276  0.18  0.2275  0.270  0.315  0.38"
      ]
     },
     "execution_count": 104,
     "metadata": {},
     "output_type": "execute_result"
    }
   ],
   "source": [
    "poisons_p = poisons.groupby(\"poison\")\n",
    "poisons_t = poisons.groupby(\"treat\")\n",
    "\n",
    "'''\n",
    "Poison 1 is most deadly in general is treatment B is most effective.\n",
    "'''\n",
    "\n",
    "poisons_p[\"time\"].describe()"
   ]
  },
  {
   "cell_type": "code",
   "execution_count": 105,
   "metadata": {},
   "outputs": [
    {
     "data": {
      "text/html": [
       "<div>\n",
       "<style scoped>\n",
       "    .dataframe tbody tr th:only-of-type {\n",
       "        vertical-align: middle;\n",
       "    }\n",
       "\n",
       "    .dataframe tbody tr th {\n",
       "        vertical-align: top;\n",
       "    }\n",
       "\n",
       "    .dataframe thead th {\n",
       "        text-align: right;\n",
       "    }\n",
       "</style>\n",
       "<table border=\"1\" class=\"dataframe\">\n",
       "  <thead>\n",
       "    <tr style=\"text-align: right;\">\n",
       "      <th></th>\n",
       "      <th>count</th>\n",
       "      <th>mean</th>\n",
       "      <th>std</th>\n",
       "      <th>min</th>\n",
       "      <th>25%</th>\n",
       "      <th>50%</th>\n",
       "      <th>75%</th>\n",
       "      <th>max</th>\n",
       "    </tr>\n",
       "    <tr>\n",
       "      <th>treat</th>\n",
       "      <th></th>\n",
       "      <th></th>\n",
       "      <th></th>\n",
       "      <th></th>\n",
       "      <th></th>\n",
       "      <th></th>\n",
       "      <th></th>\n",
       "      <th></th>\n",
       "    </tr>\n",
       "  </thead>\n",
       "  <tbody>\n",
       "    <tr>\n",
       "      <th>A</th>\n",
       "      <td>12.0</td>\n",
       "      <td>0.314167</td>\n",
       "      <td>0.102288</td>\n",
       "      <td>0.18</td>\n",
       "      <td>0.2275</td>\n",
       "      <td>0.300</td>\n",
       "      <td>0.4075</td>\n",
       "      <td>0.46</td>\n",
       "    </tr>\n",
       "    <tr>\n",
       "      <th>B</th>\n",
       "      <td>12.0</td>\n",
       "      <td>0.676667</td>\n",
       "      <td>0.320832</td>\n",
       "      <td>0.29</td>\n",
       "      <td>0.3775</td>\n",
       "      <td>0.665</td>\n",
       "      <td>0.8900</td>\n",
       "      <td>1.24</td>\n",
       "    </tr>\n",
       "    <tr>\n",
       "      <th>C</th>\n",
       "      <td>12.0</td>\n",
       "      <td>0.392500</td>\n",
       "      <td>0.167013</td>\n",
       "      <td>0.22</td>\n",
       "      <td>0.2475</td>\n",
       "      <td>0.375</td>\n",
       "      <td>0.4425</td>\n",
       "      <td>0.76</td>\n",
       "    </tr>\n",
       "    <tr>\n",
       "      <th>D</th>\n",
       "      <td>12.0</td>\n",
       "      <td>0.534167</td>\n",
       "      <td>0.219440</td>\n",
       "      <td>0.30</td>\n",
       "      <td>0.3525</td>\n",
       "      <td>0.505</td>\n",
       "      <td>0.6725</td>\n",
       "      <td>1.02</td>\n",
       "    </tr>\n",
       "  </tbody>\n",
       "</table>\n",
       "</div>"
      ],
      "text/plain": [
       "       count      mean       std   min     25%    50%     75%   max\n",
       "treat                                                              \n",
       "A       12.0  0.314167  0.102288  0.18  0.2275  0.300  0.4075  0.46\n",
       "B       12.0  0.676667  0.320832  0.29  0.3775  0.665  0.8900  1.24\n",
       "C       12.0  0.392500  0.167013  0.22  0.2475  0.375  0.4425  0.76\n",
       "D       12.0  0.534167  0.219440  0.30  0.3525  0.505  0.6725  1.02"
      ]
     },
     "execution_count": 105,
     "metadata": {},
     "output_type": "execute_result"
    }
   ],
   "source": [
    "poisons_t[\"time\"].describe()"
   ]
  },
  {
   "cell_type": "code",
   "execution_count": 113,
   "metadata": {},
   "outputs": [],
   "source": [
    "poisons_pt = poisons.groupby([\"poison\", \"treat\"])"
   ]
  },
  {
   "cell_type": "code",
   "execution_count": 116,
   "metadata": {},
   "outputs": [
    {
     "data": {
      "text/plain": [
       "<matplotlib.axes._subplots.AxesSubplot at 0x126da6d68>"
      ]
     },
     "execution_count": 116,
     "metadata": {},
     "output_type": "execute_result"
    },
    {
     "data": {
      "image/png": "[encoded data removed]",
      "text/plain": [
       "<Figure size 432x288 with 1 Axes>"
      ]
     },
     "metadata": {
      "needs_background": "light"
     },
     "output_type": "display_data"
    }
   ],
   "source": [
    "poisons_pt.mean().plot(kind=\"barh\")\n",
    "'''\n",
    "If I didn't know which poison, I would choose treatment B because\n",
    "animals treated with this treatment survive the longest for all 3 poisons.\n",
    "'''"
   ]
  },
  {
   "cell_type": "code",
   "execution_count": 165,
   "metadata": {},
   "outputs": [],
   "source": [
    "#data(\"diamonds\", show_doc=True)"
   ]
  },
  {
   "cell_type": "code",
   "execution_count": 160,
   "metadata": {},
   "outputs": [],
   "source": [
    "#diamonds.insert(10, \"Pricepercarat\", diamonds.price / diamonds.carat) \n",
    "diamonds_col = diamonds[[\"color\", \"Pricepercarat\", \"price\"]].groupby(\"color\")\n",
    "diamonds_cut = diamonds[[\"cut\", \"Pricepercarat\", \"price\"]].groupby(\"cut\")"
   ]
  },
  {
   "cell_type": "code",
   "execution_count": 161,
   "metadata": {},
   "outputs": [
    {
     "data": {
      "text/plain": [
       "<matplotlib.axes._subplots.AxesSubplot at 0x129129940>"
      ]
     },
     "execution_count": 161,
     "metadata": {},
     "output_type": "execute_result"
    },
    {
     "data": {
      "image/png": "[encoded data removed]",
      "text/plain": [
       "<Figure size 432x288 with 1 Axes>"
      ]
     },
     "metadata": {
      "needs_background": "light"
     },
     "output_type": "display_data"
    }
   ],
   "source": [
    "diamonds_col.mean().plot(kind=\"barh\")"
   ]
  },
  {
   "cell_type": "code",
   "execution_count": 162,
   "metadata": {},
   "outputs": [
    {
     "data": {
      "text/plain": [
       "<matplotlib.axes._subplots.AxesSubplot at 0x129190438>"
      ]
     },
     "execution_count": 162,
     "metadata": {},
     "output_type": "execute_result"
    },
    {
     "data": {
      "image/png": "[encoded data removed]",
      "text/plain": [
       "<Figure size 432x288 with 1 Axes>"
      ]
     },
     "metadata": {
      "needs_background": "light"
     },
     "output_type": "display_data"
    }
   ],
   "source": [
    "diamonds_cut[[\"price\", \"Pricepercarat\"]].mean().plot(kind=\"barh\")"
   ]
  },
  {
   "cell_type": "code",
   "execution_count": 164,
   "metadata": {},
   "outputs": [
    {
     "data": {
      "text/plain": [
       "<matplotlib.axes._subplots.AxesSubplot at 0x12a994780>"
      ]
     },
     "execution_count": 164,
     "metadata": {},
     "output_type": "execute_result"
    },
    {
     "data": {
      "image/png": "[encoded data removed]",
      "text/plain": [
       "<Figure size 432x288 with 1 Axes>"
      ]
     },
     "metadata": {
      "needs_background": "light"
     },
     "output_type": "display_data"
    }
   ],
   "source": [
    "'''\n",
    "The higher the color on the D-J scale, the more expensive the diamond in terms of raw price.\n",
    "However, the relationship fades when looking at the price per carat\n",
    "In terms of cut: premium is the most expensive in terms of price per carat, but\n",
    "in terms of rax price fair is also expensive.\n",
    "\n",
    "H + Fair sell for a higher price than those with an Ideal cut because they are bigger!\n",
    "When looking at the price per carat, the puzzle disappears!\n",
    "'''\n",
    "diamonds_cutH = diamonds[[\"cut\", \"Pricepercarat\", \"price\", \"color\"]][diamonds.color==\"H\"].groupby(\"cut\")\n",
    "diamonds_cut.mean().plot(kind=\"barh\")\n",
    "\n",
    "\n",
    "\n"
   ]
  },
  {
   "cell_type": "markdown",
   "metadata": {},
   "source": [
    "## Pivot Tables"
   ]
  },
  {
   "cell_type": "markdown",
   "metadata": {},
   "source": [
    "### Exercise 2"
   ]
  },
  {
   "cell_type": "code",
   "execution_count": 167,
   "metadata": {},
   "outputs": [
    {
     "data": {
      "text/html": [
       "<div>\n",
       "<style scoped>\n",
       "    .dataframe tbody tr th:only-of-type {\n",
       "        vertical-align: middle;\n",
       "    }\n",
       "\n",
       "    .dataframe tbody tr th {\n",
       "        vertical-align: top;\n",
       "    }\n",
       "\n",
       "    .dataframe thead th {\n",
       "        text-align: right;\n",
       "    }\n",
       "</style>\n",
       "<table border=\"1\" class=\"dataframe\">\n",
       "  <thead>\n",
       "    <tr style=\"text-align: right;\">\n",
       "      <th>Embarked</th>\n",
       "      <th>C</th>\n",
       "      <th>Q</th>\n",
       "      <th>S</th>\n",
       "    </tr>\n",
       "  </thead>\n",
       "  <tbody>\n",
       "    <tr>\n",
       "      <th>Survived</th>\n",
       "      <td>0.555556</td>\n",
       "      <td>0.357724</td>\n",
       "      <td>0.332604</td>\n",
       "    </tr>\n",
       "  </tbody>\n",
       "</table>\n",
       "</div>"
      ],
      "text/plain": [
       "Embarked         C         Q         S\n",
       "Survived  0.555556  0.357724  0.332604"
      ]
     },
     "execution_count": 167,
     "metadata": {},
     "output_type": "execute_result"
    }
   ],
   "source": [
    "# Check the survival rates of the passengers based on where they embarked from \n",
    "# (given the \"Embarked\" column) & create a pivot table to examine survival rates based\n",
    "# on both place of embarkment and gender.\n",
    "\n",
    "titanic.pivot_table(values=\"Survived\",\n",
    "                   columns = \"Embarked\",\n",
    "                   aggfunc = \"mean\")"
   ]
  },
  {
   "cell_type": "code",
   "execution_count": 168,
   "metadata": {},
   "outputs": [
    {
     "data": {
      "text/html": [
       "<div>\n",
       "<style scoped>\n",
       "    .dataframe tbody tr th:only-of-type {\n",
       "        vertical-align: middle;\n",
       "    }\n",
       "\n",
       "    .dataframe tbody tr th {\n",
       "        vertical-align: top;\n",
       "    }\n",
       "\n",
       "    .dataframe thead th {\n",
       "        text-align: right;\n",
       "    }\n",
       "</style>\n",
       "<table border=\"1\" class=\"dataframe\">\n",
       "  <thead>\n",
       "    <tr style=\"text-align: right;\">\n",
       "      <th>Embarked</th>\n",
       "      <th>C</th>\n",
       "      <th>Q</th>\n",
       "      <th>S</th>\n",
       "    </tr>\n",
       "    <tr>\n",
       "      <th>Sex</th>\n",
       "      <th></th>\n",
       "      <th></th>\n",
       "      <th></th>\n",
       "    </tr>\n",
       "  </thead>\n",
       "  <tbody>\n",
       "    <tr>\n",
       "      <th>female</th>\n",
       "      <td>0.902655</td>\n",
       "      <td>0.616667</td>\n",
       "      <td>0.680412</td>\n",
       "    </tr>\n",
       "    <tr>\n",
       "      <th>male</th>\n",
       "      <td>0.305732</td>\n",
       "      <td>0.111111</td>\n",
       "      <td>0.170144</td>\n",
       "    </tr>\n",
       "  </tbody>\n",
       "</table>\n",
       "</div>"
      ],
      "text/plain": [
       "Embarked         C         Q         S\n",
       "Sex                                   \n",
       "female    0.902655  0.616667  0.680412\n",
       "male      0.305732  0.111111  0.170144"
      ]
     },
     "execution_count": 168,
     "metadata": {},
     "output_type": "execute_result"
    }
   ],
   "source": [
    "titanic.pivot_table(values=\"Survived\",\n",
    "                   index = \"Sex\", \n",
    "                   columns = \"Embarked\",\n",
    "                   aggfunc = \"mean\")"
   ]
  },
  {
   "cell_type": "code",
   "execution_count": 172,
   "metadata": {},
   "outputs": [
    {
     "data": {
      "text/html": [
       "<div>\n",
       "<style scoped>\n",
       "    .dataframe tbody tr th:only-of-type {\n",
       "        vertical-align: middle;\n",
       "    }\n",
       "\n",
       "    .dataframe tbody tr th {\n",
       "        vertical-align: top;\n",
       "    }\n",
       "\n",
       "    .dataframe thead th {\n",
       "        text-align: right;\n",
       "    }\n",
       "</style>\n",
       "<table border=\"1\" class=\"dataframe\">\n",
       "  <thead>\n",
       "    <tr style=\"text-align: right;\">\n",
       "      <th>Embarked</th>\n",
       "      <th>C</th>\n",
       "      <th>Q</th>\n",
       "      <th>S</th>\n",
       "    </tr>\n",
       "    <tr>\n",
       "      <th>Pclass</th>\n",
       "      <th></th>\n",
       "      <th></th>\n",
       "      <th></th>\n",
       "    </tr>\n",
       "  </thead>\n",
       "  <tbody>\n",
       "    <tr>\n",
       "      <th>1.0</th>\n",
       "      <td>0.687943</td>\n",
       "      <td>0.666667</td>\n",
       "      <td>0.559322</td>\n",
       "    </tr>\n",
       "    <tr>\n",
       "      <th>2.0</th>\n",
       "      <td>0.571429</td>\n",
       "      <td>0.285714</td>\n",
       "      <td>0.417355</td>\n",
       "    </tr>\n",
       "    <tr>\n",
       "      <th>3.0</th>\n",
       "      <td>0.366337</td>\n",
       "      <td>0.353982</td>\n",
       "      <td>0.210101</td>\n",
       "    </tr>\n",
       "  </tbody>\n",
       "</table>\n",
       "</div>"
      ],
      "text/plain": [
       "Embarked         C         Q         S\n",
       "Pclass                                \n",
       "1.0       0.687943  0.666667  0.559322\n",
       "2.0       0.571429  0.285714  0.417355\n",
       "3.0       0.366337  0.353982  0.210101"
      ]
     },
     "execution_count": 172,
     "metadata": {},
     "output_type": "execute_result"
    }
   ],
   "source": [
    "'''\n",
    "I don't believe these tables mean much in terms of the causal relationship\n",
    "between embarkment place and survival rate. \n",
    "Unlike my initial intuition, there does not seem to be a correlation between\n",
    "the class and the embarkment rate which could have explained the figures above.\n",
    "\n",
    "The last table shows that there were more kids who embarked in the port C.\n",
    "As kids have been shown to have a higher survival rate, this could explain the \n",
    "figures above.\n",
    "\n",
    "The tables confirm that women survived more than men.\n",
    "'''\n",
    "titanic.pivot_table(values=\"Survived\",\n",
    "                   index = \"Pclass\", \n",
    "                   columns = \"Embarked\",\n",
    "                   aggfunc = \"mean\")\n"
   ]
  },
  {
   "cell_type": "code",
   "execution_count": 174,
   "metadata": {},
   "outputs": [
    {
     "data": {
      "text/html": [
       "<div>\n",
       "<style scoped>\n",
       "    .dataframe tbody tr th:only-of-type {\n",
       "        vertical-align: middle;\n",
       "    }\n",
       "\n",
       "    .dataframe tbody tr th {\n",
       "        vertical-align: top;\n",
       "    }\n",
       "\n",
       "    .dataframe thead th {\n",
       "        text-align: right;\n",
       "    }\n",
       "</style>\n",
       "<table border=\"1\" class=\"dataframe\">\n",
       "  <thead>\n",
       "    <tr style=\"text-align: right;\">\n",
       "      <th>Embarked</th>\n",
       "      <th>C</th>\n",
       "      <th>Q</th>\n",
       "      <th>S</th>\n",
       "    </tr>\n",
       "    <tr>\n",
       "      <th>Age</th>\n",
       "      <th></th>\n",
       "      <th></th>\n",
       "      <th></th>\n",
       "    </tr>\n",
       "  </thead>\n",
       "  <tbody>\n",
       "    <tr>\n",
       "      <th>(0, 12]</th>\n",
       "      <td>0.812500</td>\n",
       "      <td>0.00000</td>\n",
       "      <td>0.561644</td>\n",
       "    </tr>\n",
       "    <tr>\n",
       "      <th>(12, 18]</th>\n",
       "      <td>0.666667</td>\n",
       "      <td>0.50000</td>\n",
       "      <td>0.333333</td>\n",
       "    </tr>\n",
       "    <tr>\n",
       "      <th>(18, 80]</th>\n",
       "      <td>0.600000</td>\n",
       "      <td>0.25641</td>\n",
       "      <td>0.337520</td>\n",
       "    </tr>\n",
       "  </tbody>\n",
       "</table>\n",
       "</div>"
      ],
      "text/plain": [
       "Embarked         C        Q         S\n",
       "Age                                  \n",
       "(0, 12]   0.812500  0.00000  0.561644\n",
       "(12, 18]  0.666667  0.50000  0.333333\n",
       "(18, 80]  0.600000  0.25641  0.337520"
      ]
     },
     "execution_count": 174,
     "metadata": {},
     "output_type": "execute_result"
    }
   ],
   "source": [
    "age = pd.cut(titanic['Age'], [0, 12, 18, 80])\n",
    "titanic.pivot_table(values=\"Survived\",\n",
    "                   index = age, \n",
    "                   columns = \"Embarked\",\n",
    "                   aggfunc = \"mean\")"
   ]
  },
  {
   "cell_type": "markdown",
   "metadata": {},
   "source": [
    "# Pandas 4: Time Series"
   ]
  },
  {
   "cell_type": "markdown",
   "metadata": {},
   "source": [
    "## Working with Dates and Times"
   ]
  },
  {
   "cell_type": "markdown",
   "metadata": {},
   "source": [
    "### Exercise 1"
   ]
  },
  {
   "cell_type": "code",
   "execution_count": 186,
   "metadata": {},
   "outputs": [
    {
     "data": {
      "text/html": [
       "<div>\n",
       "<style scoped>\n",
       "    .dataframe tbody tr th:only-of-type {\n",
       "        vertical-align: middle;\n",
       "    }\n",
       "\n",
       "    .dataframe tbody tr th {\n",
       "        vertical-align: top;\n",
       "    }\n",
       "\n",
       "    .dataframe thead th {\n",
       "        text-align: right;\n",
       "    }\n",
       "</style>\n",
       "<table border=\"1\" class=\"dataframe\">\n",
       "  <thead>\n",
       "    <tr style=\"text-align: right;\">\n",
       "      <th></th>\n",
       "      <th>DATE</th>\n",
       "      <th>VALUE</th>\n",
       "    </tr>\n",
       "  </thead>\n",
       "  <tbody>\n",
       "    <tr>\n",
       "      <th>0</th>\n",
       "      <td>2006-09-27</td>\n",
       "      <td>11689.24</td>\n",
       "    </tr>\n",
       "    <tr>\n",
       "      <th>1</th>\n",
       "      <td>2006-09-28</td>\n",
       "      <td>11718.45</td>\n",
       "    </tr>\n",
       "    <tr>\n",
       "      <th>2</th>\n",
       "      <td>2006-09-29</td>\n",
       "      <td>11679.07</td>\n",
       "    </tr>\n",
       "    <tr>\n",
       "      <th>3</th>\n",
       "      <td>2006-10-02</td>\n",
       "      <td>11670.35</td>\n",
       "    </tr>\n",
       "    <tr>\n",
       "      <th>4</th>\n",
       "      <td>2006-10-03</td>\n",
       "      <td>11727.34</td>\n",
       "    </tr>\n",
       "    <tr>\n",
       "      <th>5</th>\n",
       "      <td>2006-10-04</td>\n",
       "      <td>11850.61</td>\n",
       "    </tr>\n",
       "    <tr>\n",
       "      <th>6</th>\n",
       "      <td>2006-10-05</td>\n",
       "      <td>11866.69</td>\n",
       "    </tr>\n",
       "    <tr>\n",
       "      <th>7</th>\n",
       "      <td>2006-10-06</td>\n",
       "      <td>11850.21</td>\n",
       "    </tr>\n",
       "    <tr>\n",
       "      <th>8</th>\n",
       "      <td>2006-10-09</td>\n",
       "      <td>11857.81</td>\n",
       "    </tr>\n",
       "    <tr>\n",
       "      <th>9</th>\n",
       "      <td>2006-10-10</td>\n",
       "      <td>11867.17</td>\n",
       "    </tr>\n",
       "    <tr>\n",
       "      <th>10</th>\n",
       "      <td>2006-10-11</td>\n",
       "      <td>11852.13</td>\n",
       "    </tr>\n",
       "    <tr>\n",
       "      <th>11</th>\n",
       "      <td>2006-10-12</td>\n",
       "      <td>11947.70</td>\n",
       "    </tr>\n",
       "    <tr>\n",
       "      <th>12</th>\n",
       "      <td>2006-10-13</td>\n",
       "      <td>11960.51</td>\n",
       "    </tr>\n",
       "    <tr>\n",
       "      <th>13</th>\n",
       "      <td>2006-10-16</td>\n",
       "      <td>11980.60</td>\n",
       "    </tr>\n",
       "    <tr>\n",
       "      <th>14</th>\n",
       "      <td>2006-10-17</td>\n",
       "      <td>11950.02</td>\n",
       "    </tr>\n",
       "    <tr>\n",
       "      <th>15</th>\n",
       "      <td>2006-10-18</td>\n",
       "      <td>11992.68</td>\n",
       "    </tr>\n",
       "    <tr>\n",
       "      <th>16</th>\n",
       "      <td>2006-10-19</td>\n",
       "      <td>12011.73</td>\n",
       "    </tr>\n",
       "    <tr>\n",
       "      <th>17</th>\n",
       "      <td>2006-10-20</td>\n",
       "      <td>12002.37</td>\n",
       "    </tr>\n",
       "    <tr>\n",
       "      <th>18</th>\n",
       "      <td>2006-10-23</td>\n",
       "      <td>12116.91</td>\n",
       "    </tr>\n",
       "    <tr>\n",
       "      <th>19</th>\n",
       "      <td>2006-10-24</td>\n",
       "      <td>12127.88</td>\n",
       "    </tr>\n",
       "    <tr>\n",
       "      <th>20</th>\n",
       "      <td>2006-10-25</td>\n",
       "      <td>12134.68</td>\n",
       "    </tr>\n",
       "    <tr>\n",
       "      <th>21</th>\n",
       "      <td>2006-10-26</td>\n",
       "      <td>12163.66</td>\n",
       "    </tr>\n",
       "    <tr>\n",
       "      <th>22</th>\n",
       "      <td>2006-10-27</td>\n",
       "      <td>12090.26</td>\n",
       "    </tr>\n",
       "    <tr>\n",
       "      <th>23</th>\n",
       "      <td>2006-10-30</td>\n",
       "      <td>12086.50</td>\n",
       "    </tr>\n",
       "    <tr>\n",
       "      <th>24</th>\n",
       "      <td>2006-10-31</td>\n",
       "      <td>12080.73</td>\n",
       "    </tr>\n",
       "    <tr>\n",
       "      <th>25</th>\n",
       "      <td>2006-11-01</td>\n",
       "      <td>12031.02</td>\n",
       "    </tr>\n",
       "    <tr>\n",
       "      <th>26</th>\n",
       "      <td>2006-11-02</td>\n",
       "      <td>12018.54</td>\n",
       "    </tr>\n",
       "    <tr>\n",
       "      <th>27</th>\n",
       "      <td>2006-11-03</td>\n",
       "      <td>11986.04</td>\n",
       "    </tr>\n",
       "    <tr>\n",
       "      <th>28</th>\n",
       "      <td>2006-11-06</td>\n",
       "      <td>12105.55</td>\n",
       "    </tr>\n",
       "    <tr>\n",
       "      <th>29</th>\n",
       "      <td>2006-11-07</td>\n",
       "      <td>12156.77</td>\n",
       "    </tr>\n",
       "    <tr>\n",
       "      <th>30</th>\n",
       "      <td>2006-11-08</td>\n",
       "      <td>12176.54</td>\n",
       "    </tr>\n",
       "    <tr>\n",
       "      <th>31</th>\n",
       "      <td>2006-11-09</td>\n",
       "      <td>12103.30</td>\n",
       "    </tr>\n",
       "    <tr>\n",
       "      <th>32</th>\n",
       "      <td>2006-11-10</td>\n",
       "      <td>12108.43</td>\n",
       "    </tr>\n",
       "    <tr>\n",
       "      <th>33</th>\n",
       "      <td>2006-11-13</td>\n",
       "      <td>12131.88</td>\n",
       "    </tr>\n",
       "    <tr>\n",
       "      <th>34</th>\n",
       "      <td>2006-11-14</td>\n",
       "      <td>12218.01</td>\n",
       "    </tr>\n",
       "    <tr>\n",
       "      <th>35</th>\n",
       "      <td>2006-11-15</td>\n",
       "      <td>12251.71</td>\n",
       "    </tr>\n",
       "    <tr>\n",
       "      <th>36</th>\n",
       "      <td>2006-11-16</td>\n",
       "      <td>12305.82</td>\n",
       "    </tr>\n",
       "    <tr>\n",
       "      <th>37</th>\n",
       "      <td>2006-11-17</td>\n",
       "      <td>12342.56</td>\n",
       "    </tr>\n",
       "    <tr>\n",
       "      <th>38</th>\n",
       "      <td>2006-11-20</td>\n",
       "      <td>12316.54</td>\n",
       "    </tr>\n",
       "    <tr>\n",
       "      <th>39</th>\n",
       "      <td>2006-11-21</td>\n",
       "      <td>12321.59</td>\n",
       "    </tr>\n",
       "    <tr>\n",
       "      <th>40</th>\n",
       "      <td>2006-11-22</td>\n",
       "      <td>12326.95</td>\n",
       "    </tr>\n",
       "    <tr>\n",
       "      <th>41</th>\n",
       "      <td>2006-11-23</td>\n",
       "      <td>.</td>\n",
       "    </tr>\n",
       "    <tr>\n",
       "      <th>42</th>\n",
       "      <td>2006-11-24</td>\n",
       "      <td>12280.17</td>\n",
       "    </tr>\n",
       "    <tr>\n",
       "      <th>43</th>\n",
       "      <td>2006-11-27</td>\n",
       "      <td>12121.71</td>\n",
       "    </tr>\n",
       "    <tr>\n",
       "      <th>44</th>\n",
       "      <td>2006-11-28</td>\n",
       "      <td>12136.45</td>\n",
       "    </tr>\n",
       "    <tr>\n",
       "      <th>45</th>\n",
       "      <td>2006-11-29</td>\n",
       "      <td>12226.73</td>\n",
       "    </tr>\n",
       "    <tr>\n",
       "      <th>46</th>\n",
       "      <td>2006-11-30</td>\n",
       "      <td>12221.93</td>\n",
       "    </tr>\n",
       "    <tr>\n",
       "      <th>47</th>\n",
       "      <td>2006-12-01</td>\n",
       "      <td>12194.13</td>\n",
       "    </tr>\n",
       "    <tr>\n",
       "      <th>48</th>\n",
       "      <td>2006-12-04</td>\n",
       "      <td>12283.85</td>\n",
       "    </tr>\n",
       "    <tr>\n",
       "      <th>49</th>\n",
       "      <td>2006-12-05</td>\n",
       "      <td>12331.60</td>\n",
       "    </tr>\n",
       "    <tr>\n",
       "      <th>50</th>\n",
       "      <td>2006-12-06</td>\n",
       "      <td>12309.25</td>\n",
       "    </tr>\n",
       "    <tr>\n",
       "      <th>51</th>\n",
       "      <td>2006-12-07</td>\n",
       "      <td>12278.41</td>\n",
       "    </tr>\n",
       "    <tr>\n",
       "      <th>52</th>\n",
       "      <td>2006-12-08</td>\n",
       "      <td>12307.49</td>\n",
       "    </tr>\n",
       "    <tr>\n",
       "      <th>53</th>\n",
       "      <td>2006-12-11</td>\n",
       "      <td>12328.48</td>\n",
       "    </tr>\n",
       "    <tr>\n",
       "      <th>54</th>\n",
       "      <td>2006-12-12</td>\n",
       "      <td>12315.58</td>\n",
       "    </tr>\n",
       "    <tr>\n",
       "      <th>55</th>\n",
       "      <td>2006-12-13</td>\n",
       "      <td>12317.50</td>\n",
       "    </tr>\n",
       "    <tr>\n",
       "      <th>56</th>\n",
       "      <td>2006-12-14</td>\n",
       "      <td>12416.76</td>\n",
       "    </tr>\n",
       "    <tr>\n",
       "      <th>57</th>\n",
       "      <td>2006-12-15</td>\n",
       "      <td>12445.52</td>\n",
       "    </tr>\n",
       "    <tr>\n",
       "      <th>58</th>\n",
       "      <td>2006-12-18</td>\n",
       "      <td>12441.27</td>\n",
       "    </tr>\n",
       "    <tr>\n",
       "      <th>59</th>\n",
       "      <td>2006-12-19</td>\n",
       "      <td>12471.32</td>\n",
       "    </tr>\n",
       "    <tr>\n",
       "      <th>60</th>\n",
       "      <td>2006-12-20</td>\n",
       "      <td>12463.87</td>\n",
       "    </tr>\n",
       "    <tr>\n",
       "      <th>61</th>\n",
       "      <td>2006-12-21</td>\n",
       "      <td>12421.25</td>\n",
       "    </tr>\n",
       "    <tr>\n",
       "      <th>62</th>\n",
       "      <td>2006-12-22</td>\n",
       "      <td>12343.22</td>\n",
       "    </tr>\n",
       "    <tr>\n",
       "      <th>63</th>\n",
       "      <td>2006-12-25</td>\n",
       "      <td>.</td>\n",
       "    </tr>\n",
       "    <tr>\n",
       "      <th>64</th>\n",
       "      <td>2006-12-26</td>\n",
       "      <td>12407.63</td>\n",
       "    </tr>\n",
       "    <tr>\n",
       "      <th>65</th>\n",
       "      <td>2006-12-27</td>\n",
       "      <td>12510.57</td>\n",
       "    </tr>\n",
       "    <tr>\n",
       "      <th>66</th>\n",
       "      <td>2006-12-28</td>\n",
       "      <td>12501.52</td>\n",
       "    </tr>\n",
       "    <tr>\n",
       "      <th>67</th>\n",
       "      <td>2006-12-29</td>\n",
       "      <td>12463.15</td>\n",
       "    </tr>\n",
       "    <tr>\n",
       "      <th>68</th>\n",
       "      <td>2007-01-01</td>\n",
       "      <td>.</td>\n",
       "    </tr>\n",
       "    <tr>\n",
       "      <th>69</th>\n",
       "      <td>2007-01-02</td>\n",
       "      <td>.</td>\n",
       "    </tr>\n",
       "    <tr>\n",
       "      <th>70</th>\n",
       "      <td>2007-01-03</td>\n",
       "      <td>12474.52</td>\n",
       "    </tr>\n",
       "    <tr>\n",
       "      <th>71</th>\n",
       "      <td>2007-01-04</td>\n",
       "      <td>12480.69</td>\n",
       "    </tr>\n",
       "    <tr>\n",
       "      <th>72</th>\n",
       "      <td>2007-01-05</td>\n",
       "      <td>12398.01</td>\n",
       "    </tr>\n",
       "    <tr>\n",
       "      <th>73</th>\n",
       "      <td>2007-01-08</td>\n",
       "      <td>12423.49</td>\n",
       "    </tr>\n",
       "    <tr>\n",
       "      <th>74</th>\n",
       "      <td>2007-01-09</td>\n",
       "      <td>12416.60</td>\n",
       "    </tr>\n",
       "    <tr>\n",
       "      <th>75</th>\n",
       "      <td>2007-01-10</td>\n",
       "      <td>12442.16</td>\n",
       "    </tr>\n",
       "    <tr>\n",
       "      <th>76</th>\n",
       "      <td>2007-01-11</td>\n",
       "      <td>12514.98</td>\n",
       "    </tr>\n",
       "    <tr>\n",
       "      <th>77</th>\n",
       "      <td>2007-01-12</td>\n",
       "      <td>12556.08</td>\n",
       "    </tr>\n",
       "    <tr>\n",
       "      <th>78</th>\n",
       "      <td>2007-01-15</td>\n",
       "      <td>.</td>\n",
       "    </tr>\n",
       "    <tr>\n",
       "      <th>79</th>\n",
       "      <td>2007-01-16</td>\n",
       "      <td>12582.59</td>\n",
       "    </tr>\n",
       "    <tr>\n",
       "      <th>80</th>\n",
       "      <td>2007-01-17</td>\n",
       "      <td>12577.15</td>\n",
       "    </tr>\n",
       "    <tr>\n",
       "      <th>81</th>\n",
       "      <td>2007-01-18</td>\n",
       "      <td>12567.93</td>\n",
       "    </tr>\n",
       "    <tr>\n",
       "      <th>82</th>\n",
       "      <td>2007-01-19</td>\n",
       "      <td>12565.53</td>\n",
       "    </tr>\n",
       "    <tr>\n",
       "      <th>83</th>\n",
       "      <td>2007-01-22</td>\n",
       "      <td>12477.16</td>\n",
       "    </tr>\n",
       "    <tr>\n",
       "      <th>84</th>\n",
       "      <td>2007-01-23</td>\n",
       "      <td>12533.80</td>\n",
       "    </tr>\n",
       "    <tr>\n",
       "      <th>...</th>\n",
       "      <td>...</td>\n",
       "      <td>...</td>\n",
       "    </tr>\n",
       "    <tr>\n",
       "      <th>2524</th>\n",
       "      <td>2016-05-31</td>\n",
       "      <td>17787.20</td>\n",
       "    </tr>\n",
       "    <tr>\n",
       "      <th>2525</th>\n",
       "      <td>2016-06-01</td>\n",
       "      <td>17789.67</td>\n",
       "    </tr>\n",
       "    <tr>\n",
       "      <th>2526</th>\n",
       "      <td>2016-06-02</td>\n",
       "      <td>17838.56</td>\n",
       "    </tr>\n",
       "    <tr>\n",
       "      <th>2527</th>\n",
       "      <td>2016-06-03</td>\n",
       "      <td>17807.06</td>\n",
       "    </tr>\n",
       "    <tr>\n",
       "      <th>2528</th>\n",
       "      <td>2016-06-06</td>\n",
       "      <td>17920.33</td>\n",
       "    </tr>\n",
       "    <tr>\n",
       "      <th>2529</th>\n",
       "      <td>2016-06-07</td>\n",
       "      <td>17938.28</td>\n",
       "    </tr>\n",
       "    <tr>\n",
       "      <th>2530</th>\n",
       "      <td>2016-06-08</td>\n",
       "      <td>18005.05</td>\n",
       "    </tr>\n",
       "    <tr>\n",
       "      <th>2531</th>\n",
       "      <td>2016-06-09</td>\n",
       "      <td>17985.19</td>\n",
       "    </tr>\n",
       "    <tr>\n",
       "      <th>2532</th>\n",
       "      <td>2016-06-10</td>\n",
       "      <td>17865.34</td>\n",
       "    </tr>\n",
       "    <tr>\n",
       "      <th>2533</th>\n",
       "      <td>2016-06-13</td>\n",
       "      <td>17732.48</td>\n",
       "    </tr>\n",
       "    <tr>\n",
       "      <th>2534</th>\n",
       "      <td>2016-06-14</td>\n",
       "      <td>17674.82</td>\n",
       "    </tr>\n",
       "    <tr>\n",
       "      <th>2535</th>\n",
       "      <td>2016-06-15</td>\n",
       "      <td>17640.17</td>\n",
       "    </tr>\n",
       "    <tr>\n",
       "      <th>2536</th>\n",
       "      <td>2016-06-16</td>\n",
       "      <td>17733.10</td>\n",
       "    </tr>\n",
       "    <tr>\n",
       "      <th>2537</th>\n",
       "      <td>2016-06-17</td>\n",
       "      <td>17675.16</td>\n",
       "    </tr>\n",
       "    <tr>\n",
       "      <th>2538</th>\n",
       "      <td>2016-06-20</td>\n",
       "      <td>17804.87</td>\n",
       "    </tr>\n",
       "    <tr>\n",
       "      <th>2539</th>\n",
       "      <td>2016-06-21</td>\n",
       "      <td>17829.73</td>\n",
       "    </tr>\n",
       "    <tr>\n",
       "      <th>2540</th>\n",
       "      <td>2016-06-22</td>\n",
       "      <td>17780.83</td>\n",
       "    </tr>\n",
       "    <tr>\n",
       "      <th>2541</th>\n",
       "      <td>2016-06-23</td>\n",
       "      <td>18011.07</td>\n",
       "    </tr>\n",
       "    <tr>\n",
       "      <th>2542</th>\n",
       "      <td>2016-06-24</td>\n",
       "      <td>17400.75</td>\n",
       "    </tr>\n",
       "    <tr>\n",
       "      <th>2543</th>\n",
       "      <td>2016-06-27</td>\n",
       "      <td>17140.24</td>\n",
       "    </tr>\n",
       "    <tr>\n",
       "      <th>2544</th>\n",
       "      <td>2016-06-28</td>\n",
       "      <td>17409.72</td>\n",
       "    </tr>\n",
       "    <tr>\n",
       "      <th>2545</th>\n",
       "      <td>2016-06-29</td>\n",
       "      <td>17694.68</td>\n",
       "    </tr>\n",
       "    <tr>\n",
       "      <th>2546</th>\n",
       "      <td>2016-06-30</td>\n",
       "      <td>17929.99</td>\n",
       "    </tr>\n",
       "    <tr>\n",
       "      <th>2547</th>\n",
       "      <td>2016-07-01</td>\n",
       "      <td>17949.37</td>\n",
       "    </tr>\n",
       "    <tr>\n",
       "      <th>2548</th>\n",
       "      <td>2016-07-04</td>\n",
       "      <td>.</td>\n",
       "    </tr>\n",
       "    <tr>\n",
       "      <th>2549</th>\n",
       "      <td>2016-07-05</td>\n",
       "      <td>17840.62</td>\n",
       "    </tr>\n",
       "    <tr>\n",
       "      <th>2550</th>\n",
       "      <td>2016-07-06</td>\n",
       "      <td>17918.62</td>\n",
       "    </tr>\n",
       "    <tr>\n",
       "      <th>2551</th>\n",
       "      <td>2016-07-07</td>\n",
       "      <td>17895.88</td>\n",
       "    </tr>\n",
       "    <tr>\n",
       "      <th>2552</th>\n",
       "      <td>2016-07-08</td>\n",
       "      <td>18146.74</td>\n",
       "    </tr>\n",
       "    <tr>\n",
       "      <th>2553</th>\n",
       "      <td>2016-07-11</td>\n",
       "      <td>18226.93</td>\n",
       "    </tr>\n",
       "    <tr>\n",
       "      <th>2554</th>\n",
       "      <td>2016-07-12</td>\n",
       "      <td>18347.67</td>\n",
       "    </tr>\n",
       "    <tr>\n",
       "      <th>2555</th>\n",
       "      <td>2016-07-13</td>\n",
       "      <td>18372.12</td>\n",
       "    </tr>\n",
       "    <tr>\n",
       "      <th>2556</th>\n",
       "      <td>2016-07-14</td>\n",
       "      <td>18506.41</td>\n",
       "    </tr>\n",
       "    <tr>\n",
       "      <th>2557</th>\n",
       "      <td>2016-07-15</td>\n",
       "      <td>18516.55</td>\n",
       "    </tr>\n",
       "    <tr>\n",
       "      <th>2558</th>\n",
       "      <td>2016-07-18</td>\n",
       "      <td>18533.05</td>\n",
       "    </tr>\n",
       "    <tr>\n",
       "      <th>2559</th>\n",
       "      <td>2016-07-19</td>\n",
       "      <td>18559.01</td>\n",
       "    </tr>\n",
       "    <tr>\n",
       "      <th>2560</th>\n",
       "      <td>2016-07-20</td>\n",
       "      <td>18595.03</td>\n",
       "    </tr>\n",
       "    <tr>\n",
       "      <th>2561</th>\n",
       "      <td>2016-07-21</td>\n",
       "      <td>18517.23</td>\n",
       "    </tr>\n",
       "    <tr>\n",
       "      <th>2562</th>\n",
       "      <td>2016-07-22</td>\n",
       "      <td>18570.85</td>\n",
       "    </tr>\n",
       "    <tr>\n",
       "      <th>2563</th>\n",
       "      <td>2016-07-25</td>\n",
       "      <td>18493.06</td>\n",
       "    </tr>\n",
       "    <tr>\n",
       "      <th>2564</th>\n",
       "      <td>2016-07-26</td>\n",
       "      <td>18473.75</td>\n",
       "    </tr>\n",
       "    <tr>\n",
       "      <th>2565</th>\n",
       "      <td>2016-07-27</td>\n",
       "      <td>18472.17</td>\n",
       "    </tr>\n",
       "    <tr>\n",
       "      <th>2566</th>\n",
       "      <td>2016-07-28</td>\n",
       "      <td>18456.35</td>\n",
       "    </tr>\n",
       "    <tr>\n",
       "      <th>2567</th>\n",
       "      <td>2016-07-29</td>\n",
       "      <td>18432.24</td>\n",
       "    </tr>\n",
       "    <tr>\n",
       "      <th>2568</th>\n",
       "      <td>2016-08-01</td>\n",
       "      <td>18404.51</td>\n",
       "    </tr>\n",
       "    <tr>\n",
       "      <th>2569</th>\n",
       "      <td>2016-08-02</td>\n",
       "      <td>18313.77</td>\n",
       "    </tr>\n",
       "    <tr>\n",
       "      <th>2570</th>\n",
       "      <td>2016-08-03</td>\n",
       "      <td>18355.00</td>\n",
       "    </tr>\n",
       "    <tr>\n",
       "      <th>2571</th>\n",
       "      <td>2016-08-04</td>\n",
       "      <td>18352.05</td>\n",
       "    </tr>\n",
       "    <tr>\n",
       "      <th>2572</th>\n",
       "      <td>2016-08-05</td>\n",
       "      <td>18543.53</td>\n",
       "    </tr>\n",
       "    <tr>\n",
       "      <th>2573</th>\n",
       "      <td>2016-08-08</td>\n",
       "      <td>18529.29</td>\n",
       "    </tr>\n",
       "    <tr>\n",
       "      <th>2574</th>\n",
       "      <td>2016-08-09</td>\n",
       "      <td>18533.05</td>\n",
       "    </tr>\n",
       "    <tr>\n",
       "      <th>2575</th>\n",
       "      <td>2016-08-10</td>\n",
       "      <td>18495.66</td>\n",
       "    </tr>\n",
       "    <tr>\n",
       "      <th>2576</th>\n",
       "      <td>2016-08-11</td>\n",
       "      <td>18613.52</td>\n",
       "    </tr>\n",
       "    <tr>\n",
       "      <th>2577</th>\n",
       "      <td>2016-08-12</td>\n",
       "      <td>18576.47</td>\n",
       "    </tr>\n",
       "    <tr>\n",
       "      <th>2578</th>\n",
       "      <td>2016-08-15</td>\n",
       "      <td>18636.05</td>\n",
       "    </tr>\n",
       "    <tr>\n",
       "      <th>2579</th>\n",
       "      <td>2016-08-16</td>\n",
       "      <td>18552.02</td>\n",
       "    </tr>\n",
       "    <tr>\n",
       "      <th>2580</th>\n",
       "      <td>2016-08-17</td>\n",
       "      <td>18573.94</td>\n",
       "    </tr>\n",
       "    <tr>\n",
       "      <th>2581</th>\n",
       "      <td>2016-08-18</td>\n",
       "      <td>18597.70</td>\n",
       "    </tr>\n",
       "    <tr>\n",
       "      <th>2582</th>\n",
       "      <td>2016-08-19</td>\n",
       "      <td>18552.57</td>\n",
       "    </tr>\n",
       "    <tr>\n",
       "      <th>2583</th>\n",
       "      <td>2016-08-22</td>\n",
       "      <td>18529.42</td>\n",
       "    </tr>\n",
       "    <tr>\n",
       "      <th>2584</th>\n",
       "      <td>2016-08-23</td>\n",
       "      <td>18547.30</td>\n",
       "    </tr>\n",
       "    <tr>\n",
       "      <th>2585</th>\n",
       "      <td>2016-08-24</td>\n",
       "      <td>18481.48</td>\n",
       "    </tr>\n",
       "    <tr>\n",
       "      <th>2586</th>\n",
       "      <td>2016-08-25</td>\n",
       "      <td>18448.41</td>\n",
       "    </tr>\n",
       "    <tr>\n",
       "      <th>2587</th>\n",
       "      <td>2016-08-26</td>\n",
       "      <td>18395.40</td>\n",
       "    </tr>\n",
       "    <tr>\n",
       "      <th>2588</th>\n",
       "      <td>2016-08-29</td>\n",
       "      <td>18502.99</td>\n",
       "    </tr>\n",
       "    <tr>\n",
       "      <th>2589</th>\n",
       "      <td>2016-08-30</td>\n",
       "      <td>18454.30</td>\n",
       "    </tr>\n",
       "    <tr>\n",
       "      <th>2590</th>\n",
       "      <td>2016-08-31</td>\n",
       "      <td>18400.88</td>\n",
       "    </tr>\n",
       "    <tr>\n",
       "      <th>2591</th>\n",
       "      <td>2016-09-01</td>\n",
       "      <td>18419.30</td>\n",
       "    </tr>\n",
       "    <tr>\n",
       "      <th>2592</th>\n",
       "      <td>2016-09-02</td>\n",
       "      <td>18491.96</td>\n",
       "    </tr>\n",
       "    <tr>\n",
       "      <th>2593</th>\n",
       "      <td>2016-09-05</td>\n",
       "      <td>.</td>\n",
       "    </tr>\n",
       "    <tr>\n",
       "      <th>2594</th>\n",
       "      <td>2016-09-06</td>\n",
       "      <td>18538.12</td>\n",
       "    </tr>\n",
       "    <tr>\n",
       "      <th>2595</th>\n",
       "      <td>2016-09-07</td>\n",
       "      <td>18526.14</td>\n",
       "    </tr>\n",
       "    <tr>\n",
       "      <th>2596</th>\n",
       "      <td>2016-09-08</td>\n",
       "      <td>18479.91</td>\n",
       "    </tr>\n",
       "    <tr>\n",
       "      <th>2597</th>\n",
       "      <td>2016-09-09</td>\n",
       "      <td>18085.45</td>\n",
       "    </tr>\n",
       "    <tr>\n",
       "      <th>2598</th>\n",
       "      <td>2016-09-12</td>\n",
       "      <td>18325.07</td>\n",
       "    </tr>\n",
       "    <tr>\n",
       "      <th>2599</th>\n",
       "      <td>2016-09-13</td>\n",
       "      <td>18066.75</td>\n",
       "    </tr>\n",
       "    <tr>\n",
       "      <th>2600</th>\n",
       "      <td>2016-09-14</td>\n",
       "      <td>18034.77</td>\n",
       "    </tr>\n",
       "    <tr>\n",
       "      <th>2601</th>\n",
       "      <td>2016-09-15</td>\n",
       "      <td>18212.48</td>\n",
       "    </tr>\n",
       "    <tr>\n",
       "      <th>2602</th>\n",
       "      <td>2016-09-16</td>\n",
       "      <td>18123.80</td>\n",
       "    </tr>\n",
       "    <tr>\n",
       "      <th>2603</th>\n",
       "      <td>2016-09-19</td>\n",
       "      <td>18120.17</td>\n",
       "    </tr>\n",
       "    <tr>\n",
       "      <th>2604</th>\n",
       "      <td>2016-09-20</td>\n",
       "      <td>18129.96</td>\n",
       "    </tr>\n",
       "    <tr>\n",
       "      <th>2605</th>\n",
       "      <td>2016-09-21</td>\n",
       "      <td>18293.70</td>\n",
       "    </tr>\n",
       "    <tr>\n",
       "      <th>2606</th>\n",
       "      <td>2016-09-22</td>\n",
       "      <td>18392.46</td>\n",
       "    </tr>\n",
       "    <tr>\n",
       "      <th>2607</th>\n",
       "      <td>2016-09-23</td>\n",
       "      <td>18261.45</td>\n",
       "    </tr>\n",
       "    <tr>\n",
       "      <th>2608</th>\n",
       "      <td>2016-09-26</td>\n",
       "      <td>18094.83</td>\n",
       "    </tr>\n",
       "  </tbody>\n",
       "</table>\n",
       "<p>2609 rows × 2 columns</p>\n",
       "</div>"
      ],
      "text/plain": [
       "            DATE     VALUE\n",
       "0     2006-09-27  11689.24\n",
       "1     2006-09-28  11718.45\n",
       "2     2006-09-29  11679.07\n",
       "3     2006-10-02  11670.35\n",
       "4     2006-10-03  11727.34\n",
       "5     2006-10-04  11850.61\n",
       "6     2006-10-05  11866.69\n",
       "7     2006-10-06  11850.21\n",
       "8     2006-10-09  11857.81\n",
       "9     2006-10-10  11867.17\n",
       "10    2006-10-11  11852.13\n",
       "11    2006-10-12  11947.70\n",
       "12    2006-10-13  11960.51\n",
       "13    2006-10-16  11980.60\n",
       "14    2006-10-17  11950.02\n",
       "15    2006-10-18  11992.68\n",
       "16    2006-10-19  12011.73\n",
       "17    2006-10-20  12002.37\n",
       "18    2006-10-23  12116.91\n",
       "19    2006-10-24  12127.88\n",
       "20    2006-10-25  12134.68\n",
       "21    2006-10-26  12163.66\n",
       "22    2006-10-27  12090.26\n",
       "23    2006-10-30  12086.50\n",
       "24    2006-10-31  12080.73\n",
       "25    2006-11-01  12031.02\n",
       "26    2006-11-02  12018.54\n",
       "27    2006-11-03  11986.04\n",
       "28    2006-11-06  12105.55\n",
       "29    2006-11-07  12156.77\n",
       "30    2006-11-08  12176.54\n",
       "31    2006-11-09  12103.30\n",
       "32    2006-11-10  12108.43\n",
       "33    2006-11-13  12131.88\n",
       "34    2006-11-14  12218.01\n",
       "35    2006-11-15  12251.71\n",
       "36    2006-11-16  12305.82\n",
       "37    2006-11-17  12342.56\n",
       "38    2006-11-20  12316.54\n",
       "39    2006-11-21  12321.59\n",
       "40    2006-11-22  12326.95\n",
       "41    2006-11-23         .\n",
       "42    2006-11-24  12280.17\n",
       "43    2006-11-27  12121.71\n",
       "44    2006-11-28  12136.45\n",
       "45    2006-11-29  12226.73\n",
       "46    2006-11-30  12221.93\n",
       "47    2006-12-01  12194.13\n",
       "48    2006-12-04  12283.85\n",
       "49    2006-12-05  12331.60\n",
       "50    2006-12-06  12309.25\n",
       "51    2006-12-07  12278.41\n",
       "52    2006-12-08  12307.49\n",
       "53    2006-12-11  12328.48\n",
       "54    2006-12-12  12315.58\n",
       "55    2006-12-13  12317.50\n",
       "56    2006-12-14  12416.76\n",
       "57    2006-12-15  12445.52\n",
       "58    2006-12-18  12441.27\n",
       "59    2006-12-19  12471.32\n",
       "60    2006-12-20  12463.87\n",
       "61    2006-12-21  12421.25\n",
       "62    2006-12-22  12343.22\n",
       "63    2006-12-25         .\n",
       "64    2006-12-26  12407.63\n",
       "65    2006-12-27  12510.57\n",
       "66    2006-12-28  12501.52\n",
       "67    2006-12-29  12463.15\n",
       "68    2007-01-01         .\n",
       "69    2007-01-02         .\n",
       "70    2007-01-03  12474.52\n",
       "71    2007-01-04  12480.69\n",
       "72    2007-01-05  12398.01\n",
       "73    2007-01-08  12423.49\n",
       "74    2007-01-09  12416.60\n",
       "75    2007-01-10  12442.16\n",
       "76    2007-01-11  12514.98\n",
       "77    2007-01-12  12556.08\n",
       "78    2007-01-15         .\n",
       "79    2007-01-16  12582.59\n",
       "80    2007-01-17  12577.15\n",
       "81    2007-01-18  12567.93\n",
       "82    2007-01-19  12565.53\n",
       "83    2007-01-22  12477.16\n",
       "84    2007-01-23  12533.80\n",
       "...          ...       ...\n",
       "2524  2016-05-31  17787.20\n",
       "2525  2016-06-01  17789.67\n",
       "2526  2016-06-02  17838.56\n",
       "2527  2016-06-03  17807.06\n",
       "2528  2016-06-06  17920.33\n",
       "2529  2016-06-07  17938.28\n",
       "2530  2016-06-08  18005.05\n",
       "2531  2016-06-09  17985.19\n",
       "2532  2016-06-10  17865.34\n",
       "2533  2016-06-13  17732.48\n",
       "2534  2016-06-14  17674.82\n",
       "2535  2016-06-15  17640.17\n",
       "2536  2016-06-16  17733.10\n",
       "2537  2016-06-17  17675.16\n",
       "2538  2016-06-20  17804.87\n",
       "2539  2016-06-21  17829.73\n",
       "2540  2016-06-22  17780.83\n",
       "2541  2016-06-23  18011.07\n",
       "2542  2016-06-24  17400.75\n",
       "2543  2016-06-27  17140.24\n",
       "2544  2016-06-28  17409.72\n",
       "2545  2016-06-29  17694.68\n",
       "2546  2016-06-30  17929.99\n",
       "2547  2016-07-01  17949.37\n",
       "2548  2016-07-04         .\n",
       "2549  2016-07-05  17840.62\n",
       "2550  2016-07-06  17918.62\n",
       "2551  2016-07-07  17895.88\n",
       "2552  2016-07-08  18146.74\n",
       "2553  2016-07-11  18226.93\n",
       "2554  2016-07-12  18347.67\n",
       "2555  2016-07-13  18372.12\n",
       "2556  2016-07-14  18506.41\n",
       "2557  2016-07-15  18516.55\n",
       "2558  2016-07-18  18533.05\n",
       "2559  2016-07-19  18559.01\n",
       "2560  2016-07-20  18595.03\n",
       "2561  2016-07-21  18517.23\n",
       "2562  2016-07-22  18570.85\n",
       "2563  2016-07-25  18493.06\n",
       "2564  2016-07-26  18473.75\n",
       "2565  2016-07-27  18472.17\n",
       "2566  2016-07-28  18456.35\n",
       "2567  2016-07-29  18432.24\n",
       "2568  2016-08-01  18404.51\n",
       "2569  2016-08-02  18313.77\n",
       "2570  2016-08-03  18355.00\n",
       "2571  2016-08-04  18352.05\n",
       "2572  2016-08-05  18543.53\n",
       "2573  2016-08-08  18529.29\n",
       "2574  2016-08-09  18533.05\n",
       "2575  2016-08-10  18495.66\n",
       "2576  2016-08-11  18613.52\n",
       "2577  2016-08-12  18576.47\n",
       "2578  2016-08-15  18636.05\n",
       "2579  2016-08-16  18552.02\n",
       "2580  2016-08-17  18573.94\n",
       "2581  2016-08-18  18597.70\n",
       "2582  2016-08-19  18552.57\n",
       "2583  2016-08-22  18529.42\n",
       "2584  2016-08-23  18547.30\n",
       "2585  2016-08-24  18481.48\n",
       "2586  2016-08-25  18448.41\n",
       "2587  2016-08-26  18395.40\n",
       "2588  2016-08-29  18502.99\n",
       "2589  2016-08-30  18454.30\n",
       "2590  2016-08-31  18400.88\n",
       "2591  2016-09-01  18419.30\n",
       "2592  2016-09-02  18491.96\n",
       "2593  2016-09-05         .\n",
       "2594  2016-09-06  18538.12\n",
       "2595  2016-09-07  18526.14\n",
       "2596  2016-09-08  18479.91\n",
       "2597  2016-09-09  18085.45\n",
       "2598  2016-09-12  18325.07\n",
       "2599  2016-09-13  18066.75\n",
       "2600  2016-09-14  18034.77\n",
       "2601  2016-09-15  18212.48\n",
       "2602  2016-09-16  18123.80\n",
       "2603  2016-09-19  18120.17\n",
       "2604  2016-09-20  18129.96\n",
       "2605  2016-09-21  18293.70\n",
       "2606  2016-09-22  18392.46\n",
       "2607  2016-09-23  18261.45\n",
       "2608  2016-09-26  18094.83\n",
       "\n",
       "[2609 rows x 2 columns]"
      ]
     },
     "execution_count": 186,
     "metadata": {},
     "output_type": "execute_result"
    }
   ],
   "source": [
    "Djia = pd.read_csv('DJIA.csv')\n",
    "Djia"
   ]
  },
  {
   "cell_type": "code",
   "execution_count": 192,
   "metadata": {},
   "outputs": [
    {
     "name": "stderr",
     "output_type": "stream",
     "text": [
      "/anaconda3/lib/python3.7/site-packages/ipykernel_launcher.py:2: SettingWithCopyWarning: \n",
      "A value is trying to be set on a copy of a slice from a DataFrame\n",
      "\n",
      "See the caveats in the documentation: http://pandas.pydata.org/pandas-docs/stable/indexing.html#indexing-view-versus-copy\n",
      "  \n"
     ]
    },
    {
     "data": {
      "text/plain": [
       "<matplotlib.axes._subplots.AxesSubplot at 0x126dce940>"
      ]
     },
     "execution_count": 192,
     "metadata": {},
     "output_type": "execute_result"
    },
    {
     "data": {
      "image/png": "[encoded data removed]",
      "text/plain": [
       "<Figure size 432x288 with 1 Axes>"
      ]
     },
     "metadata": {
      "needs_background": "light"
     },
     "output_type": "display_data"
    }
   ],
   "source": [
    "Djia.DATE = pd.to_datetime(Djia.DATE)\n",
    "Djia['VALUE'][Djia.VALUE == \".\"] = \"NaN\"\n",
    "Djia = Djia.dropna()\n",
    "Djia['VALUE'] = Djia['VALUE'].astype(float)\n",
    "Djia.plot(x=\"DATE\", y=\"VALUE\", lw=.5)\n",
    "\n",
    "\n",
    "\n"
   ]
  },
  {
   "cell_type": "markdown",
   "metadata": {},
   "source": [
    "### Exercise 2"
   ]
  },
  {
   "cell_type": "code",
   "execution_count": 211,
   "metadata": {},
   "outputs": [
    {
     "name": "stderr",
     "output_type": "stream",
     "text": [
      "/anaconda3/lib/python3.7/site-packages/ipykernel_launcher.py:2: DeprecationWarning: \n",
      ".ix is deprecated. Please use\n",
      ".loc for label based indexing or\n",
      ".iloc for positional indexing\n",
      "\n",
      "See the documentation here:\n",
      "http://pandas.pydata.org/pandas-docs/stable/indexing.html#ix-indexer-is-deprecated\n",
      "  \n"
     ]
    }
   ],
   "source": [
    "paye = pd.read_csv('paychecks.csv', header=None)\n",
    "paye_e = paye.ix[:,0]"
   ]
  },
  {
   "cell_type": "code",
   "execution_count": 220,
   "metadata": {},
   "outputs": [
    {
     "data": {
      "text/plain": [
       "DatetimeIndex(['2008-03-13', '2008-03-27', '2008-04-10', '2008-04-24',\n",
       "               '2008-05-08', '2008-05-22', '2008-06-05', '2008-06-19',\n",
       "               '2008-07-03', '2008-07-17', '2008-07-31', '2008-08-14',\n",
       "               '2008-08-28', '2008-09-11', '2008-09-25', '2008-10-09',\n",
       "               '2008-10-23', '2008-11-06', '2008-11-20', '2008-12-04',\n",
       "               '2008-12-18', '2009-01-01', '2009-01-15', '2009-01-29',\n",
       "               '2009-02-12', '2009-02-26', '2009-03-12', '2009-03-26',\n",
       "               '2009-04-09', '2009-04-23', '2009-05-07', '2009-05-21',\n",
       "               '2009-06-04', '2009-06-18', '2009-07-02', '2009-07-16',\n",
       "               '2009-07-30', '2009-08-13', '2009-08-27', '2009-09-10',\n",
       "               '2009-09-24', '2009-10-08', '2009-10-22', '2009-11-05',\n",
       "               '2009-11-19', '2009-12-03', '2009-12-17', '2009-12-31',\n",
       "               '2010-01-14', '2010-01-28', '2010-02-11', '2010-02-25',\n",
       "               '2010-03-11', '2010-03-25', '2010-04-08', '2010-04-22',\n",
       "               '2010-05-06', '2010-05-20', '2010-06-03', '2010-06-17',\n",
       "               '2010-07-01', '2010-07-15', '2010-07-29', '2010-08-12',\n",
       "               '2010-08-26', '2010-09-09', '2010-09-23', '2010-10-07',\n",
       "               '2010-10-21', '2010-11-04', '2010-11-18', '2010-12-02',\n",
       "               '2010-12-16', '2010-12-30', '2011-01-13', '2011-01-27',\n",
       "               '2011-02-10', '2011-02-24', '2011-03-10', '2011-03-24',\n",
       "               '2011-04-07', '2011-04-21', '2011-05-05', '2011-05-19',\n",
       "               '2011-06-02', '2011-06-16', '2011-06-30', '2011-07-14',\n",
       "               '2011-07-28', '2011-08-11', '2011-08-25', '2011-09-08',\n",
       "               '2011-09-22'],\n",
       "              dtype='datetime64[ns]', freq='14D')"
      ]
     },
     "execution_count": 220,
     "metadata": {},
     "output_type": "execute_result"
    }
   ],
   "source": [
    "indexT = pd.date_range(start='3/13/2008', periods = 93, freq=\"14d\")\n",
    "indexT"
   ]
  },
  {
   "cell_type": "code",
   "execution_count": 222,
   "metadata": {
    "scrolled": true
   },
   "outputs": [
    {
     "data": {
      "text/plain": [
       "<matplotlib.axes._subplots.AxesSubplot at 0x125c39eb8>"
      ]
     },
     "execution_count": 222,
     "metadata": {},
     "output_type": "execute_result"
    },
    {
     "data": {
      "image/png": "[encoded data removed]",
      "text/plain": [
       "<Figure size 432x288 with 1 Axes>"
      ]
     },
     "metadata": {
      "needs_background": "light"
     },
     "output_type": "display_data"
    }
   ],
   "source": [
    "paye_series = pd.DataFrame({'Date': indexT, \n",
    "                            'Check': paye_e})\n",
    "paye_series.plot(x=\"Date\", y=\"Check\", lw=.5)\n"
   ]
  },
  {
   "cell_type": "markdown",
   "metadata": {},
   "source": [
    "## Periods"
   ]
  },
  {
   "cell_type": "markdown",
   "metadata": {},
   "source": [
    "## Operations on Time Series"
   ]
  },
  {
   "cell_type": "markdown",
   "metadata": {},
   "source": [
    "## Elementary Time Series Analysis"
   ]
  },
  {
   "cell_type": "markdown",
   "metadata": {},
   "source": [
    "### Exercise 5"
   ]
  },
  {
   "cell_type": "code",
   "execution_count": 238,
   "metadata": {},
   "outputs": [],
   "source": [
    "paye_series = pd.DataFrame({'Date': indexT, \n",
    "                            'Check': paye_e})\n",
    "paye_series2 = paye_series.set_index('Date')"
   ]
  },
  {
   "cell_type": "code",
   "execution_count": 279,
   "metadata": {},
   "outputs": [],
   "source": [
    "# Daily\n",
    "daily = np.array(np.repeat(paye_series.Check, 14) / 14)\n",
    "paye_day = pd.DataFrame({\"daily\": daily,\n",
    "                    \"index\": pd.date_range(\"2008-03-13\", freq=\"D\", periods = 1302)})\n",
    "\n",
    "paye_day['diff'] = paye_day['daily'] - paye_day['daily'].shift(1)\n",
    "paye_day = paye_day.dropna()"
   ]
  },
  {
   "cell_type": "code",
   "execution_count": 280,
   "metadata": {},
   "outputs": [
    {
     "data": {
      "text/html": [
       "<div>\n",
       "<style scoped>\n",
       "    .dataframe tbody tr th:only-of-type {\n",
       "        vertical-align: middle;\n",
       "    }\n",
       "\n",
       "    .dataframe tbody tr th {\n",
       "        vertical-align: top;\n",
       "    }\n",
       "\n",
       "    .dataframe thead th {\n",
       "        text-align: right;\n",
       "    }\n",
       "</style>\n",
       "<table border=\"1\" class=\"dataframe\">\n",
       "  <thead>\n",
       "    <tr style=\"text-align: right;\">\n",
       "      <th></th>\n",
       "      <th>daily</th>\n",
       "      <th>index</th>\n",
       "      <th>diff</th>\n",
       "    </tr>\n",
       "  </thead>\n",
       "  <tbody>\n",
       "    <tr>\n",
       "      <th>182</th>\n",
       "      <td>80.413571</td>\n",
       "      <td>2008-09-11</td>\n",
       "      <td>15.425714</td>\n",
       "    </tr>\n",
       "  </tbody>\n",
       "</table>\n",
       "</div>"
      ],
      "text/plain": [
       "         daily      index       diff\n",
       "182  80.413571 2008-09-11  15.425714"
      ]
     },
     "execution_count": 280,
     "metadata": {},
     "output_type": "execute_result"
    }
   ],
   "source": [
    "paye_day[paye_day[\"diff\"] == max(paye_day[\"diff\"])]"
   ]
  },
  {
   "cell_type": "code",
   "execution_count": 281,
   "metadata": {},
   "outputs": [
    {
     "data": {
      "text/html": [
       "<div>\n",
       "<style scoped>\n",
       "    .dataframe tbody tr th:only-of-type {\n",
       "        vertical-align: middle;\n",
       "    }\n",
       "\n",
       "    .dataframe tbody tr th {\n",
       "        vertical-align: top;\n",
       "    }\n",
       "\n",
       "    .dataframe thead th {\n",
       "        text-align: right;\n",
       "    }\n",
       "</style>\n",
       "<table border=\"1\" class=\"dataframe\">\n",
       "  <thead>\n",
       "    <tr style=\"text-align: right;\">\n",
       "      <th></th>\n",
       "      <th>daily</th>\n",
       "      <th>index</th>\n",
       "      <th>diff</th>\n",
       "    </tr>\n",
       "  </thead>\n",
       "  <tbody>\n",
       "    <tr>\n",
       "      <th>14</th>\n",
       "      <td>65.787857</td>\n",
       "      <td>2008-03-27</td>\n",
       "      <td>-14.373571</td>\n",
       "    </tr>\n",
       "  </tbody>\n",
       "</table>\n",
       "</div>"
      ],
      "text/plain": [
       "        daily      index       diff\n",
       "14  65.787857 2008-03-27 -14.373571"
      ]
     },
     "execution_count": 281,
     "metadata": {},
     "output_type": "execute_result"
    }
   ],
   "source": [
    "paye_day[paye_day[\"diff\"] == min(paye_day[\"diff\"])]"
   ]
  },
  {
   "cell_type": "code",
   "execution_count": 289,
   "metadata": {},
   "outputs": [
    {
     "name": "stderr",
     "output_type": "stream",
     "text": [
      "/anaconda3/lib/python3.7/site-packages/ipykernel_launcher.py:2: FutureWarning: fill_method is deprecated to .resample()\n",
      "the new syntax is .resample(...).sum().bfill()\n",
      "  \n"
     ]
    }
   ],
   "source": [
    "#Monthly\n",
    "paye_month = paye_series2.resample('M', how='sum', fill_method='bfill')\n",
    "paye_month[\"diff\"] =  paye_month['Check'] - paye_month['Check'].shift(1)\n",
    "paye_month = paye_month.dropna()"
   ]
  },
  {
   "cell_type": "code",
   "execution_count": 290,
   "metadata": {},
   "outputs": [
    {
     "data": {
      "text/html": [
       "<div>\n",
       "<style scoped>\n",
       "    .dataframe tbody tr th:only-of-type {\n",
       "        vertical-align: middle;\n",
       "    }\n",
       "\n",
       "    .dataframe tbody tr th {\n",
       "        vertical-align: top;\n",
       "    }\n",
       "\n",
       "    .dataframe thead th {\n",
       "        text-align: right;\n",
       "    }\n",
       "</style>\n",
       "<table border=\"1\" class=\"dataframe\">\n",
       "  <thead>\n",
       "    <tr style=\"text-align: right;\">\n",
       "      <th></th>\n",
       "      <th>Check</th>\n",
       "      <th>diff</th>\n",
       "    </tr>\n",
       "    <tr>\n",
       "      <th>Date</th>\n",
       "      <th></th>\n",
       "      <th></th>\n",
       "    </tr>\n",
       "  </thead>\n",
       "  <tbody>\n",
       "    <tr>\n",
       "      <th>2011-06-30</th>\n",
       "      <td>3085.15</td>\n",
       "      <td>1188.18</td>\n",
       "    </tr>\n",
       "  </tbody>\n",
       "</table>\n",
       "</div>"
      ],
      "text/plain": [
       "              Check     diff\n",
       "Date                        \n",
       "2011-06-30  3085.15  1188.18"
      ]
     },
     "execution_count": 290,
     "metadata": {},
     "output_type": "execute_result"
    }
   ],
   "source": [
    "paye_month[paye_month[\"diff\"] == max(paye_month[\"diff\"])]"
   ]
  },
  {
   "cell_type": "code",
   "execution_count": 291,
   "metadata": {},
   "outputs": [
    {
     "data": {
      "text/html": [
       "<div>\n",
       "<style scoped>\n",
       "    .dataframe tbody tr th:only-of-type {\n",
       "        vertical-align: middle;\n",
       "    }\n",
       "\n",
       "    .dataframe tbody tr th {\n",
       "        vertical-align: top;\n",
       "    }\n",
       "\n",
       "    .dataframe thead th {\n",
       "        text-align: right;\n",
       "    }\n",
       "</style>\n",
       "<table border=\"1\" class=\"dataframe\">\n",
       "  <thead>\n",
       "    <tr style=\"text-align: right;\">\n",
       "      <th></th>\n",
       "      <th>Check</th>\n",
       "      <th>diff</th>\n",
       "    </tr>\n",
       "    <tr>\n",
       "      <th>Date</th>\n",
       "      <th></th>\n",
       "      <th></th>\n",
       "    </tr>\n",
       "  </thead>\n",
       "  <tbody>\n",
       "    <tr>\n",
       "      <th>2010-08-31</th>\n",
       "      <td>1892.63</td>\n",
       "      <td>-1319.19</td>\n",
       "    </tr>\n",
       "  </tbody>\n",
       "</table>\n",
       "</div>"
      ],
      "text/plain": [
       "              Check     diff\n",
       "Date                        \n",
       "2010-08-31  1892.63 -1319.19"
      ]
     },
     "execution_count": 291,
     "metadata": {},
     "output_type": "execute_result"
    }
   ],
   "source": [
    "paye_month[paye_month[\"diff\"] == min(paye_month[\"diff\"])]"
   ]
  },
  {
   "cell_type": "markdown",
   "metadata": {},
   "source": [
    "### Exercise 6"
   ]
  },
  {
   "cell_type": "code",
   "execution_count": 365,
   "metadata": {},
   "outputs": [],
   "source": [
    "Djia2 = Djia.set_index('DATE')\n",
    "\n",
    "rolling30 = Djia2[[\"VALUE\"]].rolling(window=30).mean()\n",
    "span30 = Djia2.ewm(span=30).mean()\n",
    "rolling120 = Djia2[[\"VALUE\"]].rolling(window=120).mean()\n",
    "span120 = Djia2.ewm(span=120).mean()\n",
    "rolling365 = Djia2[[\"VALUE\"]].rolling(window=365).mean()\n",
    "span365 = Djia2.ewm(span=365).mean()\n",
    "minrol30 = np.min(rolling30)[0]\n",
    "minrol120 = np.min(rolling120.dropna())[0]\n",
    "minrol365 = np.min(rolling365.dropna())[0]\n",
    "maxrol30 = np.max(rolling30.dropna())[0]\n",
    "maxrol120 = np.max(rolling120.dropna())[0]\n",
    "maxrol365 = np.max(rolling365.dropna())[0]\n",
    "\n",
    "Djia2[\"span30\"] = span30\n",
    "Djia2[\"rolling30\"] = rolling30\n",
    "Djia2[\"span120\"] = span120\n",
    "Djia2[\"rolling120\"] = rolling120\n",
    "Djia2[\"span365\"] = span365\n",
    "Djia2[\"rolling365\"] = rolling365\n",
    "Djia2[\"min30\"] = minrol30\n",
    "Djia2[\"min120\"] = minrol120\n",
    "Djia2[\"min365\"] = minrol365\n",
    "Djia2[\"max30\"] = maxrol30\n",
    "Djia2[\"max120\"] = maxrol120\n",
    "Djia2[\"max365\"] = maxrol365\n"
   ]
  },
  {
   "cell_type": "code",
   "execution_count": 367,
   "metadata": {},
   "outputs": [
    {
     "data": {
      "text/plain": [
       "<matplotlib.axes._subplots.AxesSubplot at 0x12b339c50>"
      ]
     },
     "execution_count": 367,
     "metadata": {},
     "output_type": "execute_result"
    },
    {
     "data": {
      "image/png": "[encoded data removed]",
      "text/plain": [
       "<Figure size 432x288 with 1 Axes>"
      ]
     },
     "metadata": {
      "needs_background": "light"
     },
     "output_type": "display_data"
    }
   ],
   "source": [
    "Djia2.plot(y=[\"VALUE\", \"span30\", \"rolling30\", \"min30\", \"max30\"], lw=.5)\n"
   ]
  },
  {
   "cell_type": "code",
   "execution_count": 368,
   "metadata": {},
   "outputs": [
    {
     "data": {
      "text/plain": [
       "<matplotlib.axes._subplots.AxesSubplot at 0x12a12b048>"
      ]
     },
     "execution_count": 368,
     "metadata": {},
     "output_type": "execute_result"
    },
    {
     "data": {
      "image/png": "[encoded data removed]",
      "text/plain": [
       "<Figure size 432x288 with 1 Axes>"
      ]
     },
     "metadata": {
      "needs_background": "light"
     },
     "output_type": "display_data"
    }
   ],
   "source": [
    "Djia2.plot(y=[\"VALUE\", \"span120\", \"rolling120\", \"min120\", \"max120\"], lw=.5)\n"
   ]
  },
  {
   "cell_type": "code",
   "execution_count": 369,
   "metadata": {},
   "outputs": [
    {
     "data": {
      "text/plain": [
       "<matplotlib.axes._subplots.AxesSubplot at 0x129f524e0>"
      ]
     },
     "execution_count": 369,
     "metadata": {},
     "output_type": "execute_result"
    },
    {
     "data": {
      "image/png": "[encoded data removed]",
      "text/plain": [
       "<Figure size 432x288 with 1 Axes>"
      ]
     },
     "metadata": {
      "needs_background": "light"
     },
     "output_type": "display_data"
    }
   ],
   "source": [
    "Djia2.plot(y=[\"VALUE\", \"span30\", \"rolling365\", \"min365\", \"max365\"], lw=.5)\n"
   ]
  },
  {
   "cell_type": "code",
   "execution_count": null,
   "metadata": {},
   "outputs": [],
   "source": []
  }
 ],
 "metadata": {
  "kernelspec": {
   "display_name": "Python 3",
   "language": "python",
   "name": "python3"
  },
  "language_info": {
   "codemirror_mode": {
    "name": "ipython",
    "version": 3
   },
   "file_extension": ".py",
   "mimetype": "text/x-python",
   "name": "python",
   "nbconvert_exporter": "python",
   "pygments_lexer": "ipython3",
   "version": "3.7.3"
  }
 },
 "nbformat": 4,
 "nbformat_minor": 2
}
