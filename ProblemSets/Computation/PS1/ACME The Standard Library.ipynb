{
 "cells": [
  {
   "cell_type": "code",
   "execution_count": 12,
   "metadata": {},
   "outputs": [],
   "source": [
    "### PROBLEM 1\n",
    "\n",
    "def function_pb1(object1): print((min(object1), max(object1), sum(object1)/len(object1)))  \n",
    "    "
   ]
  },
  {
   "cell_type": "code",
   "execution_count": 97,
   "metadata": {},
   "outputs": [
    {
     "ename": "SyntaxError",
     "evalue": "invalid syntax (<ipython-input-97-962d8d7aaef4>, line 35)",
     "output_type": "error",
     "traceback": [
      "\u001b[0;36m  File \u001b[0;32m\"<ipython-input-97-962d8d7aaef4>\"\u001b[0;36m, line \u001b[0;32m35\u001b[0m\n\u001b[0;31m    for (i=1; i=2; i=3; i=4)\u001b[0m\n\u001b[0m          ^\u001b[0m\n\u001b[0;31mSyntaxError\u001b[0m\u001b[0;31m:\u001b[0m invalid syntax\n"
     ]
    }
   ],
   "source": [
    "### PROBLEM 2\n",
    "\n",
    "# 1. \n",
    "type_int = int(2)\n",
    "type_str = str(2)\n",
    "type_list = list((2, 2))\n",
    "type_tuple = tuple((2, 2))\n",
    "type_set = set((2,2))\n",
    "\n",
    "# 2.\n",
    "type_int2 = type_int\n",
    "type_str2 = type_str\n",
    "type_list2 = type_list\n",
    "type_tuple2 = type_tuple\n",
    "type_set2 = type_set\n",
    "\n",
    "# 3.\n",
    "type_int2 += 1\n",
    "type_str2 = str(3)\n",
    "type_list2 += list((1, 1))\n",
    "type_tuple2 += tuple((1,1))\n",
    "type_set2 = set((3,3))\n",
    "\n",
    "# 4. \n",
    "\n",
    "results = (type_int == type_int2,\n",
    "      type_str == type_str2,\n",
    "      type_list == type_list2,\n",
    "      type_tuple == type_tuple2,\n",
    "      type_set == type_set2)\n",
    "\n",
    "types = (\"int\", \"str\", \"list\", \"tuple\", \"set\")\n",
    "\n",
    "# How to make a statement?\n",
    "for (i=1; i=2; i=3; i=4)\n",
    "    if results[i] == True: \n",
    "        print(types[i],  \"is mutable\")\n",
    "    else:\n",
    "        print(types[i],  \"is immutable\")"
   ]
  },
  {
   "cell_type": "code",
   "execution_count": 1,
   "metadata": {},
   "outputs": [
    {
     "data": {
      "text/plain": [
       "2.23606797749979"
      ]
     },
     "execution_count": 1,
     "metadata": {},
     "output_type": "execute_result"
    }
   ],
   "source": [
    "### PROBLEM 3\n",
    "\n",
    "import calculator\n",
    "\n",
    "\n",
    "from math import sqrt\n",
    "def funct_pb3(a,b):\n",
    "    a2 = calculator.calc_prod(a,a)\n",
    "    b2 = calculator.calc_prod(b,b)\n",
    "    hyp = calculator.calc_sum(a2, b2)\n",
    "    hyp = sqrt(a2+b2)\n",
    "    return(hyp)\n",
    "\n",
    "funct_pb3(1,2)\n",
    "\n",
    "# Not working yet"
   ]
  },
  {
   "cell_type": "code",
   "execution_count": 25,
   "metadata": {},
   "outputs": [
    {
     "data": {
      "text/plain": [
       "[[[[[(), [()]], [('a',), ('b',), ('c',), ('d',), ('e',)]],\n",
       "   [('a', 'b'),\n",
       "    ('a', 'c'),\n",
       "    ('a', 'd'),\n",
       "    ('a', 'e'),\n",
       "    ('b', 'c'),\n",
       "    ('b', 'd'),\n",
       "    ('b', 'e'),\n",
       "    ('c', 'd'),\n",
       "    ('c', 'e'),\n",
       "    ('d', 'e')]],\n",
       "  [('a', 'b', 'c'),\n",
       "   ('a', 'b', 'd'),\n",
       "   ('a', 'b', 'e'),\n",
       "   ('a', 'c', 'd'),\n",
       "   ('a', 'c', 'e'),\n",
       "   ('a', 'd', 'e'),\n",
       "   ('b', 'c', 'd'),\n",
       "   ('b', 'c', 'e'),\n",
       "   ('b', 'd', 'e'),\n",
       "   ('c', 'd', 'e')]],\n",
       " [('a', 'b', 'c', 'd'),\n",
       "  ('a', 'b', 'c', 'e'),\n",
       "  ('a', 'b', 'd', 'e'),\n",
       "  ('a', 'c', 'd', 'e'),\n",
       "  ('b', 'c', 'd', 'e')]]"
      ]
     },
     "execution_count": 25,
     "metadata": {},
     "output_type": "execute_result"
    }
   ],
   "source": [
    "### PROBLEM 4\n",
    "import numpy as np\n",
    "from itertools import combinations\n",
    "\n",
    "def function_pb4(A):\n",
    "    l = ()\n",
    "    for i in range(len(A)):\n",
    "        l = (l, list(combinations(A, range(len(A)))))\n",
    "        l = list(l)\n",
    "    return l\n",
    "\n",
    "function_pb4(\"abcde\")\n",
    "# issue with the type of the output?"
   ]
  },
  {
   "cell_type": "code",
   "execution_count": 168,
   "metadata": {},
   "outputs": [],
   "source": [
    "### PROBLEM 5\n",
    "import sys \n",
    "\n",
    "from itertools import combinations\n",
    "\n",
    "\n",
    "def isvalid(roll, remaining):\n",
    "    '''\n",
    "    Check to see whether or not a roll is valid. That is, check if there\n",
    "    exists a combination of the entries of 'remaining' that sum up to\n",
    "    'roll'.\n",
    "\n",
    "    Parameters:\n",
    "        roll (int): The value of a dice roll, between 2 and 12\n",
    "                    (inclusive).\n",
    "        remaining (list): The list of the numbers that still need to be\n",
    "                          removed before the box can be shut.\n",
    "\n",
    "    Returns:\n",
    "        True if the roll is valid.\n",
    "        False if the roll is invalid.\n",
    "    '''\n",
    "    if roll not in range(2, 13):\n",
    "        return False\n",
    "    for i in range(1, len(remaining) + 1):\n",
    "        if any([sum(combo) == roll for combo in combinations(remaining, i)]):\n",
    "            return True\n",
    "    return False\n",
    "\n",
    "\n",
    "def parse_input(player_input, remaining):\n",
    "    \"\"\"Convert a string of numbers into a list of unique integers, if possible.\n",
    "    Then check that each of those integers is an entry in the other list.\n",
    "\n",
    "    Parameters:\n",
    "        player_input (str): A string of integers, separated by spaces.\n",
    "            The player's choices for which numbers to remove.\n",
    "        remaining (list): The list of the numbers that still need to be\n",
    "            removed before the box can be shut.\n",
    "\n",
    "    Returns:\n",
    "        A list of the integers if the input was valid.\n",
    "        An empty list if the input was invalid.\n",
    "    \"\"\"\n",
    "    try:\n",
    "        choices = [int(i) for i in player_input.split()]\n",
    "        if len(set(choices)) != len(choices):\n",
    "            raise ValueError\n",
    "        if any([number not in remaining for number in choices]):\n",
    "            raise ValueError\n",
    "        return choices\n",
    "    except ValueError:\n",
    "        return []\n"
   ]
  },
  {
   "cell_type": "code",
   "execution_count": null,
   "metadata": {
    "scrolled": true
   },
   "outputs": [],
   "source": [
    "#def shut_the_box(box.py, name, time_lim):\n",
    "import random\n",
    "import itertools\n",
    "import time\n",
    "### Initiate\n",
    "\n",
    "name = \"Loulou\"\n",
    "time_lim = 60\n",
    "start_time = time.time()\n",
    "time_left = start_time + time_lim\n",
    "remaining = list(range(1,13))\n",
    "\n",
    "### For each round\n",
    "while time_left - time.time() > 0:\n",
    "    \n",
    "    roll = (random.randint(1,7) + random.randint(1,7))\n",
    "    \n",
    "    print(\"Number left: \", remaining)\n",
    "    print(\"Roll: \", roll)\n",
    "    print(\"Seconds left\", round(time_left - time.time(), 2))\n",
    "    \n",
    "    if isvalid(roll, remaining) == False:\n",
    "        print(\"Game Over\")\n",
    "        print(\"Score for player \", name, \": \", sum(remaining), \"points\")\n",
    "        print(\"Time played: \", time.time() - start_time)\n",
    "        print(\"Better luck next time\")\n",
    "        break\n",
    "    \n",
    "    if isvalid(roll, remaining) == True:\n",
    "        eliminate = np.int64(input(\"Numbers to eliminate: \"))\n",
    "        to_remove = np.int64(parse_input(roll, remaining))\n",
    "    \n",
    "        if eliminate in to_remove:\n",
    "            remaining.remove(eliminate)\n",
    "    \n",
    "\n",
    "    print(\"Score for player \", name, \": \", sum(remaining), \"points\")\n",
    "    print(\"Time played: \", max(60, time_left - time.time()))\n",
    "    if sum(remaining) == 0:\n",
    "        print(\"Congratulations!! You shut the box !\")"
   ]
  },
  {
   "cell_type": "code",
   "execution_count": 170,
   "metadata": {},
   "outputs": [
    {
     "name": "stdout",
     "output_type": "stream",
     "text": [
      "Number left:  [1, 2, 3, 4, 5, 6, 7, 8, 9, 10, 11, 12]\n",
      "Roll:  6\n",
      "Seconds left 60.0\n",
      "Numbers to eliminate: 2, 4\n"
     ]
    },
    {
     "ename": "AttributeError",
     "evalue": "'int' object has no attribute 'split'",
     "output_type": "error",
     "traceback": [
      "\u001b[0;31m---------------------------------------------------------------------------\u001b[0m",
      "\u001b[0;31mAttributeError\u001b[0m                            Traceback (most recent call last)",
      "\u001b[0;32m<ipython-input-170-dff942da5a31>\u001b[0m in \u001b[0;36m<module>\u001b[0;34m\u001b[0m\n\u001b[1;32m     14\u001b[0m \u001b[0;32mif\u001b[0m \u001b[0misvalid\u001b[0m\u001b[0;34m(\u001b[0m\u001b[0mroll\u001b[0m\u001b[0;34m,\u001b[0m \u001b[0mremaining\u001b[0m\u001b[0;34m)\u001b[0m \u001b[0;34m==\u001b[0m \u001b[0;32mTrue\u001b[0m\u001b[0;34m:\u001b[0m\u001b[0;34m\u001b[0m\u001b[0;34m\u001b[0m\u001b[0m\n\u001b[1;32m     15\u001b[0m     \u001b[0meliminate\u001b[0m \u001b[0;34m=\u001b[0m \u001b[0minput\u001b[0m\u001b[0;34m(\u001b[0m\u001b[0;34m\"Numbers to eliminate: \"\u001b[0m\u001b[0;34m)\u001b[0m\u001b[0;34m\u001b[0m\u001b[0;34m\u001b[0m\u001b[0m\n\u001b[0;32m---> 16\u001b[0;31m     \u001b[0mto_remove\u001b[0m \u001b[0;34m=\u001b[0m \u001b[0;34m(\u001b[0m\u001b[0mparse_input\u001b[0m\u001b[0;34m(\u001b[0m\u001b[0mroll\u001b[0m\u001b[0;34m,\u001b[0m \u001b[0mremaining\u001b[0m\u001b[0;34m)\u001b[0m\u001b[0;34m)\u001b[0m\u001b[0;34m\u001b[0m\u001b[0;34m\u001b[0m\u001b[0m\n\u001b[0m\u001b[1;32m     17\u001b[0m \u001b[0;34m\u001b[0m\u001b[0m\n\u001b[1;32m     18\u001b[0m \u001b[0mprint\u001b[0m\u001b[0;34m(\u001b[0m\u001b[0meliminate\u001b[0m\u001b[0;34m,\u001b[0m \u001b[0mto_remove\u001b[0m\u001b[0;34m)\u001b[0m\u001b[0;34m\u001b[0m\u001b[0;34m\u001b[0m\u001b[0m\n",
      "\u001b[0;32m<ipython-input-168-7e1af87fd57f>\u001b[0m in \u001b[0;36mparse_input\u001b[0;34m(player_input, remaining)\u001b[0m\n\u001b[1;32m     44\u001b[0m     \"\"\"\n\u001b[1;32m     45\u001b[0m     \u001b[0;32mtry\u001b[0m\u001b[0;34m:\u001b[0m\u001b[0;34m\u001b[0m\u001b[0;34m\u001b[0m\u001b[0m\n\u001b[0;32m---> 46\u001b[0;31m         \u001b[0mchoices\u001b[0m \u001b[0;34m=\u001b[0m \u001b[0;34m[\u001b[0m\u001b[0mint\u001b[0m\u001b[0;34m(\u001b[0m\u001b[0mi\u001b[0m\u001b[0;34m)\u001b[0m \u001b[0;32mfor\u001b[0m \u001b[0mi\u001b[0m \u001b[0;32min\u001b[0m \u001b[0mplayer_input\u001b[0m\u001b[0;34m.\u001b[0m\u001b[0msplit\u001b[0m\u001b[0;34m(\u001b[0m\u001b[0;34m)\u001b[0m\u001b[0;34m]\u001b[0m\u001b[0;34m\u001b[0m\u001b[0;34m\u001b[0m\u001b[0m\n\u001b[0m\u001b[1;32m     47\u001b[0m         \u001b[0;32mif\u001b[0m \u001b[0mlen\u001b[0m\u001b[0;34m(\u001b[0m\u001b[0mset\u001b[0m\u001b[0;34m(\u001b[0m\u001b[0mchoices\u001b[0m\u001b[0;34m)\u001b[0m\u001b[0;34m)\u001b[0m \u001b[0;34m!=\u001b[0m \u001b[0mlen\u001b[0m\u001b[0;34m(\u001b[0m\u001b[0mchoices\u001b[0m\u001b[0;34m)\u001b[0m\u001b[0;34m:\u001b[0m\u001b[0;34m\u001b[0m\u001b[0;34m\u001b[0m\u001b[0m\n\u001b[1;32m     48\u001b[0m             \u001b[0;32mraise\u001b[0m \u001b[0mValueError\u001b[0m\u001b[0;34m\u001b[0m\u001b[0;34m\u001b[0m\u001b[0m\n",
      "\u001b[0;31mAttributeError\u001b[0m: 'int' object has no attribute 'split'"
     ]
    }
   ],
   "source": [
    "name = \"Loulou\"\n",
    "time_lim = 60\n",
    "start_time = time.time()\n",
    "time_left = start_time + time_lim\n",
    "remaining = list(range(1,13))\n",
    "\n",
    "### For each round\n",
    "roll = (random.randint(1,7) + random.randint(1,7))\n",
    "    \n",
    "print(\"Number left: \", remaining)\n",
    "print(\"Roll: \", roll)\n",
    "print(\"Seconds left\", round(time_left - time.time(), 2))\n",
    "\n",
    "if isvalid(roll, remaining) == True:\n",
    "    eliminate = input(\"Numbers to eliminate: \")\n",
    "    to_remove = (parse_input(roll, remaining))\n",
    "\n",
    "print(eliminate, to_remove)\n"
   ]
  },
  {
   "cell_type": "code",
   "execution_count": 159,
   "metadata": {},
   "outputs": [
    {
     "data": {
      "text/plain": [
       "[1, 2, 3, 4, 5, 6, 7, 8, 9, 10, 11, 12]"
      ]
     },
     "execution_count": 159,
     "metadata": {},
     "output_type": "execute_result"
    }
   ],
   "source": []
  },
  {
   "cell_type": "code",
   "execution_count": null,
   "metadata": {},
   "outputs": [],
   "source": []
  }
 ],
 "metadata": {
  "@webio": {
   "lastCommId": null,
   "lastKernelId": null
  },
  "kernelspec": {
   "display_name": "Python 3",
   "language": "python",
   "name": "python3"
  },
  "language_info": {
   "codemirror_mode": {
    "name": "ipython",
    "version": 3
   },
   "file_extension": ".py",
   "mimetype": "text/x-python",
   "name": "python",
   "nbconvert_exporter": "python",
   "pygments_lexer": "ipython3",
   "version": "3.7.3"
  }
 },
 "nbformat": 4,
 "nbformat_minor": 2
}
