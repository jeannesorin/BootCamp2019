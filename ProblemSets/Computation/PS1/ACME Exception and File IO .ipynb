{
 "cells": [
  {
   "cell_type": "code",
   "execution_count": null,
   "metadata": {},
   "outputs": [],
   "source": [
    "### PROBLEM 1\n",
    " \n",
    " \n",
    "def arithmagic():\n",
    "    step_1 = input(\"Enter a 3-digit number where the first and last \"\n",
    "                                           \"digits differ by 2 or more: \")\n",
    "    if len(str(step_1)) != 3:\n",
    "        raise Exception(\"The first number (\", step_1, \") is not a 3-digit number\")\n",
    "\n",
    "    if -2 < int(str(step_1)[0]) - int(str(step_1)[2]) < 2:\n",
    "        raise Exception(\"The first number's first and last digits differ by less than 2\")\n",
    "        \n",
    "    \n",
    "    step_2 = input(\"Enter the reverse of the first number, obtained \"\n",
    "                                              \"by reading it backwards: \")\n",
    "    \n",
    "    if ((str(step_1)[0] != str(step_2)[2]) |\n",
    "        (str(step_1)[1] != str(step_2)[1]) |\n",
    "        (str(step_1)[2] != str(step_2)[0])):\n",
    "        raise Exception(\"The second number (\", step_2, \") is not the reverse of the first number\")\n",
    "    \n",
    "    step_3 = input(\"Enter the positive difference of these numbers: \")\n",
    "    \n",
    "    if int(step_3) != abs(int(step_1) - int(step_2)):\n",
    "        raise Exception(\"The third number (\", step_3, \") is not the positive difference of the first two numbers\")\n",
    "    \n",
    "    \n",
    "    step_4 = input(\"Enter the reverse of the previous result: \")\n",
    "    \n",
    "    if ((str(step_3)[0] != str(step_4)[2]) |\n",
    "        (str(step_3)[1] != str(step_4)[1]) |\n",
    "        (str(step_3)[2] != str(step_4)[0])):\n",
    "        raise Exception(\"The fourth number (\", step_4, \") is not the reverse of the third number\")\n",
    "    \n",
    "    \n",
    "    print(str(step_3), \"+\", str(step_4), \"= 1089 (ta-da!)\")\n",
    "    \n",
    "arithmagic()   \n",
    "    \n",
    "    \n",
    "    "
   ]
  },
  {
   "cell_type": "code",
   "execution_count": 8,
   "metadata": {},
   "outputs": [],
   "source": [
    "### PROBLEM 2\n",
    "\n",
    "from random import choice\n",
    "\n",
    "def random_walk(max_iters=200000000):\n",
    "    walk = 0\n",
    "    directions = [1, -1]\n",
    "    interuption = 0\n",
    "    for i in range(int(max_iters)):\n",
    "        try:\n",
    "            walk += choice(directions)\n",
    "        except KeyboardInterrupt: \n",
    "            interuption = 1\n",
    "            print(\"Process interrupted at iteration \", i)\n",
    "            return(walk)\n",
    "    if interuption == 0:\n",
    "        print(\"Process completed\")\n",
    "    return walk\n"
   ]
  },
  {
   "cell_type": "code",
   "execution_count": 9,
   "metadata": {},
   "outputs": [
    {
     "name": "stdout",
     "output_type": "stream",
     "text": [
      "Process interrupted at iteration  2636552\n"
     ]
    },
    {
     "data": {
      "text/plain": [
       "-5874"
      ]
     },
     "execution_count": 9,
     "metadata": {},
     "output_type": "execute_result"
    }
   ],
   "source": [
    "random_walk()"
   ]
  },
  {
   "cell_type": "code",
   "execution_count": null,
   "metadata": {},
   "outputs": [],
   "source": []
  }
 ],
 "metadata": {
  "@webio": {
   "lastCommId": null,
   "lastKernelId": null
  },
  "kernelspec": {
   "display_name": "Python 3",
   "language": "python",
   "name": "python3"
  },
  "language_info": {
   "codemirror_mode": {
    "name": "ipython",
    "version": 3
   },
   "file_extension": ".py",
   "mimetype": "text/x-python",
   "name": "python",
   "nbconvert_exporter": "python",
   "pygments_lexer": "ipython3",
   "version": "3.7.3"
  }
 },
 "nbformat": 4,
 "nbformat_minor": 2
}
