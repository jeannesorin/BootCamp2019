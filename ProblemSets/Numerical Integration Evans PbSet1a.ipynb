{
 "cells": [
  {
   "cell_type": "code",
   "execution_count": 10,
   "metadata": {},
   "outputs": [],
   "source": [
    "import numpy as np\n",
    "import scipy as sp\n",
    "from matplotlib import pyplot as plt\n",
    "import math\n",
    "\n",
    "from scipy.stats import norm"
   ]
  },
  {
   "cell_type": "code",
   "execution_count": 11,
   "metadata": {},
   "outputs": [],
   "source": [
    "### PROBLEM 2.1\n",
    "\n",
    "\n",
    "g = lambda x: 0.1*x**4 - 1.5*x**3 + 0.53*x**2 + 2*x +1\n",
    "x = np.linspace(-10,10,500)\n",
    "gy = g(x)\n",
    "norm.cdf(gy) \n",
    "\n",
    "\n",
    "def function_NumInt1(g, a, b, N, method = {'midpoint', 'trapezoid', 'Simpsons'}):\n",
    "    if method == \"midpoint\":\n",
    "        cdf_num = 0\n",
    "        for i in range(0,N):\n",
    "            xi = a + (((2*i+1)*(b-a)))/(2*N)\n",
    "            cdf_num = cdf_num + g(xi)\n",
    "        cdf_num = ((b-a) / N) * cdf_num \n",
    "        \n",
    "    if method == \"trapezoid\":\n",
    "        x0 = a\n",
    "        xn = a + N*(b-a)/N\n",
    "        cdf_num = g(x0) + g(xn)\n",
    "        for i in range(1,N):\n",
    "            xi = a + i*(b-a)/N\n",
    "            cdf_num = cdf_num + 2*g(xi)\n",
    "        cdf_num = ((b-a) / (2*N)) * cdf_num \n",
    "\n",
    "    if method == \"Simpsons\":\n",
    "        x0 = a\n",
    "        x2N = a + 2*N*(b-a)/(2*2*N)\n",
    "        cdf_num = g(x0) + g(x2N)\n",
    "        for i in range(0,2*N):\n",
    "            xi = a + i*(b-a)/(2*N)\n",
    "            if (i % 2) == 0:\n",
    "                cdf_num = cdf_num + 2*g(xi)\n",
    "            else:\n",
    "                cdf_num = cdf_num + 4*g(xi)\n",
    "        cdf_num = ((b-a) / (6*N)) * cdf_num    \n",
    "    \n",
    "    return(cdf_num)\n"
   ]
  },
  {
   "cell_type": "code",
   "execution_count": 12,
   "metadata": {},
   "outputs": [
    {
     "data": {
      "text/plain": [
       "6205.266666666665"
      ]
     },
     "execution_count": 12,
     "metadata": {},
     "output_type": "execute_result"
    }
   ],
   "source": [
    "function_NumInt1(g, np.min(x), np.max(x), 10,\n",
    "                 'midpoint')\n",
    "\n",
    "function_NumInt1(g, np.min(x), np.max(x), 10,\n",
    "                 'trapezoid')\n",
    "\n",
    "function_NumInt1(g, np.min(x), np.max(x), 10,\n",
    "                 'Simpsons')"
   ]
  },
  {
   "cell_type": "code",
   "execution_count": 13,
   "metadata": {},
   "outputs": [
    {
     "name": "stdout",
     "output_type": "stream",
     "text": [
      "[-4.         -3.72413793 -3.44827586 -3.17241379 -2.89655172 -2.62068966\n",
      " -2.34482759 -2.06896552 -1.79310345 -1.51724138 -1.24137931 -0.96551724\n",
      " -0.68965517 -0.4137931  -0.13793103  0.13793103  0.4137931   0.68965517\n",
      "  0.96551724  1.24137931  1.51724138  1.79310345  2.06896552  2.34482759\n",
      "  2.62068966  2.89655172  3.17241379  3.44827586  3.72413793  4.        ]\n",
      "[-4.         -3.72413793 -3.44827586 -3.17241379 -2.89655172 -2.62068966\n",
      " -2.34482759 -2.06896552 -1.79310345 -1.51724138 -1.24137931 -0.96551724\n",
      " -0.68965517 -0.4137931  -0.13793103  0.13793103  0.4137931   0.68965517\n",
      "  0.96551724  1.24137931  1.51724138  1.79310345  2.06896552  2.34482759\n",
      "  2.62068966  2.89655172  3.17241379  3.44827586  3.72413793  4.        ]\n"
     ]
    },
    {
     "data": {
      "image/png": "[encoded data removed]",
      "text/plain": [
       "<Figure size 432x288 with 1 Axes>"
      ]
     },
     "metadata": {
      "needs_background": "light"
     },
     "output_type": "display_data"
    }
   ],
   "source": [
    "### PROBLEM 2.2\n",
    "\n",
    "def function_NewtonCotes(mu, sigma, N, k):\n",
    "    \n",
    "\n",
    "    # Compute the nodes (where to approximate the function then)\n",
    "    # Furthest nodes = k standard deviations from mu\n",
    "    Z = np.linspace(mu - sigma*k, mu +sigma*k, N)\n",
    "    #Z = np.exp(Z)\n",
    "    print(Z)\n",
    "    \n",
    "    # Define cdf and pdf of normal\n",
    "    f = lambda x, mu, sigma: sp.stats.norm.pdf(x, mu, sigma)\n",
    "    F = lambda x, mu, sigma: sp.stats.norm.cdf(x, mu, sigma)\n",
    "    \n",
    "    # Compute the weights\n",
    "    w = []\n",
    "    for i in range(1,N+1): \n",
    "        if i == 1:\n",
    "            w.append(F((Z[i-1] + Z[i])/2, mu, sigma))\n",
    "        if i in range(2,N):\n",
    "            Zmax = (Z[i-1] + Z[i])/2\n",
    "            Zmin = (Z[i-2] + Z[i-1])/2\n",
    "            w.append(F(Zmax, mu, sigma) - F(Zmin, mu, sigma))  \n",
    "        if (i==N):\n",
    "            w.append(1 - F((Z[i-2] + Z[i-1])/2, mu, sigma))\n",
    "    \n",
    "\n",
    "    pdfw = w * f(Z, mu, sigma)\n",
    "    CDF = np.cumsum(pdfw)\n",
    "    #CDF = np.cumsum(w)\n",
    "\n",
    "    return(Z, w, CDF)\n",
    "\n",
    "\n",
    "plt.plot(function_NewtonCotes(0, 1, 30, 4)[0],\n",
    "        function_NewtonCotes(0, 1, 30, 4)[2])\n",
    "\n",
    "f = lambda x, mu, sigma: sp.stats.norm.pdf(x, mu, sigma)\n",
    "#pdf = f(Z[i-1], mu, sigma)\n",
    "# Here, we have F and f, but in the general case we might not know the function\n",
    "  "
   ]
  },
  {
   "cell_type": "code",
   "execution_count": 14,
   "metadata": {},
   "outputs": [
    {
     "name": "stdout",
     "output_type": "stream",
     "text": [
      "[-3.  -2.4 -1.8 -1.2 -0.6  0.   0.6  1.2  1.8  2.4  3. ]\n",
      "[-3.  -2.4 -1.8 -1.2 -0.6  0.   0.6  1.2  1.8  2.4  3. ]\n",
      "[0.00346697 0.01786442 0.0668072  0.18406013 0.38208858 0.61791142\n",
      " 0.81593987 0.9331928  0.98213558 0.99653303 1.        ]\n",
      "[-3.  -2.4 -1.8 -1.2 -0.6  0.   0.6  1.2  1.8  2.4  3. ]\n",
      "[-3.  -2.4 -1.8 -1.2 -0.6  0.   0.6  1.2  1.8  2.4  3. ]\n",
      "[0.00346697 0.01786442 0.0668072  0.18406013 0.38208858 0.61791142\n",
      " 0.81593987 0.9331928  0.98213558 0.99653303 1.        ]\n"
     ]
    },
    {
     "data": {
      "text/plain": [
       "[<matplotlib.lines.Line2D at 0x10a00fcf8>]"
      ]
     },
     "execution_count": 14,
     "metadata": {},
     "output_type": "execute_result"
    },
    {
     "data": {
      "image/png": "[encoded data removed]",
      "text/plain": [
       "<Figure size 432x288 with 1 Axes>"
      ]
     },
     "metadata": {
      "needs_background": "light"
     },
     "output_type": "display_data"
    }
   ],
   "source": [
    "### PROBLEM 2.3\n",
    "#function_NewtonCotes(0, 1, 11,3)\n",
    "def function_NewtonCotesLog(mu, sigma, N, k):\n",
    "    z = np.exp(function_NewtonCotes(mu, sigma, N, k)[0])\n",
    "    w = function_NewtonCotes(mu, sigma, N, k)[1]\n",
    "    cdf = np.cumsum(w)\n",
    "    print(cdf)\n",
    "    return(z,w,cdf)\n",
    "\n",
    "plt.plot(function_NewtonCotesLog(0, 1, 11, 3)[0],\n",
    "        function_NewtonCotesLog(0, 1, 11, 3)[2])\n",
    "\n"
   ]
  },
  {
   "cell_type": "code",
   "execution_count": 15,
   "metadata": {},
   "outputs": [
    {
     "name": "stdout",
     "output_type": "stream",
     "text": [
      "[ 8.1   8.58  9.06  9.54 10.02 10.5  10.98 11.46 11.94 12.42 12.9 ]\n",
      "[ 8.1   8.58  9.06  9.54 10.02 10.5  10.98 11.46 11.94 12.42 12.9 ]\n",
      "[0.00346697 0.01786442 0.0668072  0.18406013 0.38208858 0.61791142\n",
      " 0.81593987 0.9331928  0.98213558 0.99653303 1.        ]\n",
      "[ 8.1   8.58  9.06  9.54 10.02 10.5  10.98 11.46 11.94 12.42 12.9 ]\n",
      "[ 8.1   8.58  9.06  9.54 10.02 10.5  10.98 11.46 11.94 12.42 12.9 ]\n",
      "[0.00346697 0.01786442 0.0668072  0.18406013 0.38208858 0.61791142\n",
      " 0.81593987 0.9331928  0.98213558 0.99653303 1.        ]\n",
      "[ 8.1   8.58  9.06  9.54 10.02 10.5  10.98 11.46 11.94 12.42 12.9 ]\n",
      "[ 8.1   8.58  9.06  9.54 10.02 10.5  10.98 11.46 11.94 12.42 12.9 ]\n",
      "[0.00346697 0.01786442 0.0668072  0.18406013 0.38208858 0.61791142\n",
      " 0.81593987 0.9331928  0.98213558 0.99653303 1.        ]\n",
      "[ 8.1   8.58  9.06  9.54 10.02 10.5  10.98 11.46 11.94 12.42 12.9 ]\n",
      "[ 8.1   8.58  9.06  9.54 10.02 10.5  10.98 11.46 11.94 12.42 12.9 ]\n",
      "[0.00346697 0.01786442 0.0668072  0.18406013 0.38208858 0.61791142\n",
      " 0.81593987 0.9331928  0.98213558 0.99653303 1.        ]\n",
      "[ 8.1   8.58  9.06  9.54 10.02 10.5  10.98 11.46 11.94 12.42 12.9 ]\n",
      "[ 8.1   8.58  9.06  9.54 10.02 10.5  10.98 11.46 11.94 12.42 12.9 ]\n",
      "[0.00346697 0.01786442 0.0668072  0.18406013 0.38208858 0.61791142\n",
      " 0.81593987 0.9331928  0.98213558 0.99653303 1.        ]\n",
      "[ 8.1   8.58  9.06  9.54 10.02 10.5  10.98 11.46 11.94 12.42 12.9 ]\n",
      "[ 8.1   8.58  9.06  9.54 10.02 10.5  10.98 11.46 11.94 12.42 12.9 ]\n",
      "[0.00346697 0.01786442 0.0668072  0.18406013 0.38208858 0.61791142\n",
      " 0.81593987 0.9331928  0.98213558 0.99653303 1.        ]\n"
     ]
    },
    {
     "data": {
      "text/plain": [
       "array([  3294.46807528,   5324.10552531,   8604.15065402,  13904.94762458,\n",
       "        22471.42991992,  36315.50267425,  58688.55427462,  94845.07026492,\n",
       "       153276.69022932, 247706.53553245, 400312.19132988])"
      ]
     },
     "execution_count": 15,
     "metadata": {},
     "output_type": "execute_result"
    },
    {
     "data": {
      "image/png": "[encoded data removed]",
      "text/plain": [
       "<Figure size 432x288 with 1 Axes>"
      ]
     },
     "metadata": {
      "needs_background": "light"
     },
     "output_type": "display_data"
    }
   ],
   "source": [
    "### PROBLEM 2.4\n",
    "\n",
    "function_NewtonCotesLog(10.5, 0.8, 11, 3)\n",
    "plt.plot(function_NewtonCotesLog(10.5, 0.8, 11, 3)[0],\n",
    "        function_NewtonCotesLog(10.5, 0.8, 11, 3)[2])\n",
    "\n",
    "np.sum(function_NewtonCotesLog(10.5, 0.8, 11, 3)[1] * \n",
    "      function_NewtonCotesLog(10.5, 0.8, 11, 3)[0]) \n",
    "\n",
    "function_NewtonCotesLog(10.5, 0.8, 11, 3)[0]"
   ]
  },
  {
   "cell_type": "code",
   "execution_count": 16,
   "metadata": {},
   "outputs": [],
   "source": [
    "### PROBLEM 3.1\n",
    "\n",
    "g = lambda x: 0.1*x**4 - 1.5*x**3 + 0.53*x**2 + 2*x +1\n",
    "x = np.linspace(-10,10,500)\n",
    "gy = g(x)\n",
    "norm.cdf(gy) \n",
    "\n",
    "\n",
    "def function_NumInt1():\n",
    "\n",
    "    h1 = lambda w1, w2, w3, x1, x2, x3: x - w1 + w2 + w3\n",
    "    h2 = lambda w1, w2, w3, x1, x2, x3: x1**2/2 + x2**2/2 + x3**2/2 - w1*x1 + w2*x2 + w3*x3\n",
    "    h3 = lambda w1, w2, w3, x1, x2, x3: x1**3/3 + x2**3/3 + x3**3/3 - w1*x1**2 + w2*x2**2 + w3*x3**2\n",
    "    h4 = lambda w1, w2, w3, x1, x2, x3: x1**4/4 + x2**4/4 + x3**4/4 - w1*x1**3 + w2*x2**3 + w3*x3**3\n",
    "    h5 = lambda w1, w2, w3, x1, x2, x3: x1**5/5 + x2**5/5 + x3**5/5 - w1*x1**4 + w2*x2**4 + w3*x3**4\n",
    "    h6 = lambda w1, w2, w3, x1, x2, x3: x1**6/6 + x2**6/6 + x3**6/6 - w1*x1**5 + w2*x2**5 + w3*x3**5\n",
    "\n",
    "    h = (h1, h2, h3, h4, h5, h6)\n",
    "    initial = (0,0,0,0,0,0)\n",
    "\n",
    "    sp.optimize.root(h, initial)\n",
    "\n",
    "#function_NumInt1()"
   ]
  },
  {
   "cell_type": "code",
   "execution_count": 17,
   "metadata": {},
   "outputs": [
    {
     "data": {
      "text/plain": [
       "0.0"
      ]
     },
     "execution_count": 17,
     "metadata": {},
     "output_type": "execute_result"
    }
   ],
   "source": [
    "### PROBLEM 3.2\n",
    "\n",
    "from scipy import integrate\n",
    "# Use the Python gaussian quadrature command\n",
    "g = lambda x: 0.1*x**4 - 1.5*x**3 + 0.53*x**2 +2*x + 1\n",
    "value, error = integrate.quad(g, -10, 10)\n",
    "\n",
    "# Obtain the value analytically\n",
    "G = lambda x: (0.1/5)*x**5 - (1.5/4)*x**4 + (0.53/3)*x**3 + x**2 + x\n",
    "true_value = G(10) - G(-10)\n",
    "\n",
    "Diff = abs(value - true_value)\n",
    "Diff"
   ]
  },
  {
   "cell_type": "code",
   "execution_count": 18,
   "metadata": {},
   "outputs": [],
   "source": [
    "### PROBLEM 4.1\n",
    "def g(x,y):\n",
    "    return(((x**2) + y**2 <= 1)*1)\n",
    "\n",
    "omega = np.array([[-1,1,-1,1]])\n",
    "xs = np.array([0, 0, 1, 1])\n",
    "ys = np.array([0, 1, 1, 0])\n",
    "X = [xs, ys]\n",
    "\n",
    "import math\n",
    "def truncate(number, digits) -> float:\n",
    "    stepper = 10.0 ** digits\n",
    "    return math.trunc(stepper * number) / stepper\n",
    "\n",
    "def approx_pi(omega, n, g):\n",
    "    \n",
    "    x = np.random.uniform(omega[0,0], omega[0,1], n)\n",
    "    y = np.random.uniform(omega[0,0], omega[0,1], n)\n",
    "    g_approx = lambda x, y, n: (4/n) * np.sum((g(x,y)))\n",
    "    result_approx = g_approx(x, y, n)\n",
    "    result_approx = truncate(result_approx, 4)\n",
    "    #print(n, result_approx)\n",
    "    error = result_approx - 3.1415\n",
    "    print(n, result_approx, error)\n",
    "    if error == 0.0 :\n",
    "        return(\"Success\", n, result_approx, error)\n",
    "    if abs(error) > 0.0:\n",
    "        print(\"Try a larger N...\")\n"
   ]
  },
  {
   "cell_type": "code",
   "execution_count": 19,
   "metadata": {},
   "outputs": [
    {
     "name": "stdout",
     "output_type": "stream",
     "text": [
      "10000000 3.1419 0.00039999999999995595\n",
      "Try a larger N...\n"
     ]
    }
   ],
   "source": [
    "approx_pi(omega, 10000000, g)"
   ]
  },
  {
   "cell_type": "code",
   "execution_count": null,
   "metadata": {},
   "outputs": [],
   "source": []
  }
 ],
 "metadata": {
  "@webio": {
   "lastCommId": null,
   "lastKernelId": null
  },
  "kernelspec": {
   "display_name": "Python 3",
   "language": "python",
   "name": "python3"
  },
  "language_info": {
   "codemirror_mode": {
    "name": "ipython",
    "version": 3
   },
   "file_extension": ".py",
   "mimetype": "text/x-python",
   "name": "python",
   "nbconvert_exporter": "python",
   "pygments_lexer": "ipython3",
   "version": "3.7.3"
  }
 },
 "nbformat": 4,
 "nbformat_minor": 2
}
